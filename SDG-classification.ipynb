{
 "cells": [
  {
   "cell_type": "markdown",
   "id": "chicken-swedish",
   "metadata": {},
   "source": [
    "# 永續課程分類"
   ]
  },
  {
   "cell_type": "markdown",
   "id": "dental-sample",
   "metadata": {},
   "source": [
    "執行方式:\n",
    "- 基本上就是直接跑過整個檔案\n",
    "- 要確定有 \"課程SDG分類_20220610-v2.xlsx\" 以及 \"embedding_tensor.pt\" 這兩個檔案，以及正確的 config 路徑設定\n",
    "  (若是要重新計算所有文本的 Embedding，那就把 In [26] 的註解拿掉，這樣就不需要先有 \"embedding_tensor.pt\" 這個檔案也可以跑)\n",
    "\n",
    "---\n",
    "\n",
    "程式碼區塊提醒:\n",
    "\n",
    "In [6] : 可以修改任務相關的 Config 設定 (e.g. 超參數、檔案路徑)\n",
    "\n",
    "In [26]: 用來計算文本的 Embedding (如果有做新的前處理的話，就要把這個 Cell 的註解拿掉，重新跑一次計算 Embedding)\n",
    "\n",
    "---\n",
    "\n",
    "可能ㄉ優化方向:\n",
    "- 額外前處理\n",
    "- 調整文本的切割方式\n",
    "- 更換 PLM\n",
    "- 調整下游模型架構 or 超參數\n",
    "- 調整類別權重\n",
    "- 針對 SDG 各類別之間的關係建模 (大概看了一下發現有些類別好像很常一起出現)\n",
    "\n",
    "---\n",
    "\n",
    "目前問題:\n",
    "- 目前是用 Validation Data 拿來當作 Test Data 評估最終結果，但似乎有失公正性\n",
    "- 目前的評估方法不確定是否正確"
   ]
  },
  {
   "cell_type": "markdown",
   "id": "nonprofit-buying",
   "metadata": {},
   "source": [
    "## 載入套件"
   ]
  },
  {
   "cell_type": "code",
   "execution_count": 1,
   "id": "nearby-application",
   "metadata": {},
   "outputs": [
    {
     "name": "stdout",
     "output_type": "stream",
     "text": [
      "Failed to initialize NVML: Driver/library version mismatch\r\n"
     ]
    }
   ],
   "source": [
    "!nvidia-smi"
   ]
  },
  {
   "cell_type": "code",
   "execution_count": 2,
   "id": "stunning-mauritius",
   "metadata": {},
   "outputs": [],
   "source": [
    "import gc\n",
    "import math\n",
    "import random\n",
    "import statistics\n",
    "from tqdm import tqdm"
   ]
  },
  {
   "cell_type": "code",
   "execution_count": 3,
   "id": "sustainable-monte",
   "metadata": {},
   "outputs": [
    {
     "name": "stderr",
     "output_type": "stream",
     "text": [
      "Matplotlib created a temporary config/cache directory at /tmp/matplotlib-kz7qc5ty because the default path (/home/emma/.config/matplotlib) is not a writable directory; it is highly recommended to set the MPLCONFIGDIR environment variable to a writable directory, in particular to speed up the import of Matplotlib and to better support multiprocessing.\n"
     ]
    }
   ],
   "source": [
    "import numpy as np\n",
    "import pandas as pd\n",
    "import matplotlib.pyplot as plt\n",
    "import seaborn as sns"
   ]
  },
  {
   "cell_type": "code",
   "execution_count": 4,
   "id": "optimum-vacation",
   "metadata": {},
   "outputs": [],
   "source": [
    "import torch\n",
    "import torch.nn as nn\n",
    "import torch.nn.functional as F\n",
    "from torch.utils.data import DataLoader, Dataset \n",
    "\n",
    "from transformers import BertTokenizerFast, AutoModel\n",
    "from transformers import AdamW, get_linear_schedule_with_warmup\n",
    "\n",
    "from sklearn.model_selection import train_test_split"
   ]
  },
  {
   "cell_type": "code",
   "execution_count": 5,
   "id": "romantic-marsh",
   "metadata": {},
   "outputs": [],
   "source": [
    "pd.options.mode.chained_assignment = None"
   ]
  },
  {
   "cell_type": "code",
   "execution_count": 6,
   "id": "brave-virginia",
   "metadata": {},
   "outputs": [],
   "source": [
    "# config\n",
    "config = {\n",
    "    \"file_path\": \"課程SDG分類_20220610-v2.xlsx\",\n",
    "    \"embedding_path\": \"embedding_tensor.pt\",\n",
    "    \"model_path\": 'model.ckpt',\n",
    "    \"val_size\": 0.3,\n",
    "    \"seed\": 42,\n",
    "    \"max_chunk_size\": 128,  # 一個 Chunk 的字數上限\n",
    "    \"max_chunk_num\": 30,    # 一筆資料的 Chunk 數量上限 \n",
    "    \"learning_rate\": 3e-4,  \n",
    "    \"batch_size\": 64,\n",
    "    \"epochs\": 200,\n",
    "    \"patience\": 20,\n",
    "}"
   ]
  },
  {
   "cell_type": "code",
   "execution_count": 7,
   "id": "direct-celtic",
   "metadata": {},
   "outputs": [],
   "source": [
    "# fix random seed\n",
    "def set_seed(seed):\n",
    "    random.seed(seed)\n",
    "    np.random.seed(seed)\n",
    "    torch.manual_seed(seed)\n",
    "    if torch.cuda.is_available():\n",
    "        torch.cuda.manual_seed(seed)\n",
    "        torch.cuda.manual_seed_all(seed)  \n",
    "    torch.backends.cudnn.benchmark = False\n",
    "    torch.backends.cudnn.deterministic = True"
   ]
  },
  {
   "cell_type": "code",
   "execution_count": 8,
   "id": "artistic-somerset",
   "metadata": {},
   "outputs": [
    {
     "name": "stderr",
     "output_type": "stream",
     "text": [
      "/home/emma/bilab/kuokuo/kuokuo_env/lib/python3.6/site-packages/torch/cuda/__init__.py:80: UserWarning: CUDA initialization: Unexpected error from cudaGetDeviceCount(). Did you run some cuda functions before calling NumCudaDevices() that might have already set an error? Error 804: forward compatibility was attempted on non supported HW (Triggered internally at  ../c10/cuda/CUDAFunctions.cpp:112.)\n",
      "  return torch._C._cuda_getDeviceCount() > 0\n"
     ]
    }
   ],
   "source": [
    "set_seed(config[\"seed\"])"
   ]
  },
  {
   "cell_type": "markdown",
   "id": "quantitative-athens",
   "metadata": {},
   "source": [
    "## 文本前處理"
   ]
  },
  {
   "cell_type": "code",
   "execution_count": 9,
   "id": "exact-slovak",
   "metadata": {},
   "outputs": [
    {
     "name": "stdout",
     "output_type": "stream",
     "text": [
      "(4257, 29)\n",
      "(1502, 29)\n",
      "(1289, 29)\n",
      "(1182, 29)\n"
     ]
    },
    {
     "data": {
      "text/html": [
       "<div>\n",
       "<style scoped>\n",
       "    .dataframe tbody tr th:only-of-type {\n",
       "        vertical-align: middle;\n",
       "    }\n",
       "\n",
       "    .dataframe tbody tr th {\n",
       "        vertical-align: top;\n",
       "    }\n",
       "\n",
       "    .dataframe thead th {\n",
       "        text-align: right;\n",
       "    }\n",
       "</style>\n",
       "<table border=\"1\" class=\"dataframe\">\n",
       "  <thead>\n",
       "    <tr style=\"text-align: right;\">\n",
       "      <th></th>\n",
       "      <th>課程代號</th>\n",
       "      <th>課名</th>\n",
       "      <th>課程大綱課程概述</th>\n",
       "      <th>課程目標</th>\n",
       "      <th>SDG1</th>\n",
       "      <th>SDG2</th>\n",
       "      <th>SDG3</th>\n",
       "      <th>SDG4</th>\n",
       "      <th>SDG5</th>\n",
       "      <th>SDG6</th>\n",
       "      <th>...</th>\n",
       "      <th>SDG8</th>\n",
       "      <th>SDG9</th>\n",
       "      <th>SDG10</th>\n",
       "      <th>SDG11</th>\n",
       "      <th>SDG12</th>\n",
       "      <th>SDG13</th>\n",
       "      <th>SDG14</th>\n",
       "      <th>SDG15</th>\n",
       "      <th>SDG16</th>\n",
       "      <th>SDG17</th>\n",
       "    </tr>\n",
       "  </thead>\n",
       "  <tbody>\n",
       "    <tr>\n",
       "      <th>0</th>\n",
       "      <td>801 18000</td>\n",
       "      <td>公共衛生學</td>\n",
       "      <td>公共衛生為一科際整合的科學，其範疇橫跨流行病學、生物統計、社區醫學與預防保健、環境衛生、職業...</td>\n",
       "      <td>修完此課程，期望同學將能夠：\\n\\n1.瞭解公共衛生的基本概念與重要內涵。\\n\\n2.瞭解台...</td>\n",
       "      <td>0.0</td>\n",
       "      <td>0.0</td>\n",
       "      <td>1.0</td>\n",
       "      <td>0.0</td>\n",
       "      <td>0.0</td>\n",
       "      <td>0.0</td>\n",
       "      <td>...</td>\n",
       "      <td>0.0</td>\n",
       "      <td>0.0</td>\n",
       "      <td>0.0</td>\n",
       "      <td>0.0</td>\n",
       "      <td>0.0</td>\n",
       "      <td>0.0</td>\n",
       "      <td>0.0</td>\n",
       "      <td>0.0</td>\n",
       "      <td>0.0</td>\n",
       "      <td>0.0</td>\n",
       "    </tr>\n",
       "  </tbody>\n",
       "</table>\n",
       "<p>1 rows × 21 columns</p>\n",
       "</div>"
      ],
      "text/plain": [
       "        課程代號     課名                                           課程大綱課程概述  \\\n",
       "0  801 18000  公共衛生學  公共衛生為一科際整合的科學，其範疇橫跨流行病學、生物統計、社區醫學與預防保健、環境衛生、職業...   \n",
       "\n",
       "                                                課程目標  SDG1  SDG2  SDG3  SDG4  \\\n",
       "0  修完此課程，期望同學將能夠：\\n\\n1.瞭解公共衛生的基本概念與重要內涵。\\n\\n2.瞭解台...   0.0   0.0   1.0   0.0   \n",
       "\n",
       "   SDG5  SDG6  ...  SDG8  SDG9  SDG10  SDG11  SDG12  SDG13  SDG14  SDG15  \\\n",
       "0   0.0   0.0  ...   0.0   0.0    0.0    0.0    0.0    0.0    0.0    0.0   \n",
       "\n",
       "   SDG16  SDG17  \n",
       "0    0.0    0.0  \n",
       "\n",
       "[1 rows x 21 columns]"
      ]
     },
     "execution_count": 9,
     "metadata": {},
     "output_type": "execute_result"
    }
   ],
   "source": [
    "# 讀取資料\n",
    "df_dirty = pd.read_excel(config[\"file_path\"], engine='openpyxl')\n",
    "print(df_dirty.shape)\n",
    "\n",
    "######################## 移除 Rows ########################\n",
    "# 移除整列都是空值的資料\n",
    "df_dirty = df_dirty.dropna(axis=0, how='all')\n",
    "print(df_dirty.shape)\n",
    "\n",
    "# 移除服務學習、碩博士論文、專題研究\n",
    "drop_values = [\"服務學習\", \"專題研究\", \"碩士論文\", \"博士論文\", \"書報討論\", \"專題討論\"]\n",
    "for drop_value in drop_values:\n",
    "    df_dirty = df_dirty[~df_dirty[\"課名\"].str.contains(drop_value)]\n",
    "print(df_dirty.shape)\n",
    "\n",
    "# 移除課程資訊包含 \"待補\" 的課程\n",
    "df_dirty = df_dirty[df_dirty[\"課程大綱課程概述\"] != \"待補\"]\n",
    "df_dirty = df_dirty[df_dirty[\"課程目標\"] != \"待補\"]\n",
    "print(df_dirty.shape)\n",
    "\n",
    "######################## 移除 Cols ########################\n",
    "# 移除不需要的欄位\n",
    "drop_list = [\"學年度-學期\", \"dpt_code\", \"學院\", \"系所\", \"班次\", \"tea_code\", \"授課教師\", \"課程要求\"]\n",
    "df_dirty = df_dirty.drop(drop_list, axis=1)\n",
    "\n",
    "# 重設索引並查看資料表\n",
    "df_clean = df_dirty.reset_index(drop=True)\n",
    "df_clean.head(1)"
   ]
  },
  {
   "cell_type": "code",
   "execution_count": 10,
   "id": "violent-accounting",
   "metadata": {},
   "outputs": [],
   "source": [
    "# 加入合併欄位後的新欄位 Context\n",
    "df_clean[\"context\"] = df_clean.apply(lambda row: f\"課名：{row.課名}$$$大綱：{row.課程大綱課程概述}$$$目標：{row.課程目標}\", axis=1)\n",
    "\n",
    "# 去除換行符號\n",
    "df_clean[\"context\"] = df_clean[\"context\"].apply(lambda x: x.replace(\"\\n\", \"\"))"
   ]
  },
  {
   "cell_type": "code",
   "execution_count": 11,
   "id": "functioning-worth",
   "metadata": {},
   "outputs": [
    {
     "data": {
      "text/plain": [
       "'課名：公共衛生學$$$大綱：公共衛生為一科際整合的科學，其範疇橫跨流行病學、生物統計、社區醫學與預防保健、環境衛生、職業醫學、工業衛生、衛生政策、醫療管理、健康行為與衛生教育等層面。本課程的目的在於提供學習者對於公共衛生的一個鳥瞰圖，由宏觀的觀點切入，認識何謂公共衛生、公共衛生所涵括的內容、以及我國公共衛生的過去、現在及未來發展趨勢。$$$目標：修完此課程，期望同學將能夠：1.瞭解公共衛生的基本概念與重要內涵。2.瞭解台灣公共衛生的成就與面臨的挑戰。3.體會如何以基本公共衛生觀點來分析社會上發生的健康相關事件。'"
      ]
     },
     "execution_count": 11,
     "metadata": {},
     "output_type": "execute_result"
    }
   ],
   "source": [
    "# Context 範例\n",
    "df_clean[\"context\"][0]"
   ]
  },
  {
   "cell_type": "code",
   "execution_count": 12,
   "id": "approximate-maldives",
   "metadata": {},
   "outputs": [],
   "source": [
    "def ChunkS(text, chunk_size):\n",
    "    chunk_char = [\"$$$\", \"一、\", \"二、\", \"三、\", \"四、\", \"五、\", \"六、\", \"(一)\", \"(二)\", \"(三)\", \"(四)\", \"(五)\", \"(六)\", \"1.\", \"2.\", \"3.\", \"4.\", \"5.\", \"6.\", \"。\", \"！\", \"？\", \"，\", \"、\", \"_\", \"END\"]  # 自己加字符\n",
    "    if len(text) <= chunk_size:\n",
    "        return f'{text.strip()}'\n",
    "    for cchar in chunk_char:\n",
    "        cchar_len = len(cchar)\n",
    "        i = text.rfind(cchar, 0, chunk_size)\n",
    "        if i == -1:\n",
    "            if cchar != \"END\":\n",
    "                continue\n",
    "            return f'{text[:chunk_size].strip()}<CHUNK>{ChunkS(text[chunk_size+1:], chunk_size)}'\n",
    "        # 不同長度的切割字元，要給不同的切分位置\n",
    "        if cchar_len == 1:  # 單個符號保留在前句(ex. 。)\n",
    "            return f'{text[:i+1].strip()}<CHUNK>{ChunkS(text[i+1:], chunk_size)}'\n",
    "        else:  # 多個符號保留在後句(ex. 1.)\n",
    "            return f'{text[:i].strip()}<CHUNK>{cchar+ChunkS(text[i+cchar_len:], chunk_size)}'\n",
    "\n",
    "def short_sentence(text, chunk_size):\n",
    "    '''Chunking long document to multi short sentences, base on \"。\", \"！\", \"？\", \"，\" etc.'''\n",
    "    return ChunkS(text, chunk_size).split(\"<CHUNK>\")"
   ]
  },
  {
   "cell_type": "code",
   "execution_count": 13,
   "id": "historic-termination",
   "metadata": {},
   "outputs": [],
   "source": [
    "# 將 Context 切分成多個短子句 Context chunk\n",
    "df_clean[\"context_chunk\"] = df_clean[\"context\"].apply(short_sentence, chunk_size=config[\"max_chunk_size\"])\n",
    "# 移除分隔符號 ($$$)\n",
    "df_clean[\"context_chunk\"] = df_clean[\"context_chunk\"].apply(lambda x: [c.strip(\"$$$\") for c in x])\n",
    "df_clean[\"context_chunk\"] = df_clean[\"context_chunk\"].apply(lambda x: [c.replace(\"$$$\", \"。\") for c in x])"
   ]
  },
  {
   "cell_type": "code",
   "execution_count": 14,
   "id": "experimental-somewhere",
   "metadata": {},
   "outputs": [
    {
     "name": "stdout",
     "output_type": "stream",
     "text": [
      "課名：公共衛生學\n",
      "------------\n",
      "大綱：公共衛生為一科際整合的科學，其範疇橫跨流行病學、生物統計、社區醫學與預防保健、環境衛生、職業醫學、工業衛生、衛生政策、醫療管理、健康行為與衛生教育等層面。\n",
      "------------\n",
      "本課程的目的在於提供學習者對於公共衛生的一個鳥瞰圖，由宏觀的觀點切入，認識何謂公共衛生、公共衛生所涵括的內容、以及我國公共衛生的過去、現在及未來發展趨勢。\n",
      "------------\n",
      "目標：修完此課程，期望同學將能夠：1.瞭解公共衛生的基本概念與重要內涵。2.瞭解台灣公共衛生的成就與面臨的挑戰。3.體會如何以基本公共衛生觀點來分析社會上發生的健康相關事件。\n",
      "------------\n"
     ]
    }
   ],
   "source": [
    "# Context Chunk 範例\n",
    "for chunk in df_clean.loc[0, \"context_chunk\"]:\n",
    "    print(chunk + \"\\n------------\")"
   ]
  },
  {
   "cell_type": "code",
   "execution_count": 15,
   "id": "insured-apparel",
   "metadata": {},
   "outputs": [
    {
     "name": "stdout",
     "output_type": "stream",
     "text": [
      "['課程代號', '課名', '課程大綱課程概述', '課程目標', 'SDG1', 'SDG2', 'SDG3', 'SDG4', 'SDG5', 'SDG6', 'SDG7', 'SDG8', 'SDG9', 'SDG10', 'SDG11', 'SDG12', 'SDG13', 'SDG14', 'SDG15', 'SDG16', 'SDG17', 'context', 'context_chunk']\n"
     ]
    }
   ],
   "source": [
    "# 查看最終擁有的欄位\n",
    "print(df_clean.columns.to_list())"
   ]
  },
  {
   "cell_type": "code",
   "execution_count": 16,
   "id": "going-rubber",
   "metadata": {},
   "outputs": [
    {
     "name": "stdout",
     "output_type": "stream",
     "text": [
      "課程大綱課程概述\n",
      "Max count: 5573\n",
      "Median count: 192.0\n",
      "Quantiles count: [ 98. 432.]\n"
     ]
    },
    {
     "data": {
      "image/png": "[encoded data removed]",
      "text/plain": [
       "<Figure size 640x480 with 1 Axes>"
      ]
     },
     "metadata": {
      "needs_background": "light"
     },
     "output_type": "display_data"
    },
    {
     "name": "stdout",
     "output_type": "stream",
     "text": [
      "課程目標\n",
      "Max count: 1722\n",
      "Median count: 87.0\n",
      "Quantiles count: [ 40.   179.75]\n"
     ]
    },
    {
     "data": {
      "image/png": "[encoded data removed]",
      "text/plain": [
       "<Figure size 640x480 with 1 Axes>"
      ]
     },
     "metadata": {
      "needs_background": "light"
     },
     "output_type": "display_data"
    },
    {
     "name": "stdout",
     "output_type": "stream",
     "text": [
      "context\n",
      "Max count: 5423\n",
      "Median count: 349.5\n",
      "Quantiles count: [198.25 623.5 ]\n"
     ]
    },
    {
     "data": {
      "image/png": "[encoded data removed]",
      "text/plain": [
       "<Figure size 640x480 with 1 Axes>"
      ]
     },
     "metadata": {
      "needs_background": "light"
     },
     "output_type": "display_data"
    }
   ],
   "source": [
    "# 觀察重要欄位的字數分佈\n",
    "column_list = ['課程大綱課程概述', '課程目標', \"context\"]\n",
    "for col in column_list:  \n",
    "    word_counts = [len(each) if type(each) == str else 0 for each in df_clean[col]]\n",
    "    print(col)\n",
    "    max_count = max(word_counts)\n",
    "    median_count = statistics.median(word_counts)\n",
    "    quantiles_count = np.quantile(word_counts, q = np.arange(0.25, 1, 0.5))\n",
    "    print(f\"Max count: {max_count}\")\n",
    "    print(f\"Median count: {median_count}\")\n",
    "    print(f\"Quantiles count: {quantiles_count}\")\n",
    "    plt.figure(figsize=(8, 6), dpi=80)\n",
    "    n, bins, patches = plt.hist(word_counts, bins=150)\n",
    "    plt.xlabel(\"Word Count\")\n",
    "    plt.ylabel(\"Frequency\")\n",
    "    plt.title(f\"Word Count Distribution\")\n",
    "    plt.show()"
   ]
  },
  {
   "cell_type": "code",
   "execution_count": 17,
   "id": "sublime-dryer",
   "metadata": {},
   "outputs": [
    {
     "name": "stdout",
     "output_type": "stream",
     "text": [
      "Max count: 56\n",
      "Mean count: 6\n"
     ]
    },
    {
     "data": {
      "image/png": "[encoded data removed]",
      "text/plain": [
       "<Figure size 640x480 with 1 Axes>"
      ]
     },
     "metadata": {
      "needs_background": "light"
     },
     "output_type": "display_data"
    }
   ],
   "source": [
    "# 觀察短子句數量分佈\n",
    "chunk_count = [len(context_chunk) for context_chunk in df_clean[\"context_chunk\"]]\n",
    "print(f\"Max count: {max(chunk_count)}\")\n",
    "print(f\"Mean count: {int(sum(chunk_count)/len(chunk_count))}\")\n",
    "plt.figure(figsize=(8, 6), dpi=80)\n",
    "n, bins, patches = plt.hist(chunk_count, bins=25)\n",
    "plt.xlabel(\"Chunk Count\")\n",
    "plt.ylabel(\"Frequency\")\n",
    "plt.title(\"Chunk Count Distribution\")\n",
    "plt.show()"
   ]
  },
  {
   "cell_type": "markdown",
   "id": "guided-financing",
   "metadata": {},
   "source": [
    "## 切分訓練與驗證資料"
   ]
  },
  {
   "cell_type": "code",
   "execution_count": 18,
   "id": "chemical-kitty",
   "metadata": {},
   "outputs": [
    {
     "name": "stdout",
     "output_type": "stream",
     "text": [
      "Index(['SDG1', 'SDG2', 'SDG3', 'SDG4', 'SDG5', 'SDG6', 'SDG7', 'SDG8', 'SDG9',\n",
      "       'SDG10', 'SDG11', 'SDG12', 'SDG13', 'SDG14', 'SDG15', 'SDG16', 'SDG17'],\n",
      "      dtype='object')\n"
     ]
    }
   ],
   "source": [
    "# 類別標籤欄位清單 (SDG1~SDG17)\n",
    "label_list = df_clean.columns[4:-2]\n",
    "print(label_list)\n",
    "\n",
    "# 切割訓練與驗證資料 (train_df, val_df)\n",
    "train_df, val_df = train_test_split(df_clean, test_size=config[\"val_size\"], random_state=config[\"seed\"])\n",
    "train_df = train_df.reset_index(drop=True)\n",
    "val_df = val_df.reset_index(drop=True)"
   ]
  },
  {
   "cell_type": "code",
   "execution_count": 19,
   "id": "premier-mediterranean",
   "metadata": {},
   "outputs": [
    {
     "name": "stdout",
     "output_type": "stream",
     "text": [
      "訓練資料類別分佈:\n",
      "[20, 22, 226, 300, 21, 25, 16, 182, 24, 39, 44, 48, 25, 36, 41, 23, 26]\n",
      "驗證資料類別分佈:\n",
      "[12, 10, 94, 115, 5, 9, 7, 66, 9, 15, 20, 21, 7, 7, 12, 15, 8]\n"
     ]
    }
   ],
   "source": [
    "# 訓練資料與驗證資料個類別的樣本數\n",
    "print(\"訓練資料類別分佈:\")\n",
    "print([train_df[each].value_counts()[1.0] for each in label_list])\n",
    "print(\"驗證資料類別分佈:\")\n",
    "print([val_df[each].value_counts()[1.0] for each in label_list])"
   ]
  },
  {
   "cell_type": "code",
   "execution_count": 20,
   "id": "consistent-nursery",
   "metadata": {},
   "outputs": [
    {
     "data": {
      "text/plain": [
       "['課名：生死學',\n",
       " '大綱：本課程藉由醫學及人文社會科學之不同理論、觀點與面向，針對「醫療與生死」進行廣泛的分析與探討，內容設計著重從理論與實務，強調學生的參與互動及深入思考，並安排與附設醫院安寧緩和醫療病房團隊進行討論。是本校醫學系人文、倫理與心理社會面向教育的總結。',\n",
       " '目標：幫助醫學生從倫理學、心理及精神醫學、法學、哲學、歷史學、東西方宗教、安寧緩和醫療等觀點，探討醫療工作中的生與死議題，期能幫助修課同學，在成為實習醫師前，對於個人的生死觀及面對醫療工作中的生命、死亡與醫療問題，有多一層的思考與認識。']"
      ]
     },
     "execution_count": 20,
     "metadata": {},
     "output_type": "execute_result"
    }
   ],
   "source": [
    "train_df[\"context_chunk\"][1]"
   ]
  },
  {
   "cell_type": "code",
   "execution_count": 21,
   "id": "oriented-security",
   "metadata": {},
   "outputs": [
    {
     "data": {
      "text/plain": [
       "['課名：專題演講。大綱：專題演講。目標：廣邀不同背景的專家學者，為所上學生不管是求學或是日後職涯規劃，提供更開闊的思考空間。']"
      ]
     },
     "execution_count": 21,
     "metadata": {},
     "output_type": "execute_result"
    }
   ],
   "source": [
    "train_df[\"context_chunk\"][2]"
   ]
  },
  {
   "cell_type": "markdown",
   "id": "relative-bronze",
   "metadata": {},
   "source": [
    "## 載入 BERT 模型"
   ]
  },
  {
   "cell_type": "code",
   "execution_count": 22,
   "id": "interior-documentation",
   "metadata": {},
   "outputs": [
    {
     "name": "stdout",
     "output_type": "stream",
     "text": [
      "cpu\n"
     ]
    }
   ],
   "source": [
    "device = torch.device('cuda', 0) if torch.cuda.is_available() else 'cpu'\n",
    "print(device)"
   ]
  },
  {
   "cell_type": "code",
   "execution_count": 23,
   "id": "increasing-jonathan",
   "metadata": {},
   "outputs": [
    {
     "name": "stderr",
     "output_type": "stream",
     "text": [
      "Some weights of the model checkpoint at ckiplab/bert-base-chinese were not used when initializing BertModel: ['cls.predictions.transform.dense.bias', 'cls.predictions.transform.dense.weight', 'cls.predictions.decoder.bias', 'cls.predictions.transform.LayerNorm.bias', 'cls.predictions.decoder.weight', 'cls.predictions.transform.LayerNorm.weight', 'cls.predictions.bias']\n",
      "- This IS expected if you are initializing BertModel from the checkpoint of a model trained on another task or with another architecture (e.g. initializing a BertForSequenceClassification model from a BertForPreTraining model).\n",
      "- This IS NOT expected if you are initializing BertModel from the checkpoint of a model that you expect to be exactly identical (initializing a BertForSequenceClassification model from a BertForSequenceClassification model).\n",
      "Some weights of BertModel were not initialized from the model checkpoint at ckiplab/bert-base-chinese and are newly initialized: ['bert.pooler.dense.weight', 'bert.pooler.dense.bias']\n",
      "You should probably TRAIN this model on a down-stream task to be able to use it for predictions and inference.\n"
     ]
    }
   ],
   "source": [
    "# BERT Tokenizer\n",
    "tokenizer = BertTokenizerFast.from_pretrained('bert-base-chinese')\n",
    "\n",
    "# BERT Model\n",
    "bert = AutoModel.from_pretrained('ckiplab/bert-base-chinese').to(device)"
   ]
  },
  {
   "cell_type": "markdown",
   "id": "micro-pottery",
   "metadata": {},
   "source": [
    "## 計算 Chunk Embedding"
   ]
  },
  {
   "cell_type": "code",
   "execution_count": 24,
   "id": "figured-payment",
   "metadata": {},
   "outputs": [],
   "source": [
    "# 先確保所有文章的 Chunk 數一致\n",
    "context_chunk_lists = df_clean['context_chunk']\n",
    "max_chunk_num = config[\"max_chunk_num\"]\n",
    "        \n",
    "for i in range(len(context_chunk_lists)):\n",
    "    text_len = len(context_chunk_lists[i])\n",
    "    if text_len < max_chunk_num:\n",
    "        tmp = [\"\"] * (max_chunk_num - text_len)\n",
    "        context_chunk_lists[i] += tmp\n",
    "    else:\n",
    "        context_chunk_lists[i] = context_chunk_lists[i][:max_chunk_num]"
   ]
  },
  {
   "cell_type": "code",
   "execution_count": 25,
   "id": "medieval-technique",
   "metadata": {},
   "outputs": [],
   "source": [
    "def get_embedding_tensor(context_chunk_lists, max_chunk_num, max_chunk_size):\n",
    "    embedding_tensor = torch.ones((len(context_chunk_lists), max_chunk_num, 768))\n",
    "    count = 0\n",
    "    for i in range(len(context_chunk_lists)):\n",
    "        context_chunk_list = context_chunk_lists[i]\n",
    "        embedding = []\n",
    "        for chunk in context_chunk_list:\n",
    "            bert_input = tokenizer(chunk, padding='max_length', max_length=max_chunk_size,\n",
    "                            truncation=True, return_tensors=\"pt\")\n",
    "            attention_mask = bert_input['attention_mask'].to(device)\n",
    "            input_id = bert_input['input_ids'].squeeze(1).to(device)\n",
    "            final_inputs = {'input_ids': input_id, 'attention_mask': attention_mask}\n",
    "            outputs = bert(**final_inputs)\n",
    "            # 因為 CLS 外面接的 Layer 存在 Random，因此每次跑出來結果會不一樣\n",
    "            # pooler_output = outputs.pooler_output.reshape(768)  # torch.Size([1, 768]) -> torch.Size([768])\n",
    "            # 要改成這樣寫才可以\n",
    "            pooler_output = outputs.last_hidden_state[0][0].reshape(768)\n",
    "            embedding.append(pooler_output)\n",
    "        embedding = torch.stack(embedding).detach().cpu()  # torch.Size([n, 768])\n",
    "        count += 1\n",
    "        print(f\"Finish: {count}/{len(context_chunk_lists)}\")\n",
    "        print(embedding)\n",
    "        embedding_tensor[i] = embedding\n",
    "        gc.collect()\n",
    "        torch.cuda.empty_cache()\n",
    "    return embedding_tensor"
   ]
  },
  {
   "cell_type": "code",
   "execution_count": 26,
   "id": "united-somewhere",
   "metadata": {},
   "outputs": [],
   "source": [
    "# # 如果要計算新的 Embedding 的話，就把這個 cell 的註解拿掉\n",
    "\n",
    "# # 計算每個樣本各自的 BERT Embedding\n",
    "# embedding_tensor = get_embedding_tensor(context_chunk_lists, config[\"max_chunk_num\"], config[\"max_chunk_size\"])\n",
    "\n",
    "# # 儲存 BERT Embedding Tensor\n",
    "# torch.save(embedding_tensor, config[\"embedding_path\"])"
   ]
  },
  {
   "cell_type": "markdown",
   "id": "restricted-discount",
   "metadata": {},
   "source": [
    "## 載入 Chunk Embedding"
   ]
  },
  {
   "cell_type": "code",
   "execution_count": 27,
   "id": "oriental-judge",
   "metadata": {},
   "outputs": [],
   "source": [
    "# 載入 BERT Embedding Tensor\n",
    "embedding_tensor = torch.load(config[\"embedding_path\"])"
   ]
  },
  {
   "cell_type": "code",
   "execution_count": 28,
   "id": "geological-center",
   "metadata": {},
   "outputs": [
    {
     "name": "stdout",
     "output_type": "stream",
     "text": [
      "<class 'torch.Tensor'>\n",
      "torch.Size([1182, 30, 768])\n"
     ]
    }
   ],
   "source": [
    "print(type(embedding_tensor))\n",
    "print(embedding_tensor.shape)"
   ]
  },
  {
   "cell_type": "code",
   "execution_count": 29,
   "id": "confident-montgomery",
   "metadata": {},
   "outputs": [],
   "source": [
    "# 切割訓練與驗證 Embedding (train_embedding, val_embedding)\n",
    "train_embedding, val_embedding = train_test_split(embedding_tensor, test_size=config[\"val_size\"], random_state=config[\"seed\"])"
   ]
  },
  {
   "cell_type": "markdown",
   "id": "public-brooklyn",
   "metadata": {},
   "source": [
    "## 定義函數"
   ]
  },
  {
   "cell_type": "code",
   "execution_count": 30,
   "id": "connected-label",
   "metadata": {},
   "outputs": [],
   "source": [
    "# 函數: 計算 Class weight\n",
    "\n",
    "def get_class_weight(df, labels):\n",
    "    # 計算每個類別的「正樣本數量」，儲存成 class_pos_count 列表\n",
    "    class_pos_count = np.zeros(len(labels))\n",
    "    # 計算每個類別的「負樣本數量」，儲存成 class_neg_count 列表\n",
    "    class_neg_count = np.zeros(len(labels))\n",
    "    # 遞迴\n",
    "    for i in range(len(labels)):\n",
    "        label = labels[i]\n",
    "        positive, negative = df[label].value_counts()[1.0], df[label].value_counts()[0.0]\n",
    "        class_pos_count[i], class_neg_count[i] = positive, negative\n",
    "    # 計算「正樣本權重」\n",
    "    class_pos_weight = np.ones_like(class_pos_count)\n",
    "    for cdx, (pos_count, neg_count) in enumerate(zip(class_pos_count, class_neg_count)):\n",
    "        class_pos_weight[cdx] = math.sqrt(neg_count/(pos_count+1e-5))\n",
    "    return torch.as_tensor(class_pos_weight, dtype=torch.float)"
   ]
  },
  {
   "cell_type": "code",
   "execution_count": 31,
   "id": "recorded-empty",
   "metadata": {},
   "outputs": [],
   "source": [
    "# 函數: 計算 Accuracy, Precision, Recall, Top-k\n",
    "\n",
    "def _ACCscore(y_true, pred):\n",
    "    accuracy_l = [ans.all() for ans in (pred == y_true)]\n",
    "    accuracy = np.array(accuracy_l).mean()\n",
    "    return accuracy\n",
    "\n",
    "\n",
    "def _PRscore(y_true, pred):\n",
    "    hit_matrix = np.zeros_like(pred)\n",
    "    hit_matrix[np.where((pred == y_true) & (y_true > 0))] = 1\n",
    "    tp = hit_matrix.sum(axis=1)\n",
    "    pred_sum = pred.sum(axis=1)\n",
    "    true_sum = y_true.sum(axis=1)\n",
    "    precision_l = []\n",
    "    recall_l = []\n",
    "    for ix in range(tp.shape[0]):\n",
    "        precision_score = (1.0 if true_sum[ix] == 0 else 0.0) if pred_sum[ix] == 0 else tp[ix]/pred_sum[ix]\n",
    "        recall_score = (1.0 if pred_sum[ix] == 0 else 0.0) if true_sum[ix] == 0 else tp[ix]/true_sum[ix]\n",
    "        precision_l.append(precision_score)\n",
    "        recall_l.append(recall_score)\n",
    "    precision = np.array(precision_l).mean()\n",
    "    recall = np.array(recall_l).mean()\n",
    "    return precision, recall\n",
    "\n",
    "\n",
    "def _TopKscore(y_true, pred, output, k):\n",
    "    topk_class = np.argsort(output, axis=1)[:,-k:]\n",
    "    topk_pred = torch.zeros_like(pred)\n",
    "    for i in range(pred.shape[0]):\n",
    "        if pred[i, :].sum() > 0:\n",
    "            topk_pred[i, topk_class[i]] = 1\n",
    "    topk_precision, topk_recall = _PRscore(y_true, topk_pred)\n",
    "    return topk_precision, topk_recall"
   ]
  },
  {
   "cell_type": "code",
   "execution_count": 32,
   "id": "organizational-relay",
   "metadata": {},
   "outputs": [],
   "source": [
    "# 函數: 一次同時計算所有評估指標\n",
    "\n",
    "def score(y_true, pred, output, k=5):\n",
    "    accuracy = _ACCscore(y_true, pred)\n",
    "    precision, recall = _PRscore(y_true, pred)\n",
    "    _, topk_recall = _TopKscore(y_true, pred, output, k)\n",
    "    return accuracy, precision, recall, topk_recall"
   ]
  },
  {
   "cell_type": "code",
   "execution_count": 33,
   "id": "daily-anchor",
   "metadata": {},
   "outputs": [],
   "source": [
    "# 函數: 計算 F1-score\n",
    "\n",
    "def f1(precision, recall):\n",
    "    f1_score = (2 * precision * recall) / (precision + recall)\n",
    "    return f1_score"
   ]
  },
  {
   "cell_type": "markdown",
   "id": "critical-message",
   "metadata": {},
   "source": [
    "## 類別與權重資訊"
   ]
  },
  {
   "cell_type": "code",
   "execution_count": 34,
   "id": "australian-income",
   "metadata": {},
   "outputs": [],
   "source": [
    "# Class (Pos) Weight\n",
    "class_weight = get_class_weight(train_df, label_list)"
   ]
  },
  {
   "cell_type": "code",
   "execution_count": 35,
   "id": "destroyed-straight",
   "metadata": {},
   "outputs": [
    {
     "name": "stdout",
     "output_type": "stream",
     "text": [
      "<< 目標變數與權重對應 >>\n",
      "\n",
      "<< 目標變數共有 17 類 >>\n",
      "\n",
      "SDG1: 6.35\n",
      "SDG2: 6.05\n",
      "SDG3: 1.63\n",
      "SDG4: 1.33\n",
      "SDG5: 6.2\n",
      "SDG6: 5.66\n",
      "SDG7: 7.12\n",
      "SDG8: 1.88\n",
      "SDG9: 5.78\n",
      "SDG10: 4.5\n",
      "SDG11: 4.22\n",
      "SDG12: 4.03\n",
      "SDG13: 5.66\n",
      "SDG14: 4.69\n",
      "SDG15: 4.38\n",
      "SDG16: 5.91\n",
      "SDG17: 5.55\n"
     ]
    }
   ],
   "source": [
    "print(\"<< 目標變數與權重對應 >>\\n\")\n",
    "\n",
    "print(f\"<< 目標變數共有 {len(label_list)} 類 >>\\n\")\n",
    "\n",
    "for c, w in zip(label_list, class_weight):\n",
    "    print(f\"{c}: {round(float(w), 2)}\")"
   ]
  },
  {
   "cell_type": "markdown",
   "id": "facial-collins",
   "metadata": {},
   "source": [
    "## 訓練模型"
   ]
  },
  {
   "cell_type": "code",
   "execution_count": 36,
   "id": "figured-rabbit",
   "metadata": {},
   "outputs": [],
   "source": [
    "class SDG_Dataset(Dataset):\n",
    "    def __init__(self, df, embeddings, label_list):\n",
    "        self.embeddings = embeddings\n",
    "        self.labels = df[label_list].to_numpy()  # [[0,0,1], [0,1,1]...]\n",
    "\n",
    "    def __len__(self):\n",
    "        return len(self.labels)\n",
    "\n",
    "    def __getitem__(self, idx):\n",
    "        return self.embeddings[idx], self.labels[idx]"
   ]
  },
  {
   "cell_type": "code",
   "execution_count": 37,
   "id": "loose-syracuse",
   "metadata": {},
   "outputs": [],
   "source": [
    "class Classifier(nn.Module):\n",
    "    def __init__(self):\n",
    "        super(Classifier, self).__init__()\n",
    "        self.lstm = nn.LSTM(768, 256, batch_first=True, bidirectional=False, dropout=0.)\n",
    "        self.linear_1 = nn.Linear(256, 64)\n",
    "        self.relu = nn.ReLU()\n",
    "        self.linear_2 = nn.Linear(64, 17)\n",
    "\n",
    "    def forward(self, embeddings):\n",
    "        _, (ht, ct) = self.lstm(embeddings)\n",
    "        output = self.linear_1(ht[-1])\n",
    "        output = self.relu(output)\n",
    "        output = self.linear_2(output)\n",
    "        return output"
   ]
  },
  {
   "cell_type": "code",
   "execution_count": 38,
   "id": "quiet-infrared",
   "metadata": {},
   "outputs": [],
   "source": [
    "def train(model, class_weight):\n",
    "    # 記錄 train 訓練過程\n",
    "    train_loss_list = []\n",
    "    train_accuracy_list = []\n",
    "    train_precision_list = []\n",
    "    train_recall_list = []\n",
    "    train_topk_recall_list = []\n",
    "    \n",
    "    # 記錄 validation 訓練過程\n",
    "    val_loss_list = []\n",
    "    val_accuracy_list = []\n",
    "    val_precision_list = []\n",
    "    val_recall_list = []\n",
    "    val_topk_recall_list = []\n",
    "    \n",
    "    # Training and Val Dataset\n",
    "    train_set = SDG_Dataset(train_df, train_embedding, label_list)\n",
    "    val_set = SDG_Dataset(val_df, val_embedding, label_list)\n",
    "\n",
    "    train_loader = DataLoader(train_set, batch_size=config[\"batch_size\"], shuffle=True)\n",
    "    val_loader = DataLoader(val_set, batch_size=config[\"batch_size\"], shuffle=False)\n",
    "\n",
    "    # Loss Function\n",
    "    criterion = nn.BCEWithLogitsLoss(pos_weight=class_weight)\n",
    "    \n",
    "    # Optimizer\n",
    "    optimizer = torch.optim.AdamW(model.parameters(), lr=config[\"learning_rate\"])\n",
    "\n",
    "    # 把模型放到 GPU 上跑\n",
    "    model = model.to(device)\n",
    "    criterion = criterion.to(device)\n",
    "    \n",
    "    # 將模型設定成「訓練」狀態（Dropout等Layer才會被觸發）\n",
    "    model.train()\n",
    "\n",
    "    # Early Stopping\n",
    "    trigger_times = 0\n",
    "    best_f1 = 0.0\n",
    "    \n",
    "    # 訓練階段\n",
    "    epochs = config[\"epochs\"]\n",
    "    for epoch_num in range(epochs):\n",
    "        \n",
    "        # 訓練並儲存訓練結果\n",
    "        loss_list = []\n",
    "        accuracy_list = []\n",
    "        precision_list = []\n",
    "        recall_list = []\n",
    "        topk_recall_list = []\n",
    "\n",
    "        for train_embeddings, train_labels in tqdm(train_loader):\n",
    "    \n",
    "            optimizer.zero_grad()\n",
    "            \n",
    "            train_embeddings = train_embeddings.to(device)\n",
    "            train_labels = train_labels.to(device)\n",
    "\n",
    "            output = model(train_embeddings)\n",
    "\n",
    "            batch_loss = criterion(output, train_labels.float())\n",
    "            \n",
    "            # Back propagation\n",
    "            batch_loss.backward()\n",
    "            optimizer.step()\n",
    "            \n",
    "            output = output.cpu().detach()\n",
    "            pred = (output > 0).cpu()\n",
    "            y_true = (train_labels > 0).cpu()\n",
    "        \n",
    "            # 計算 batch 表現並存起來\n",
    "            loss = batch_loss.item()\n",
    "            accuracy, precision, recall, topk_recall = score(y_true, pred, output, k=5)\n",
    "            \n",
    "            loss_list.append(loss)\n",
    "            accuracy_list.append(accuracy)\n",
    "            precision_list.append(precision)\n",
    "            recall_list.append(recall)\n",
    "            topk_recall_list.append(topk_recall)\n",
    "        \n",
    "        # 計算 EPOCH 表現並存起來\n",
    "        train_loss = np.array(loss_list).mean()\n",
    "        train_accuracy = np.array(accuracy_list).mean()\n",
    "        train_precision = np.array(precision_list).mean()\n",
    "        train_recall = np.array(recall_list).mean()\n",
    "        train_topk_recall = np.array(topk_recall_list).mean()\n",
    "        \n",
    "        train_loss_list.append(train_loss)\n",
    "        train_accuracy_list.append(train_accuracy)\n",
    "        train_precision_list.append(train_precision)\n",
    "        train_recall_list.append(train_recall)\n",
    "        train_topk_recall_list.append(train_topk_recall)\n",
    "        \n",
    "        # F1-score\n",
    "        train_f1 = f1(train_precision, train_recall)\n",
    "\n",
    "        # ===============================================================================\n",
    "        \n",
    "        # 驗證並儲存驗證結果\n",
    "        loss_list = []\n",
    "        accuracy_list = []\n",
    "        precision_list = []\n",
    "        recall_list = []\n",
    "        topk_recall_list = []\n",
    "        \n",
    "        # 驗證當下的模型表現\n",
    "        with torch.no_grad():\n",
    "            for val_embeddings, val_labels in tqdm(val_loader):\n",
    "\n",
    "                val_embeddings = val_embeddings.to(device)\n",
    "                val_labels = val_labels.to(device)\n",
    "\n",
    "                output = model(val_embeddings)\n",
    "                \n",
    "                batch_loss = criterion(output, val_labels.float())\n",
    "                \n",
    "                output = output.cpu()\n",
    "                pred = (output > 0).cpu()\n",
    "                y_true = (val_labels > 0).cpu()\n",
    "                \n",
    "                # 計算 batch 表現並存起來\n",
    "                loss = batch_loss.item()\n",
    "                accuracy, precision, recall, topk_recall = score(y_true, pred, output, k=5)\n",
    "                \n",
    "                loss_list.append(loss)\n",
    "                accuracy_list.append(accuracy)\n",
    "                precision_list.append(precision)\n",
    "                recall_list.append(recall)\n",
    "                topk_recall_list.append(topk_recall)\n",
    "            \n",
    "            # 計算 EPOCH 表現並存起來\n",
    "            val_loss = np.array(loss_list).mean()\n",
    "            val_accuracy = np.array(accuracy_list).mean()\n",
    "            val_precision = np.array(precision_list).mean()\n",
    "            val_recall = np.array(recall_list).mean()\n",
    "            val_topk_recall = np.array(topk_recall_list).mean()\n",
    "            \n",
    "            val_loss_list.append(val_loss)\n",
    "            val_accuracy_list.append(val_accuracy)\n",
    "            val_precision_list.append(val_precision)\n",
    "            val_recall_list.append(val_recall)\n",
    "            val_topk_recall_list.append(val_topk_recall)\n",
    "            \n",
    "            # F1-score\n",
    "            val_f1 = f1(val_precision, val_recall)\n",
    "        \n",
    "        # 印出每一個 Epoch 的結果\n",
    "        print(\n",
    "            f'Epochs: {epoch_num + 1} | Train Loss: {train_loss: .3f} \\\n",
    "            | Train F1: {train_f1: .3f} \\\n",
    "            | Val Loss: {val_loss: .3f} \\\n",
    "            | Val F1: {val_f1: .3f}')\n",
    "        \n",
    "        # Early Stopping\n",
    "        if val_f1 <= best_f1:\n",
    "            trigger_times += 1\n",
    "            print('Trigger times:', trigger_times)\n",
    "            if trigger_times > config[\"patience\"]:\n",
    "                print('Early stopping!')\n",
    "                break\n",
    "        else:\n",
    "            trigger_times = 0\n",
    "            print('Trigger times:', trigger_times)\n",
    "            best_f1 = val_f1\n",
    "            torch.save(model.state_dict(), config[\"model_path\"])\n",
    "        \n",
    "    return model, train_loss_list, train_precision_list, train_recall_list, \\\n",
    "                            val_loss_list, val_precision_list, val_recall_list"
   ]
  },
  {
   "cell_type": "code",
   "execution_count": 39,
   "id": "julian-calgary",
   "metadata": {},
   "outputs": [
    {
     "name": "stdout",
     "output_type": "stream",
     "text": [
      "Classifier(\n",
      "  (lstm): LSTM(768, 256, batch_first=True)\n",
      "  (linear_1): Linear(in_features=256, out_features=64, bias=True)\n",
      "  (relu): ReLU()\n",
      "  (linear_2): Linear(in_features=64, out_features=17, bias=True)\n",
      ")\n"
     ]
    }
   ],
   "source": [
    "model = Classifier()\n",
    "print(model)"
   ]
  },
  {
   "cell_type": "code",
   "execution_count": 40,
   "id": "signal-looking",
   "metadata": {},
   "outputs": [
    {
     "name": "stderr",
     "output_type": "stream",
     "text": [
      "100%|██████████| 13/13 [00:01<00:00,  9.67it/s]\n",
      "100%|██████████| 6/6 [00:00<00:00, 14.80it/s]\n"
     ]
    },
    {
     "name": "stdout",
     "output_type": "stream",
     "text": [
      "Epochs: 1 | Train Loss:  0.727             | Train F1:  0.101             | Val Loss:  0.646             | Val F1:  0.092\n",
      "Trigger times: 0\n"
     ]
    },
    {
     "name": "stderr",
     "output_type": "stream",
     "text": [
      "100%|██████████| 13/13 [00:01<00:00,  9.69it/s]\n",
      "100%|██████████| 6/6 [00:00<00:00, 15.03it/s]\n"
     ]
    },
    {
     "name": "stdout",
     "output_type": "stream",
     "text": [
      "Epochs: 2 | Train Loss:  0.624             | Train F1:  0.118             | Val Loss:  0.566             | Val F1:  0.382\n",
      "Trigger times: 0\n"
     ]
    },
    {
     "name": "stderr",
     "output_type": "stream",
     "text": [
      "100%|██████████| 13/13 [00:01<00:00,  9.90it/s]\n",
      "100%|██████████| 6/6 [00:00<00:00, 15.59it/s]\n"
     ]
    },
    {
     "name": "stdout",
     "output_type": "stream",
     "text": [
      "Epochs: 3 | Train Loss:  0.573             | Train F1:  0.362             | Val Loss:  0.529             | Val F1:  0.382\n",
      "Trigger times: 1\n"
     ]
    },
    {
     "name": "stderr",
     "output_type": "stream",
     "text": [
      "100%|██████████| 13/13 [00:01<00:00,  9.97it/s]\n",
      "100%|██████████| 6/6 [00:00<00:00, 14.37it/s]\n"
     ]
    },
    {
     "name": "stdout",
     "output_type": "stream",
     "text": [
      "Epochs: 4 | Train Loss:  0.555             | Train F1:  0.361             | Val Loss:  0.519             | Val F1:  0.382\n",
      "Trigger times: 2\n"
     ]
    },
    {
     "name": "stderr",
     "output_type": "stream",
     "text": [
      "100%|██████████| 13/13 [00:01<00:00,  9.77it/s]\n",
      "100%|██████████| 6/6 [00:00<00:00, 15.83it/s]\n"
     ]
    },
    {
     "name": "stdout",
     "output_type": "stream",
     "text": [
      "Epochs: 5 | Train Loss:  0.550             | Train F1:  0.362             | Val Loss:  0.517             | Val F1:  0.382\n",
      "Trigger times: 3\n"
     ]
    },
    {
     "name": "stderr",
     "output_type": "stream",
     "text": [
      "100%|██████████| 13/13 [00:01<00:00,  9.75it/s]\n",
      "100%|██████████| 6/6 [00:00<00:00, 14.91it/s]\n"
     ]
    },
    {
     "name": "stdout",
     "output_type": "stream",
     "text": [
      "Epochs: 6 | Train Loss:  0.548             | Train F1:  0.362             | Val Loss:  0.517             | Val F1:  0.382\n",
      "Trigger times: 4\n"
     ]
    },
    {
     "name": "stderr",
     "output_type": "stream",
     "text": [
      "100%|██████████| 13/13 [00:01<00:00,  9.78it/s]\n",
      "100%|██████████| 6/6 [00:00<00:00, 14.94it/s]\n"
     ]
    },
    {
     "name": "stdout",
     "output_type": "stream",
     "text": [
      "Epochs: 7 | Train Loss:  0.547             | Train F1:  0.362             | Val Loss:  0.517             | Val F1:  0.382\n",
      "Trigger times: 5\n"
     ]
    },
    {
     "name": "stderr",
     "output_type": "stream",
     "text": [
      "100%|██████████| 13/13 [00:01<00:00,  9.92it/s]\n",
      "100%|██████████| 6/6 [00:00<00:00, 15.23it/s]\n"
     ]
    },
    {
     "name": "stdout",
     "output_type": "stream",
     "text": [
      "Epochs: 8 | Train Loss:  0.547             | Train F1:  0.362             | Val Loss:  0.517             | Val F1:  0.382\n",
      "Trigger times: 6\n"
     ]
    },
    {
     "name": "stderr",
     "output_type": "stream",
     "text": [
      "100%|██████████| 13/13 [00:01<00:00, 10.00it/s]\n",
      "100%|██████████| 6/6 [00:00<00:00, 15.14it/s]\n"
     ]
    },
    {
     "name": "stdout",
     "output_type": "stream",
     "text": [
      "Epochs: 9 | Train Loss:  0.548             | Train F1:  0.361             | Val Loss:  0.516             | Val F1:  0.382\n",
      "Trigger times: 7\n"
     ]
    },
    {
     "name": "stderr",
     "output_type": "stream",
     "text": [
      "100%|██████████| 13/13 [00:01<00:00,  9.79it/s]\n",
      "100%|██████████| 6/6 [00:00<00:00, 14.41it/s]\n"
     ]
    },
    {
     "name": "stdout",
     "output_type": "stream",
     "text": [
      "Epochs: 10 | Train Loss:  0.547             | Train F1:  0.361             | Val Loss:  0.517             | Val F1:  0.382\n",
      "Trigger times: 8\n"
     ]
    },
    {
     "name": "stderr",
     "output_type": "stream",
     "text": [
      "100%|██████████| 13/13 [00:01<00:00,  9.61it/s]\n",
      "100%|██████████| 6/6 [00:00<00:00, 14.86it/s]\n"
     ]
    },
    {
     "name": "stdout",
     "output_type": "stream",
     "text": [
      "Epochs: 11 | Train Loss:  0.548             | Train F1:  0.363             | Val Loss:  0.517             | Val F1:  0.382\n",
      "Trigger times: 9\n"
     ]
    },
    {
     "name": "stderr",
     "output_type": "stream",
     "text": [
      "100%|██████████| 13/13 [00:01<00:00,  9.89it/s]\n",
      "100%|██████████| 6/6 [00:00<00:00, 16.00it/s]\n"
     ]
    },
    {
     "name": "stdout",
     "output_type": "stream",
     "text": [
      "Epochs: 12 | Train Loss:  0.546             | Train F1:  0.363             | Val Loss:  0.516             | Val F1:  0.382\n",
      "Trigger times: 10\n"
     ]
    },
    {
     "name": "stderr",
     "output_type": "stream",
     "text": [
      "100%|██████████| 13/13 [00:01<00:00,  9.88it/s]\n",
      "100%|██████████| 6/6 [00:00<00:00, 14.28it/s]\n"
     ]
    },
    {
     "name": "stdout",
     "output_type": "stream",
     "text": [
      "Epochs: 13 | Train Loss:  0.546             | Train F1:  0.362             | Val Loss:  0.515             | Val F1:  0.382\n",
      "Trigger times: 11\n"
     ]
    },
    {
     "name": "stderr",
     "output_type": "stream",
     "text": [
      "100%|██████████| 13/13 [00:01<00:00,  9.45it/s]\n",
      "100%|██████████| 6/6 [00:00<00:00, 14.70it/s]\n"
     ]
    },
    {
     "name": "stdout",
     "output_type": "stream",
     "text": [
      "Epochs: 14 | Train Loss:  0.545             | Train F1:  0.362             | Val Loss:  0.514             | Val F1:  0.382\n",
      "Trigger times: 12\n"
     ]
    },
    {
     "name": "stderr",
     "output_type": "stream",
     "text": [
      "100%|██████████| 13/13 [00:01<00:00,  9.50it/s]\n",
      "100%|██████████| 6/6 [00:00<00:00, 14.29it/s]\n"
     ]
    },
    {
     "name": "stdout",
     "output_type": "stream",
     "text": [
      "Epochs: 15 | Train Loss:  0.544             | Train F1:  0.363             | Val Loss:  0.513             | Val F1:  0.382\n",
      "Trigger times: 13\n"
     ]
    },
    {
     "name": "stderr",
     "output_type": "stream",
     "text": [
      "100%|██████████| 13/13 [00:01<00:00,  9.79it/s]\n",
      "100%|██████████| 6/6 [00:00<00:00, 15.07it/s]\n"
     ]
    },
    {
     "name": "stdout",
     "output_type": "stream",
     "text": [
      "Epochs: 16 | Train Loss:  0.541             | Train F1:  0.362             | Val Loss:  0.510             | Val F1:  0.382\n",
      "Trigger times: 14\n"
     ]
    },
    {
     "name": "stderr",
     "output_type": "stream",
     "text": [
      "100%|██████████| 13/13 [00:01<00:00,  9.60it/s]\n",
      "100%|██████████| 6/6 [00:00<00:00, 15.18it/s]\n"
     ]
    },
    {
     "name": "stdout",
     "output_type": "stream",
     "text": [
      "Epochs: 17 | Train Loss:  0.539             | Train F1:  0.362             | Val Loss:  0.507             | Val F1:  0.382\n",
      "Trigger times: 15\n"
     ]
    },
    {
     "name": "stderr",
     "output_type": "stream",
     "text": [
      "100%|██████████| 13/13 [00:01<00:00,  9.66it/s]\n",
      "100%|██████████| 6/6 [00:00<00:00, 13.36it/s]\n"
     ]
    },
    {
     "name": "stdout",
     "output_type": "stream",
     "text": [
      "Epochs: 18 | Train Loss:  0.535             | Train F1:  0.363             | Val Loss:  0.505             | Val F1:  0.382\n",
      "Trigger times: 16\n"
     ]
    },
    {
     "name": "stderr",
     "output_type": "stream",
     "text": [
      "100%|██████████| 13/13 [00:01<00:00,  9.47it/s]\n",
      "100%|██████████| 6/6 [00:00<00:00, 14.60it/s]\n"
     ]
    },
    {
     "name": "stdout",
     "output_type": "stream",
     "text": [
      "Epochs: 19 | Train Loss:  0.530             | Train F1:  0.362             | Val Loss:  0.495             | Val F1:  0.382\n",
      "Trigger times: 17\n"
     ]
    },
    {
     "name": "stderr",
     "output_type": "stream",
     "text": [
      "100%|██████████| 13/13 [00:01<00:00,  9.97it/s]\n",
      "100%|██████████| 6/6 [00:00<00:00, 15.19it/s]\n"
     ]
    },
    {
     "name": "stdout",
     "output_type": "stream",
     "text": [
      "Epochs: 20 | Train Loss:  0.516             | Train F1:  0.362             | Val Loss:  0.480             | Val F1:  0.382\n",
      "Trigger times: 18\n"
     ]
    },
    {
     "name": "stderr",
     "output_type": "stream",
     "text": [
      "100%|██████████| 13/13 [00:01<00:00,  9.74it/s]\n",
      "100%|██████████| 6/6 [00:00<00:00, 16.11it/s]\n"
     ]
    },
    {
     "name": "stdout",
     "output_type": "stream",
     "text": [
      "Epochs: 21 | Train Loss:  0.491             | Train F1:  0.363             | Val Loss:  0.458             | Val F1:  0.382\n",
      "Trigger times: 19\n"
     ]
    },
    {
     "name": "stderr",
     "output_type": "stream",
     "text": [
      "100%|██████████| 13/13 [00:01<00:00,  9.72it/s]\n",
      "100%|██████████| 6/6 [00:00<00:00, 15.30it/s]\n"
     ]
    },
    {
     "name": "stdout",
     "output_type": "stream",
     "text": [
      "Epochs: 22 | Train Loss:  0.470             | Train F1:  0.363             | Val Loss:  0.452             | Val F1:  0.382\n",
      "Trigger times: 20\n"
     ]
    },
    {
     "name": "stderr",
     "output_type": "stream",
     "text": [
      "100%|██████████| 13/13 [00:01<00:00, 10.15it/s]\n",
      "100%|██████████| 6/6 [00:00<00:00, 15.37it/s]\n"
     ]
    },
    {
     "name": "stdout",
     "output_type": "stream",
     "text": [
      "Epochs: 23 | Train Loss:  0.456             | Train F1:  0.368             | Val Loss:  0.441             | Val F1:  0.386\n",
      "Trigger times: 0\n"
     ]
    },
    {
     "name": "stderr",
     "output_type": "stream",
     "text": [
      "100%|██████████| 13/13 [00:01<00:00,  9.71it/s]\n",
      "100%|██████████| 6/6 [00:00<00:00, 14.25it/s]\n"
     ]
    },
    {
     "name": "stdout",
     "output_type": "stream",
     "text": [
      "Epochs: 24 | Train Loss:  0.447             | Train F1:  0.366             | Val Loss:  0.442             | Val F1:  0.372\n",
      "Trigger times: 1\n"
     ]
    },
    {
     "name": "stderr",
     "output_type": "stream",
     "text": [
      "100%|██████████| 13/13 [00:01<00:00,  9.45it/s]\n",
      "100%|██████████| 6/6 [00:00<00:00, 14.37it/s]\n"
     ]
    },
    {
     "name": "stdout",
     "output_type": "stream",
     "text": [
      "Epochs: 25 | Train Loss:  0.438             | Train F1:  0.375             | Val Loss:  0.432             | Val F1:  0.388\n",
      "Trigger times: 0\n"
     ]
    },
    {
     "name": "stderr",
     "output_type": "stream",
     "text": [
      "100%|██████████| 13/13 [00:01<00:00,  9.65it/s]\n",
      "100%|██████████| 6/6 [00:00<00:00, 14.67it/s]\n"
     ]
    },
    {
     "name": "stdout",
     "output_type": "stream",
     "text": [
      "Epochs: 26 | Train Loss:  0.432             | Train F1:  0.390             | Val Loss:  0.428             | Val F1:  0.408\n",
      "Trigger times: 0\n"
     ]
    },
    {
     "name": "stderr",
     "output_type": "stream",
     "text": [
      "100%|██████████| 13/13 [00:01<00:00, 10.08it/s]\n",
      "100%|██████████| 6/6 [00:00<00:00, 15.06it/s]\n"
     ]
    },
    {
     "name": "stdout",
     "output_type": "stream",
     "text": [
      "Epochs: 27 | Train Loss:  0.425             | Train F1:  0.395             | Val Loss:  0.417             | Val F1:  0.399\n",
      "Trigger times: 1\n"
     ]
    },
    {
     "name": "stderr",
     "output_type": "stream",
     "text": [
      "100%|██████████| 13/13 [00:01<00:00, 10.09it/s]\n",
      "100%|██████████| 6/6 [00:00<00:00, 14.51it/s]\n"
     ]
    },
    {
     "name": "stdout",
     "output_type": "stream",
     "text": [
      "Epochs: 28 | Train Loss:  0.420             | Train F1:  0.389             | Val Loss:  0.430             | Val F1:  0.360\n",
      "Trigger times: 2\n"
     ]
    },
    {
     "name": "stderr",
     "output_type": "stream",
     "text": [
      "100%|██████████| 13/13 [00:01<00:00,  9.82it/s]\n",
      "100%|██████████| 6/6 [00:00<00:00, 14.86it/s]\n"
     ]
    },
    {
     "name": "stdout",
     "output_type": "stream",
     "text": [
      "Epochs: 29 | Train Loss:  0.417             | Train F1:  0.387             | Val Loss:  0.410             | Val F1:  0.417\n",
      "Trigger times: 0\n"
     ]
    },
    {
     "name": "stderr",
     "output_type": "stream",
     "text": [
      "100%|██████████| 13/13 [00:01<00:00,  9.90it/s]\n",
      "100%|██████████| 6/6 [00:00<00:00, 14.21it/s]\n"
     ]
    },
    {
     "name": "stdout",
     "output_type": "stream",
     "text": [
      "Epochs: 30 | Train Loss:  0.418             | Train F1:  0.396             | Val Loss:  0.414             | Val F1:  0.415\n",
      "Trigger times: 1\n"
     ]
    },
    {
     "name": "stderr",
     "output_type": "stream",
     "text": [
      "100%|██████████| 13/13 [00:01<00:00,  9.98it/s]\n",
      "100%|██████████| 6/6 [00:00<00:00, 16.09it/s]\n"
     ]
    },
    {
     "name": "stdout",
     "output_type": "stream",
     "text": [
      "Epochs: 31 | Train Loss:  0.409             | Train F1:  0.404             | Val Loss:  0.411             | Val F1:  0.433\n",
      "Trigger times: 0\n"
     ]
    },
    {
     "name": "stderr",
     "output_type": "stream",
     "text": [
      "100%|██████████| 13/13 [00:01<00:00, 10.04it/s]\n",
      "100%|██████████| 6/6 [00:00<00:00, 15.06it/s]\n"
     ]
    },
    {
     "name": "stdout",
     "output_type": "stream",
     "text": [
      "Epochs: 32 | Train Loss:  0.405             | Train F1:  0.439             | Val Loss:  0.412             | Val F1:  0.448\n",
      "Trigger times: 0\n"
     ]
    },
    {
     "name": "stderr",
     "output_type": "stream",
     "text": [
      "100%|██████████| 13/13 [00:01<00:00,  9.72it/s]\n",
      "100%|██████████| 6/6 [00:00<00:00, 15.31it/s]\n"
     ]
    },
    {
     "name": "stdout",
     "output_type": "stream",
     "text": [
      "Epochs: 33 | Train Loss:  0.406             | Train F1:  0.439             | Val Loss:  0.411             | Val F1:  0.485\n",
      "Trigger times: 0\n"
     ]
    },
    {
     "name": "stderr",
     "output_type": "stream",
     "text": [
      "100%|██████████| 13/13 [00:01<00:00,  9.70it/s]\n",
      "100%|██████████| 6/6 [00:00<00:00, 13.99it/s]\n"
     ]
    },
    {
     "name": "stdout",
     "output_type": "stream",
     "text": [
      "Epochs: 34 | Train Loss:  0.395             | Train F1:  0.473             | Val Loss:  0.399             | Val F1:  0.449\n",
      "Trigger times: 1\n"
     ]
    },
    {
     "name": "stderr",
     "output_type": "stream",
     "text": [
      "100%|██████████| 13/13 [00:01<00:00,  9.51it/s]\n",
      "100%|██████████| 6/6 [00:00<00:00, 14.96it/s]\n"
     ]
    },
    {
     "name": "stdout",
     "output_type": "stream",
     "text": [
      "Epochs: 35 | Train Loss:  0.391             | Train F1:  0.494             | Val Loss:  0.395             | Val F1:  0.498\n",
      "Trigger times: 0\n"
     ]
    },
    {
     "name": "stderr",
     "output_type": "stream",
     "text": [
      "100%|██████████| 13/13 [00:01<00:00,  9.48it/s]\n",
      "100%|██████████| 6/6 [00:00<00:00, 14.14it/s]\n"
     ]
    },
    {
     "name": "stdout",
     "output_type": "stream",
     "text": [
      "Epochs: 36 | Train Loss:  0.381             | Train F1:  0.542             | Val Loss:  0.392             | Val F1:  0.500\n",
      "Trigger times: 0\n"
     ]
    },
    {
     "name": "stderr",
     "output_type": "stream",
     "text": [
      "100%|██████████| 13/13 [00:01<00:00,  9.62it/s]\n",
      "100%|██████████| 6/6 [00:00<00:00, 15.38it/s]\n"
     ]
    },
    {
     "name": "stdout",
     "output_type": "stream",
     "text": [
      "Epochs: 37 | Train Loss:  0.381             | Train F1:  0.548             | Val Loss:  0.392             | Val F1:  0.509\n",
      "Trigger times: 0\n"
     ]
    },
    {
     "name": "stderr",
     "output_type": "stream",
     "text": [
      "100%|██████████| 13/13 [00:01<00:00,  9.67it/s]\n",
      "100%|██████████| 6/6 [00:00<00:00, 15.85it/s]\n"
     ]
    },
    {
     "name": "stdout",
     "output_type": "stream",
     "text": [
      "Epochs: 38 | Train Loss:  0.376             | Train F1:  0.543             | Val Loss:  0.379             | Val F1:  0.553\n",
      "Trigger times: 0\n"
     ]
    },
    {
     "name": "stderr",
     "output_type": "stream",
     "text": [
      "100%|██████████| 13/13 [00:01<00:00, 10.03it/s]\n",
      "100%|██████████| 6/6 [00:00<00:00, 15.40it/s]\n"
     ]
    },
    {
     "name": "stdout",
     "output_type": "stream",
     "text": [
      "Epochs: 39 | Train Loss:  0.363             | Train F1:  0.574             | Val Loss:  0.392             | Val F1:  0.591\n",
      "Trigger times: 0\n"
     ]
    },
    {
     "name": "stderr",
     "output_type": "stream",
     "text": [
      "100%|██████████| 13/13 [00:01<00:00,  9.87it/s]\n",
      "100%|██████████| 6/6 [00:00<00:00, 14.93it/s]\n"
     ]
    },
    {
     "name": "stdout",
     "output_type": "stream",
     "text": [
      "Epochs: 40 | Train Loss:  0.350             | Train F1:  0.600             | Val Loss:  0.373             | Val F1:  0.587\n",
      "Trigger times: 1\n"
     ]
    },
    {
     "name": "stderr",
     "output_type": "stream",
     "text": [
      "100%|██████████| 13/13 [00:01<00:00,  9.51it/s]\n",
      "100%|██████████| 6/6 [00:00<00:00, 14.91it/s]\n"
     ]
    },
    {
     "name": "stdout",
     "output_type": "stream",
     "text": [
      "Epochs: 41 | Train Loss:  0.342             | Train F1:  0.611             | Val Loss:  0.378             | Val F1:  0.592\n",
      "Trigger times: 0\n"
     ]
    },
    {
     "name": "stderr",
     "output_type": "stream",
     "text": [
      "100%|██████████| 13/13 [00:01<00:00,  9.08it/s]\n",
      "100%|██████████| 6/6 [00:00<00:00, 14.13it/s]\n"
     ]
    },
    {
     "name": "stdout",
     "output_type": "stream",
     "text": [
      "Epochs: 42 | Train Loss:  0.327             | Train F1:  0.604             | Val Loss:  0.387             | Val F1:  0.592\n",
      "Trigger times: 1\n"
     ]
    },
    {
     "name": "stderr",
     "output_type": "stream",
     "text": [
      "100%|██████████| 13/13 [00:01<00:00,  9.65it/s]\n",
      "100%|██████████| 6/6 [00:00<00:00, 14.22it/s]\n"
     ]
    },
    {
     "name": "stdout",
     "output_type": "stream",
     "text": [
      "Epochs: 43 | Train Loss:  0.319             | Train F1:  0.632             | Val Loss:  0.381             | Val F1:  0.611\n",
      "Trigger times: 0\n"
     ]
    },
    {
     "name": "stderr",
     "output_type": "stream",
     "text": [
      "100%|██████████| 13/13 [00:01<00:00,  9.67it/s]\n",
      "100%|██████████| 6/6 [00:00<00:00, 14.64it/s]\n"
     ]
    },
    {
     "name": "stdout",
     "output_type": "stream",
     "text": [
      "Epochs: 44 | Train Loss:  0.307             | Train F1:  0.631             | Val Loss:  0.358             | Val F1:  0.560\n",
      "Trigger times: 1\n"
     ]
    },
    {
     "name": "stderr",
     "output_type": "stream",
     "text": [
      "100%|██████████| 13/13 [00:01<00:00,  9.72it/s]\n",
      "100%|██████████| 6/6 [00:00<00:00, 15.10it/s]\n"
     ]
    },
    {
     "name": "stdout",
     "output_type": "stream",
     "text": [
      "Epochs: 45 | Train Loss:  0.297             | Train F1:  0.637             | Val Loss:  0.367             | Val F1:  0.617\n",
      "Trigger times: 0\n"
     ]
    },
    {
     "name": "stderr",
     "output_type": "stream",
     "text": [
      "100%|██████████| 13/13 [00:01<00:00,  9.51it/s]\n",
      "100%|██████████| 6/6 [00:00<00:00, 14.09it/s]\n"
     ]
    },
    {
     "name": "stdout",
     "output_type": "stream",
     "text": [
      "Epochs: 46 | Train Loss:  0.288             | Train F1:  0.661             | Val Loss:  0.352             | Val F1:  0.608\n",
      "Trigger times: 1\n"
     ]
    },
    {
     "name": "stderr",
     "output_type": "stream",
     "text": [
      "100%|██████████| 13/13 [00:01<00:00,  9.78it/s]\n",
      "100%|██████████| 6/6 [00:00<00:00, 14.60it/s]\n"
     ]
    },
    {
     "name": "stdout",
     "output_type": "stream",
     "text": [
      "Epochs: 47 | Train Loss:  0.279             | Train F1:  0.669             | Val Loss:  0.352             | Val F1:  0.601\n",
      "Trigger times: 2\n"
     ]
    },
    {
     "name": "stderr",
     "output_type": "stream",
     "text": [
      "100%|██████████| 13/13 [00:01<00:00,  9.47it/s]\n",
      "100%|██████████| 6/6 [00:00<00:00, 15.84it/s]\n"
     ]
    },
    {
     "name": "stdout",
     "output_type": "stream",
     "text": [
      "Epochs: 48 | Train Loss:  0.279             | Train F1:  0.658             | Val Loss:  0.408             | Val F1:  0.593\n",
      "Trigger times: 3\n"
     ]
    },
    {
     "name": "stderr",
     "output_type": "stream",
     "text": [
      "100%|██████████| 13/13 [00:01<00:00,  9.96it/s]\n",
      "100%|██████████| 6/6 [00:00<00:00, 15.01it/s]\n"
     ]
    },
    {
     "name": "stdout",
     "output_type": "stream",
     "text": [
      "Epochs: 49 | Train Loss:  0.284             | Train F1:  0.663             | Val Loss:  0.362             | Val F1:  0.603\n",
      "Trigger times: 4\n"
     ]
    },
    {
     "name": "stderr",
     "output_type": "stream",
     "text": [
      "100%|██████████| 13/13 [00:01<00:00,  9.61it/s]\n",
      "100%|██████████| 6/6 [00:00<00:00, 14.96it/s]\n"
     ]
    },
    {
     "name": "stdout",
     "output_type": "stream",
     "text": [
      "Epochs: 50 | Train Loss:  0.264             | Train F1:  0.666             | Val Loss:  0.353             | Val F1:  0.623\n",
      "Trigger times: 0\n"
     ]
    },
    {
     "name": "stderr",
     "output_type": "stream",
     "text": [
      "100%|██████████| 13/13 [00:01<00:00,  9.73it/s]\n",
      "100%|██████████| 6/6 [00:00<00:00, 15.54it/s]\n"
     ]
    },
    {
     "name": "stdout",
     "output_type": "stream",
     "text": [
      "Epochs: 51 | Train Loss:  0.257             | Train F1:  0.682             | Val Loss:  0.332             | Val F1:  0.644\n",
      "Trigger times: 0\n"
     ]
    },
    {
     "name": "stderr",
     "output_type": "stream",
     "text": [
      "100%|██████████| 13/13 [00:01<00:00,  9.58it/s]\n",
      "100%|██████████| 6/6 [00:00<00:00, 14.67it/s]\n"
     ]
    },
    {
     "name": "stdout",
     "output_type": "stream",
     "text": [
      "Epochs: 52 | Train Loss:  0.249             | Train F1:  0.691             | Val Loss:  0.325             | Val F1:  0.616\n",
      "Trigger times: 1\n"
     ]
    },
    {
     "name": "stderr",
     "output_type": "stream",
     "text": [
      "100%|██████████| 13/13 [00:01<00:00,  9.63it/s]\n",
      "100%|██████████| 6/6 [00:00<00:00, 15.28it/s]\n"
     ]
    },
    {
     "name": "stdout",
     "output_type": "stream",
     "text": [
      "Epochs: 53 | Train Loss:  0.237             | Train F1:  0.691             | Val Loss:  0.346             | Val F1:  0.643\n",
      "Trigger times: 2\n"
     ]
    },
    {
     "name": "stderr",
     "output_type": "stream",
     "text": [
      "100%|██████████| 13/13 [00:01<00:00,  9.57it/s]\n",
      "100%|██████████| 6/6 [00:00<00:00, 15.49it/s]\n"
     ]
    },
    {
     "name": "stdout",
     "output_type": "stream",
     "text": [
      "Epochs: 54 | Train Loss:  0.232             | Train F1:  0.717             | Val Loss:  0.338             | Val F1:  0.642\n",
      "Trigger times: 3\n"
     ]
    },
    {
     "name": "stderr",
     "output_type": "stream",
     "text": [
      "100%|██████████| 13/13 [00:01<00:00,  9.77it/s]\n",
      "100%|██████████| 6/6 [00:00<00:00, 14.44it/s]\n"
     ]
    },
    {
     "name": "stdout",
     "output_type": "stream",
     "text": [
      "Epochs: 55 | Train Loss:  0.226             | Train F1:  0.731             | Val Loss:  0.350             | Val F1:  0.655\n",
      "Trigger times: 0\n"
     ]
    },
    {
     "name": "stderr",
     "output_type": "stream",
     "text": [
      "100%|██████████| 13/13 [00:01<00:00,  9.43it/s]\n",
      "100%|██████████| 6/6 [00:00<00:00, 14.98it/s]\n"
     ]
    },
    {
     "name": "stdout",
     "output_type": "stream",
     "text": [
      "Epochs: 56 | Train Loss:  0.223             | Train F1:  0.732             | Val Loss:  0.361             | Val F1:  0.648\n",
      "Trigger times: 1\n"
     ]
    },
    {
     "name": "stderr",
     "output_type": "stream",
     "text": [
      "100%|██████████| 13/13 [00:01<00:00,  9.62it/s]\n",
      "100%|██████████| 6/6 [00:00<00:00, 15.14it/s]\n"
     ]
    },
    {
     "name": "stdout",
     "output_type": "stream",
     "text": [
      "Epochs: 57 | Train Loss:  0.216             | Train F1:  0.731             | Val Loss:  0.369             | Val F1:  0.662\n",
      "Trigger times: 0\n"
     ]
    },
    {
     "name": "stderr",
     "output_type": "stream",
     "text": [
      "100%|██████████| 13/13 [00:01<00:00,  9.89it/s]\n",
      "100%|██████████| 6/6 [00:00<00:00, 14.22it/s]\n"
     ]
    },
    {
     "name": "stdout",
     "output_type": "stream",
     "text": [
      "Epochs: 58 | Train Loss:  0.213             | Train F1:  0.751             | Val Loss:  0.363             | Val F1:  0.660\n",
      "Trigger times: 1\n"
     ]
    },
    {
     "name": "stderr",
     "output_type": "stream",
     "text": [
      "100%|██████████| 13/13 [00:01<00:00,  9.29it/s]\n",
      "100%|██████████| 6/6 [00:00<00:00, 15.25it/s]\n"
     ]
    },
    {
     "name": "stdout",
     "output_type": "stream",
     "text": [
      "Epochs: 59 | Train Loss:  0.206             | Train F1:  0.766             | Val Loss:  0.343             | Val F1:  0.643\n",
      "Trigger times: 2\n"
     ]
    },
    {
     "name": "stderr",
     "output_type": "stream",
     "text": [
      "100%|██████████| 13/13 [00:01<00:00,  9.56it/s]\n",
      "100%|██████████| 6/6 [00:00<00:00, 15.12it/s]\n"
     ]
    },
    {
     "name": "stdout",
     "output_type": "stream",
     "text": [
      "Epochs: 60 | Train Loss:  0.203             | Train F1:  0.762             | Val Loss:  0.365             | Val F1:  0.678\n",
      "Trigger times: 0\n"
     ]
    },
    {
     "name": "stderr",
     "output_type": "stream",
     "text": [
      "100%|██████████| 13/13 [00:01<00:00,  9.29it/s]\n",
      "100%|██████████| 6/6 [00:00<00:00, 15.13it/s]\n"
     ]
    },
    {
     "name": "stdout",
     "output_type": "stream",
     "text": [
      "Epochs: 61 | Train Loss:  0.198             | Train F1:  0.775             | Val Loss:  0.334             | Val F1:  0.693\n",
      "Trigger times: 0\n"
     ]
    },
    {
     "name": "stderr",
     "output_type": "stream",
     "text": [
      "100%|██████████| 13/13 [00:01<00:00,  9.43it/s]\n",
      "100%|██████████| 6/6 [00:00<00:00, 15.44it/s]\n"
     ]
    },
    {
     "name": "stdout",
     "output_type": "stream",
     "text": [
      "Epochs: 62 | Train Loss:  0.194             | Train F1:  0.784             | Val Loss:  0.354             | Val F1:  0.695\n",
      "Trigger times: 0\n"
     ]
    },
    {
     "name": "stderr",
     "output_type": "stream",
     "text": [
      "100%|██████████| 13/13 [00:01<00:00, 10.00it/s]\n",
      "100%|██████████| 6/6 [00:00<00:00, 15.29it/s]\n"
     ]
    },
    {
     "name": "stdout",
     "output_type": "stream",
     "text": [
      "Epochs: 63 | Train Loss:  0.196             | Train F1:  0.774             | Val Loss:  0.356             | Val F1:  0.689\n",
      "Trigger times: 1\n"
     ]
    },
    {
     "name": "stderr",
     "output_type": "stream",
     "text": [
      "100%|██████████| 13/13 [00:01<00:00, 10.01it/s]\n",
      "100%|██████████| 6/6 [00:00<00:00, 16.01it/s]\n"
     ]
    },
    {
     "name": "stdout",
     "output_type": "stream",
     "text": [
      "Epochs: 64 | Train Loss:  0.187             | Train F1:  0.797             | Val Loss:  0.330             | Val F1:  0.692\n",
      "Trigger times: 2\n"
     ]
    },
    {
     "name": "stderr",
     "output_type": "stream",
     "text": [
      "100%|██████████| 13/13 [00:01<00:00,  9.97it/s]\n",
      "100%|██████████| 6/6 [00:00<00:00, 15.73it/s]\n"
     ]
    },
    {
     "name": "stdout",
     "output_type": "stream",
     "text": [
      "Epochs: 65 | Train Loss:  0.180             | Train F1:  0.799             | Val Loss:  0.362             | Val F1:  0.695\n",
      "Trigger times: 3\n"
     ]
    },
    {
     "name": "stderr",
     "output_type": "stream",
     "text": [
      "100%|██████████| 13/13 [00:01<00:00,  9.94it/s]\n",
      "100%|██████████| 6/6 [00:00<00:00, 14.84it/s]\n"
     ]
    },
    {
     "name": "stdout",
     "output_type": "stream",
     "text": [
      "Epochs: 66 | Train Loss:  0.173             | Train F1:  0.808             | Val Loss:  0.366             | Val F1:  0.703\n",
      "Trigger times: 0\n"
     ]
    },
    {
     "name": "stderr",
     "output_type": "stream",
     "text": [
      "100%|██████████| 13/13 [00:01<00:00,  9.70it/s]\n",
      "100%|██████████| 6/6 [00:00<00:00, 14.60it/s]\n"
     ]
    },
    {
     "name": "stdout",
     "output_type": "stream",
     "text": [
      "Epochs: 67 | Train Loss:  0.169             | Train F1:  0.827             | Val Loss:  0.342             | Val F1:  0.718\n",
      "Trigger times: 0\n"
     ]
    },
    {
     "name": "stderr",
     "output_type": "stream",
     "text": [
      "100%|██████████| 13/13 [00:01<00:00,  9.42it/s]\n",
      "100%|██████████| 6/6 [00:00<00:00, 15.89it/s]\n"
     ]
    },
    {
     "name": "stdout",
     "output_type": "stream",
     "text": [
      "Epochs: 68 | Train Loss:  0.164             | Train F1:  0.824             | Val Loss:  0.372             | Val F1:  0.699\n",
      "Trigger times: 1\n"
     ]
    },
    {
     "name": "stderr",
     "output_type": "stream",
     "text": [
      "100%|██████████| 13/13 [00:01<00:00, 10.11it/s]\n",
      "100%|██████████| 6/6 [00:00<00:00, 14.99it/s]\n"
     ]
    },
    {
     "name": "stdout",
     "output_type": "stream",
     "text": [
      "Epochs: 69 | Train Loss:  0.161             | Train F1:  0.838             | Val Loss:  0.359             | Val F1:  0.711\n",
      "Trigger times: 2\n"
     ]
    },
    {
     "name": "stderr",
     "output_type": "stream",
     "text": [
      "100%|██████████| 13/13 [00:01<00:00,  9.18it/s]\n",
      "100%|██████████| 6/6 [00:00<00:00, 15.71it/s]\n"
     ]
    },
    {
     "name": "stdout",
     "output_type": "stream",
     "text": [
      "Epochs: 70 | Train Loss:  0.154             | Train F1:  0.844             | Val Loss:  0.373             | Val F1:  0.706\n",
      "Trigger times: 3\n"
     ]
    },
    {
     "name": "stderr",
     "output_type": "stream",
     "text": [
      "100%|██████████| 13/13 [00:01<00:00,  9.94it/s]\n",
      "100%|██████████| 6/6 [00:00<00:00, 14.67it/s]\n"
     ]
    },
    {
     "name": "stdout",
     "output_type": "stream",
     "text": [
      "Epochs: 71 | Train Loss:  0.151             | Train F1:  0.853             | Val Loss:  0.380             | Val F1:  0.682\n",
      "Trigger times: 4\n"
     ]
    },
    {
     "name": "stderr",
     "output_type": "stream",
     "text": [
      "100%|██████████| 13/13 [00:01<00:00,  9.92it/s]\n",
      "100%|██████████| 6/6 [00:00<00:00, 14.47it/s]\n"
     ]
    },
    {
     "name": "stdout",
     "output_type": "stream",
     "text": [
      "Epochs: 72 | Train Loss:  0.150             | Train F1:  0.848             | Val Loss:  0.376             | Val F1:  0.669\n",
      "Trigger times: 5\n"
     ]
    },
    {
     "name": "stderr",
     "output_type": "stream",
     "text": [
      "100%|██████████| 13/13 [00:01<00:00,  9.65it/s]\n",
      "100%|██████████| 6/6 [00:00<00:00, 15.82it/s]\n"
     ]
    },
    {
     "name": "stdout",
     "output_type": "stream",
     "text": [
      "Epochs: 73 | Train Loss:  0.149             | Train F1:  0.864             | Val Loss:  0.351             | Val F1:  0.696\n",
      "Trigger times: 6\n"
     ]
    },
    {
     "name": "stderr",
     "output_type": "stream",
     "text": [
      "100%|██████████| 13/13 [00:01<00:00,  9.68it/s]\n",
      "100%|██████████| 6/6 [00:00<00:00, 15.44it/s]\n"
     ]
    },
    {
     "name": "stdout",
     "output_type": "stream",
     "text": [
      "Epochs: 74 | Train Loss:  0.144             | Train F1:  0.858             | Val Loss:  0.354             | Val F1:  0.725\n",
      "Trigger times: 0\n"
     ]
    },
    {
     "name": "stderr",
     "output_type": "stream",
     "text": [
      "100%|██████████| 13/13 [00:01<00:00,  9.64it/s]\n",
      "100%|██████████| 6/6 [00:00<00:00, 14.14it/s]\n"
     ]
    },
    {
     "name": "stdout",
     "output_type": "stream",
     "text": [
      "Epochs: 75 | Train Loss:  0.137             | Train F1:  0.871             | Val Loss:  0.387             | Val F1:  0.709\n",
      "Trigger times: 1\n"
     ]
    },
    {
     "name": "stderr",
     "output_type": "stream",
     "text": [
      "100%|██████████| 13/13 [00:01<00:00,  9.50it/s]\n",
      "100%|██████████| 6/6 [00:00<00:00, 14.95it/s]\n"
     ]
    },
    {
     "name": "stdout",
     "output_type": "stream",
     "text": [
      "Epochs: 76 | Train Loss:  0.134             | Train F1:  0.871             | Val Loss:  0.410             | Val F1:  0.722\n",
      "Trigger times: 2\n"
     ]
    },
    {
     "name": "stderr",
     "output_type": "stream",
     "text": [
      "100%|██████████| 13/13 [00:01<00:00,  9.21it/s]\n",
      "100%|██████████| 6/6 [00:00<00:00, 14.17it/s]\n"
     ]
    },
    {
     "name": "stdout",
     "output_type": "stream",
     "text": [
      "Epochs: 77 | Train Loss:  0.130             | Train F1:  0.886             | Val Loss:  0.381             | Val F1:  0.713\n",
      "Trigger times: 3\n"
     ]
    },
    {
     "name": "stderr",
     "output_type": "stream",
     "text": [
      "100%|██████████| 13/13 [00:01<00:00,  9.45it/s]\n",
      "100%|██████████| 6/6 [00:00<00:00, 14.14it/s]\n"
     ]
    },
    {
     "name": "stdout",
     "output_type": "stream",
     "text": [
      "Epochs: 78 | Train Loss:  0.125             | Train F1:  0.895             | Val Loss:  0.409             | Val F1:  0.714\n",
      "Trigger times: 4\n"
     ]
    },
    {
     "name": "stderr",
     "output_type": "stream",
     "text": [
      "100%|██████████| 13/13 [00:01<00:00,  9.28it/s]\n",
      "100%|██████████| 6/6 [00:00<00:00, 15.28it/s]\n"
     ]
    },
    {
     "name": "stdout",
     "output_type": "stream",
     "text": [
      "Epochs: 79 | Train Loss:  0.121             | Train F1:  0.898             | Val Loss:  0.406             | Val F1:  0.726\n",
      "Trigger times: 0\n"
     ]
    },
    {
     "name": "stderr",
     "output_type": "stream",
     "text": [
      "100%|██████████| 13/13 [00:01<00:00,  9.67it/s]\n",
      "100%|██████████| 6/6 [00:00<00:00, 15.81it/s]\n"
     ]
    },
    {
     "name": "stdout",
     "output_type": "stream",
     "text": [
      "Epochs: 80 | Train Loss:  0.121             | Train F1:  0.907             | Val Loss:  0.412             | Val F1:  0.721\n",
      "Trigger times: 1\n"
     ]
    },
    {
     "name": "stderr",
     "output_type": "stream",
     "text": [
      "100%|██████████| 13/13 [00:01<00:00,  9.80it/s]\n",
      "100%|██████████| 6/6 [00:00<00:00, 15.08it/s]\n"
     ]
    },
    {
     "name": "stdout",
     "output_type": "stream",
     "text": [
      "Epochs: 81 | Train Loss:  0.117             | Train F1:  0.897             | Val Loss:  0.425             | Val F1:  0.722\n",
      "Trigger times: 2\n"
     ]
    },
    {
     "name": "stderr",
     "output_type": "stream",
     "text": [
      "100%|██████████| 13/13 [00:01<00:00,  9.47it/s]\n",
      "100%|██████████| 6/6 [00:00<00:00, 15.31it/s]\n"
     ]
    },
    {
     "name": "stdout",
     "output_type": "stream",
     "text": [
      "Epochs: 82 | Train Loss:  0.117             | Train F1:  0.898             | Val Loss:  0.449             | Val F1:  0.719\n",
      "Trigger times: 3\n"
     ]
    },
    {
     "name": "stderr",
     "output_type": "stream",
     "text": [
      "100%|██████████| 13/13 [00:01<00:00,  9.84it/s]\n",
      "100%|██████████| 6/6 [00:00<00:00, 14.03it/s]\n"
     ]
    },
    {
     "name": "stdout",
     "output_type": "stream",
     "text": [
      "Epochs: 83 | Train Loss:  0.116             | Train F1:  0.910             | Val Loss:  0.376             | Val F1:  0.729\n",
      "Trigger times: 0\n"
     ]
    },
    {
     "name": "stderr",
     "output_type": "stream",
     "text": [
      "100%|██████████| 13/13 [00:01<00:00,  9.89it/s]\n",
      "100%|██████████| 6/6 [00:00<00:00, 15.08it/s]\n"
     ]
    },
    {
     "name": "stdout",
     "output_type": "stream",
     "text": [
      "Epochs: 84 | Train Loss:  0.113             | Train F1:  0.906             | Val Loss:  0.396             | Val F1:  0.721\n",
      "Trigger times: 1\n"
     ]
    },
    {
     "name": "stderr",
     "output_type": "stream",
     "text": [
      "100%|██████████| 13/13 [00:01<00:00,  9.64it/s]\n",
      "100%|██████████| 6/6 [00:00<00:00, 15.85it/s]\n"
     ]
    },
    {
     "name": "stdout",
     "output_type": "stream",
     "text": [
      "Epochs: 85 | Train Loss:  0.109             | Train F1:  0.909             | Val Loss:  0.368             | Val F1:  0.723\n",
      "Trigger times: 2\n"
     ]
    },
    {
     "name": "stderr",
     "output_type": "stream",
     "text": [
      "100%|██████████| 13/13 [00:01<00:00, 10.17it/s]\n",
      "100%|██████████| 6/6 [00:00<00:00, 14.46it/s]\n"
     ]
    },
    {
     "name": "stdout",
     "output_type": "stream",
     "text": [
      "Epochs: 86 | Train Loss:  0.108             | Train F1:  0.917             | Val Loss:  0.450             | Val F1:  0.735\n",
      "Trigger times: 0\n"
     ]
    },
    {
     "name": "stderr",
     "output_type": "stream",
     "text": [
      "100%|██████████| 13/13 [00:01<00:00,  9.62it/s]\n",
      "100%|██████████| 6/6 [00:00<00:00, 14.37it/s]\n"
     ]
    },
    {
     "name": "stdout",
     "output_type": "stream",
     "text": [
      "Epochs: 87 | Train Loss:  0.110             | Train F1:  0.910             | Val Loss:  0.316             | Val F1:  0.677\n",
      "Trigger times: 1\n"
     ]
    },
    {
     "name": "stderr",
     "output_type": "stream",
     "text": [
      "100%|██████████| 13/13 [00:01<00:00,  9.21it/s]\n",
      "100%|██████████| 6/6 [00:00<00:00, 14.84it/s]\n"
     ]
    },
    {
     "name": "stdout",
     "output_type": "stream",
     "text": [
      "Epochs: 88 | Train Loss:  0.124             | Train F1:  0.895             | Val Loss:  0.399             | Val F1:  0.717\n",
      "Trigger times: 2\n"
     ]
    },
    {
     "name": "stderr",
     "output_type": "stream",
     "text": [
      "100%|██████████| 13/13 [00:01<00:00,  9.31it/s]\n",
      "100%|██████████| 6/6 [00:00<00:00, 16.08it/s]\n"
     ]
    },
    {
     "name": "stdout",
     "output_type": "stream",
     "text": [
      "Epochs: 89 | Train Loss:  0.114             | Train F1:  0.896             | Val Loss:  0.406             | Val F1:  0.720\n",
      "Trigger times: 3\n"
     ]
    },
    {
     "name": "stderr",
     "output_type": "stream",
     "text": [
      "100%|██████████| 13/13 [00:01<00:00,  9.62it/s]\n",
      "100%|██████████| 6/6 [00:00<00:00, 15.50it/s]\n"
     ]
    },
    {
     "name": "stdout",
     "output_type": "stream",
     "text": [
      "Epochs: 90 | Train Loss:  0.107             | Train F1:  0.908             | Val Loss:  0.455             | Val F1:  0.732\n",
      "Trigger times: 4\n"
     ]
    },
    {
     "name": "stderr",
     "output_type": "stream",
     "text": [
      "100%|██████████| 13/13 [00:01<00:00,  9.34it/s]\n",
      "100%|██████████| 6/6 [00:00<00:00, 15.50it/s]\n"
     ]
    },
    {
     "name": "stdout",
     "output_type": "stream",
     "text": [
      "Epochs: 91 | Train Loss:  0.098             | Train F1:  0.926             | Val Loss:  0.459             | Val F1:  0.720\n",
      "Trigger times: 5\n"
     ]
    },
    {
     "name": "stderr",
     "output_type": "stream",
     "text": [
      "100%|██████████| 13/13 [00:01<00:00,  9.81it/s]\n",
      "100%|██████████| 6/6 [00:00<00:00, 15.10it/s]\n"
     ]
    },
    {
     "name": "stdout",
     "output_type": "stream",
     "text": [
      "Epochs: 92 | Train Loss:  0.092             | Train F1:  0.935             | Val Loss:  0.438             | Val F1:  0.735\n",
      "Trigger times: 0\n"
     ]
    },
    {
     "name": "stderr",
     "output_type": "stream",
     "text": [
      "100%|██████████| 13/13 [00:01<00:00,  9.53it/s]\n",
      "100%|██████████| 6/6 [00:00<00:00, 15.90it/s]\n"
     ]
    },
    {
     "name": "stdout",
     "output_type": "stream",
     "text": [
      "Epochs: 93 | Train Loss:  0.088             | Train F1:  0.936             | Val Loss:  0.459             | Val F1:  0.733\n",
      "Trigger times: 1\n"
     ]
    },
    {
     "name": "stderr",
     "output_type": "stream",
     "text": [
      "100%|██████████| 13/13 [00:01<00:00,  9.68it/s]\n",
      "100%|██████████| 6/6 [00:00<00:00, 15.43it/s]\n"
     ]
    },
    {
     "name": "stdout",
     "output_type": "stream",
     "text": [
      "Epochs: 94 | Train Loss:  0.085             | Train F1:  0.944             | Val Loss:  0.390             | Val F1:  0.722\n",
      "Trigger times: 2\n"
     ]
    },
    {
     "name": "stderr",
     "output_type": "stream",
     "text": [
      "100%|██████████| 13/13 [00:01<00:00,  9.94it/s]\n",
      "100%|██████████| 6/6 [00:00<00:00, 14.77it/s]\n"
     ]
    },
    {
     "name": "stdout",
     "output_type": "stream",
     "text": [
      "Epochs: 95 | Train Loss:  0.085             | Train F1:  0.936             | Val Loss:  0.432             | Val F1:  0.707\n",
      "Trigger times: 3\n"
     ]
    },
    {
     "name": "stderr",
     "output_type": "stream",
     "text": [
      "100%|██████████| 13/13 [00:01<00:00,  9.87it/s]\n",
      "100%|██████████| 6/6 [00:00<00:00, 16.06it/s]\n"
     ]
    },
    {
     "name": "stdout",
     "output_type": "stream",
     "text": [
      "Epochs: 96 | Train Loss:  0.081             | Train F1:  0.941             | Val Loss:  0.468             | Val F1:  0.729\n",
      "Trigger times: 4\n"
     ]
    },
    {
     "name": "stderr",
     "output_type": "stream",
     "text": [
      "100%|██████████| 13/13 [00:01<00:00,  9.69it/s]\n",
      "100%|██████████| 6/6 [00:00<00:00, 15.19it/s]\n"
     ]
    },
    {
     "name": "stdout",
     "output_type": "stream",
     "text": [
      "Epochs: 97 | Train Loss:  0.079             | Train F1:  0.950             | Val Loss:  0.449             | Val F1:  0.732\n",
      "Trigger times: 5\n"
     ]
    },
    {
     "name": "stderr",
     "output_type": "stream",
     "text": [
      "100%|██████████| 13/13 [00:01<00:00,  9.59it/s]\n",
      "100%|██████████| 6/6 [00:00<00:00, 13.76it/s]\n"
     ]
    },
    {
     "name": "stdout",
     "output_type": "stream",
     "text": [
      "Epochs: 98 | Train Loss:  0.075             | Train F1:  0.953             | Val Loss:  0.468             | Val F1:  0.728\n",
      "Trigger times: 6\n"
     ]
    },
    {
     "name": "stderr",
     "output_type": "stream",
     "text": [
      "100%|██████████| 13/13 [00:01<00:00,  9.69it/s]\n",
      "100%|██████████| 6/6 [00:00<00:00, 15.72it/s]\n"
     ]
    },
    {
     "name": "stdout",
     "output_type": "stream",
     "text": [
      "Epochs: 99 | Train Loss:  0.073             | Train F1:  0.956             | Val Loss:  0.442             | Val F1:  0.725\n",
      "Trigger times: 7\n"
     ]
    },
    {
     "name": "stderr",
     "output_type": "stream",
     "text": [
      "100%|██████████| 13/13 [00:01<00:00,  9.89it/s]\n",
      "100%|██████████| 6/6 [00:00<00:00, 15.98it/s]\n"
     ]
    },
    {
     "name": "stdout",
     "output_type": "stream",
     "text": [
      "Epochs: 100 | Train Loss:  0.073             | Train F1:  0.946             | Val Loss:  0.466             | Val F1:  0.719\n",
      "Trigger times: 8\n"
     ]
    },
    {
     "name": "stderr",
     "output_type": "stream",
     "text": [
      "100%|██████████| 13/13 [00:01<00:00,  9.54it/s]\n",
      "100%|██████████| 6/6 [00:00<00:00, 14.93it/s]\n"
     ]
    },
    {
     "name": "stdout",
     "output_type": "stream",
     "text": [
      "Epochs: 101 | Train Loss:  0.075             | Train F1:  0.934             | Val Loss:  0.558             | Val F1:  0.737\n",
      "Trigger times: 0\n"
     ]
    },
    {
     "name": "stderr",
     "output_type": "stream",
     "text": [
      "100%|██████████| 13/13 [00:01<00:00,  9.40it/s]\n",
      "100%|██████████| 6/6 [00:00<00:00, 13.77it/s]\n"
     ]
    },
    {
     "name": "stdout",
     "output_type": "stream",
     "text": [
      "Epochs: 102 | Train Loss:  0.072             | Train F1:  0.942             | Val Loss:  0.525             | Val F1:  0.726\n",
      "Trigger times: 1\n"
     ]
    },
    {
     "name": "stderr",
     "output_type": "stream",
     "text": [
      "100%|██████████| 13/13 [00:01<00:00,  9.50it/s]\n",
      "100%|██████████| 6/6 [00:00<00:00, 14.34it/s]\n"
     ]
    },
    {
     "name": "stdout",
     "output_type": "stream",
     "text": [
      "Epochs: 103 | Train Loss:  0.070             | Train F1:  0.949             | Val Loss:  0.485             | Val F1:  0.734\n",
      "Trigger times: 2\n"
     ]
    },
    {
     "name": "stderr",
     "output_type": "stream",
     "text": [
      "100%|██████████| 13/13 [00:01<00:00,  9.54it/s]\n",
      "100%|██████████| 6/6 [00:00<00:00, 15.04it/s]\n"
     ]
    },
    {
     "name": "stdout",
     "output_type": "stream",
     "text": [
      "Epochs: 104 | Train Loss:  0.065             | Train F1:  0.960             | Val Loss:  0.483             | Val F1:  0.729\n",
      "Trigger times: 3\n"
     ]
    },
    {
     "name": "stderr",
     "output_type": "stream",
     "text": [
      "100%|██████████| 13/13 [00:01<00:00,  9.43it/s]\n",
      "100%|██████████| 6/6 [00:00<00:00, 15.70it/s]\n"
     ]
    },
    {
     "name": "stdout",
     "output_type": "stream",
     "text": [
      "Epochs: 105 | Train Loss:  0.062             | Train F1:  0.964             | Val Loss:  0.478             | Val F1:  0.738\n",
      "Trigger times: 0\n"
     ]
    },
    {
     "name": "stderr",
     "output_type": "stream",
     "text": [
      "100%|██████████| 13/13 [00:01<00:00,  9.67it/s]\n",
      "100%|██████████| 6/6 [00:00<00:00, 15.25it/s]\n"
     ]
    },
    {
     "name": "stdout",
     "output_type": "stream",
     "text": [
      "Epochs: 106 | Train Loss:  0.060             | Train F1:  0.965             | Val Loss:  0.560             | Val F1:  0.737\n",
      "Trigger times: 1\n"
     ]
    },
    {
     "name": "stderr",
     "output_type": "stream",
     "text": [
      "100%|██████████| 13/13 [00:01<00:00,  9.42it/s]\n",
      "100%|██████████| 6/6 [00:00<00:00, 14.52it/s]\n"
     ]
    },
    {
     "name": "stdout",
     "output_type": "stream",
     "text": [
      "Epochs: 107 | Train Loss:  0.058             | Train F1:  0.967             | Val Loss:  0.539             | Val F1:  0.732\n",
      "Trigger times: 2\n"
     ]
    },
    {
     "name": "stderr",
     "output_type": "stream",
     "text": [
      "100%|██████████| 13/13 [00:01<00:00,  9.55it/s]\n",
      "100%|██████████| 6/6 [00:00<00:00, 13.89it/s]\n"
     ]
    },
    {
     "name": "stdout",
     "output_type": "stream",
     "text": [
      "Epochs: 108 | Train Loss:  0.055             | Train F1:  0.965             | Val Loss:  0.545             | Val F1:  0.742\n",
      "Trigger times: 0\n"
     ]
    },
    {
     "name": "stderr",
     "output_type": "stream",
     "text": [
      "100%|██████████| 13/13 [00:01<00:00,  8.92it/s]\n",
      "100%|██████████| 6/6 [00:00<00:00, 16.32it/s]\n"
     ]
    },
    {
     "name": "stdout",
     "output_type": "stream",
     "text": [
      "Epochs: 109 | Train Loss:  0.054             | Train F1:  0.967             | Val Loss:  0.553             | Val F1:  0.729\n",
      "Trigger times: 1\n"
     ]
    },
    {
     "name": "stderr",
     "output_type": "stream",
     "text": [
      "100%|██████████| 13/13 [00:01<00:00,  9.82it/s]\n",
      "100%|██████████| 6/6 [00:00<00:00, 15.11it/s]\n"
     ]
    },
    {
     "name": "stdout",
     "output_type": "stream",
     "text": [
      "Epochs: 110 | Train Loss:  0.052             | Train F1:  0.970             | Val Loss:  0.540             | Val F1:  0.740\n",
      "Trigger times: 2\n"
     ]
    },
    {
     "name": "stderr",
     "output_type": "stream",
     "text": [
      "100%|██████████| 13/13 [00:01<00:00,  9.49it/s]\n",
      "100%|██████████| 6/6 [00:00<00:00, 14.28it/s]\n"
     ]
    },
    {
     "name": "stdout",
     "output_type": "stream",
     "text": [
      "Epochs: 111 | Train Loss:  0.050             | Train F1:  0.971             | Val Loss:  0.537             | Val F1:  0.726\n",
      "Trigger times: 3\n"
     ]
    },
    {
     "name": "stderr",
     "output_type": "stream",
     "text": [
      "100%|██████████| 13/13 [00:01<00:00,  9.94it/s]\n",
      "100%|██████████| 6/6 [00:00<00:00, 14.72it/s]\n"
     ]
    },
    {
     "name": "stdout",
     "output_type": "stream",
     "text": [
      "Epochs: 112 | Train Loss:  0.049             | Train F1:  0.973             | Val Loss:  0.534             | Val F1:  0.747\n",
      "Trigger times: 0\n"
     ]
    },
    {
     "name": "stderr",
     "output_type": "stream",
     "text": [
      "100%|██████████| 13/13 [00:01<00:00,  9.45it/s]\n",
      "100%|██████████| 6/6 [00:00<00:00, 15.20it/s]\n"
     ]
    },
    {
     "name": "stdout",
     "output_type": "stream",
     "text": [
      "Epochs: 113 | Train Loss:  0.048             | Train F1:  0.972             | Val Loss:  0.540             | Val F1:  0.735\n",
      "Trigger times: 1\n"
     ]
    },
    {
     "name": "stderr",
     "output_type": "stream",
     "text": [
      "100%|██████████| 13/13 [00:01<00:00,  9.38it/s]\n",
      "100%|██████████| 6/6 [00:00<00:00, 15.12it/s]\n"
     ]
    },
    {
     "name": "stdout",
     "output_type": "stream",
     "text": [
      "Epochs: 114 | Train Loss:  0.048             | Train F1:  0.971             | Val Loss:  0.528             | Val F1:  0.741\n",
      "Trigger times: 2\n"
     ]
    },
    {
     "name": "stderr",
     "output_type": "stream",
     "text": [
      "100%|██████████| 13/13 [00:01<00:00,  9.61it/s]\n",
      "100%|██████████| 6/6 [00:00<00:00, 14.88it/s]\n"
     ]
    },
    {
     "name": "stdout",
     "output_type": "stream",
     "text": [
      "Epochs: 115 | Train Loss:  0.047             | Train F1:  0.973             | Val Loss:  0.588             | Val F1:  0.745\n",
      "Trigger times: 3\n"
     ]
    },
    {
     "name": "stderr",
     "output_type": "stream",
     "text": [
      "100%|██████████| 13/13 [00:01<00:00,  9.50it/s]\n",
      "100%|██████████| 6/6 [00:00<00:00, 15.17it/s]\n"
     ]
    },
    {
     "name": "stdout",
     "output_type": "stream",
     "text": [
      "Epochs: 116 | Train Loss:  0.047             | Train F1:  0.973             | Val Loss:  0.573             | Val F1:  0.738\n",
      "Trigger times: 4\n"
     ]
    },
    {
     "name": "stderr",
     "output_type": "stream",
     "text": [
      "100%|██████████| 13/13 [00:01<00:00,  9.78it/s]\n",
      "100%|██████████| 6/6 [00:00<00:00, 14.86it/s]\n"
     ]
    },
    {
     "name": "stdout",
     "output_type": "stream",
     "text": [
      "Epochs: 117 | Train Loss:  0.045             | Train F1:  0.976             | Val Loss:  0.554             | Val F1:  0.744\n",
      "Trigger times: 5\n"
     ]
    },
    {
     "name": "stderr",
     "output_type": "stream",
     "text": [
      "100%|██████████| 13/13 [00:01<00:00,  9.58it/s]\n",
      "100%|██████████| 6/6 [00:00<00:00, 15.55it/s]\n"
     ]
    },
    {
     "name": "stdout",
     "output_type": "stream",
     "text": [
      "Epochs: 118 | Train Loss:  0.046             | Train F1:  0.973             | Val Loss:  0.540             | Val F1:  0.726\n",
      "Trigger times: 6\n"
     ]
    },
    {
     "name": "stderr",
     "output_type": "stream",
     "text": [
      "100%|██████████| 13/13 [00:01<00:00,  9.74it/s]\n",
      "100%|██████████| 6/6 [00:00<00:00, 14.62it/s]\n"
     ]
    },
    {
     "name": "stdout",
     "output_type": "stream",
     "text": [
      "Epochs: 119 | Train Loss:  0.047             | Train F1:  0.970             | Val Loss:  0.527             | Val F1:  0.724\n",
      "Trigger times: 7\n"
     ]
    },
    {
     "name": "stderr",
     "output_type": "stream",
     "text": [
      "100%|██████████| 13/13 [00:01<00:00,  9.19it/s]\n",
      "100%|██████████| 6/6 [00:00<00:00, 14.70it/s]\n"
     ]
    },
    {
     "name": "stdout",
     "output_type": "stream",
     "text": [
      "Epochs: 120 | Train Loss:  0.044             | Train F1:  0.975             | Val Loss:  0.522             | Val F1:  0.724\n",
      "Trigger times: 8\n"
     ]
    },
    {
     "name": "stderr",
     "output_type": "stream",
     "text": [
      "100%|██████████| 13/13 [00:01<00:00,  9.51it/s]\n",
      "100%|██████████| 6/6 [00:00<00:00, 14.73it/s]\n"
     ]
    },
    {
     "name": "stdout",
     "output_type": "stream",
     "text": [
      "Epochs: 121 | Train Loss:  0.041             | Train F1:  0.980             | Val Loss:  0.555             | Val F1:  0.727\n",
      "Trigger times: 9\n"
     ]
    },
    {
     "name": "stderr",
     "output_type": "stream",
     "text": [
      "100%|██████████| 13/13 [00:01<00:00,  9.88it/s]\n",
      "100%|██████████| 6/6 [00:00<00:00, 14.85it/s]\n"
     ]
    },
    {
     "name": "stdout",
     "output_type": "stream",
     "text": [
      "Epochs: 122 | Train Loss:  0.041             | Train F1:  0.971             | Val Loss:  0.539             | Val F1:  0.716\n",
      "Trigger times: 10\n"
     ]
    },
    {
     "name": "stderr",
     "output_type": "stream",
     "text": [
      "100%|██████████| 13/13 [00:01<00:00,  9.60it/s]\n",
      "100%|██████████| 6/6 [00:00<00:00, 15.36it/s]\n"
     ]
    },
    {
     "name": "stdout",
     "output_type": "stream",
     "text": [
      "Epochs: 123 | Train Loss:  0.042             | Train F1:  0.966             | Val Loss:  0.539             | Val F1:  0.729\n",
      "Trigger times: 11\n"
     ]
    },
    {
     "name": "stderr",
     "output_type": "stream",
     "text": [
      "100%|██████████| 13/13 [00:01<00:00,  9.51it/s]\n",
      "100%|██████████| 6/6 [00:00<00:00, 15.16it/s]\n"
     ]
    },
    {
     "name": "stdout",
     "output_type": "stream",
     "text": [
      "Epochs: 124 | Train Loss:  0.039             | Train F1:  0.979             | Val Loss:  0.580             | Val F1:  0.734\n",
      "Trigger times: 12\n"
     ]
    },
    {
     "name": "stderr",
     "output_type": "stream",
     "text": [
      "100%|██████████| 13/13 [00:01<00:00,  9.47it/s]\n",
      "100%|██████████| 6/6 [00:00<00:00, 13.70it/s]\n"
     ]
    },
    {
     "name": "stdout",
     "output_type": "stream",
     "text": [
      "Epochs: 125 | Train Loss:  0.038             | Train F1:  0.980             | Val Loss:  0.586             | Val F1:  0.734\n",
      "Trigger times: 13\n"
     ]
    },
    {
     "name": "stderr",
     "output_type": "stream",
     "text": [
      "100%|██████████| 13/13 [00:01<00:00,  9.76it/s]\n",
      "100%|██████████| 6/6 [00:00<00:00, 15.36it/s]\n"
     ]
    },
    {
     "name": "stdout",
     "output_type": "stream",
     "text": [
      "Epochs: 126 | Train Loss:  0.035             | Train F1:  0.984             | Val Loss:  0.574             | Val F1:  0.739\n",
      "Trigger times: 14\n"
     ]
    },
    {
     "name": "stderr",
     "output_type": "stream",
     "text": [
      "100%|██████████| 13/13 [00:01<00:00,  9.91it/s]\n",
      "100%|██████████| 6/6 [00:00<00:00, 15.11it/s]\n"
     ]
    },
    {
     "name": "stdout",
     "output_type": "stream",
     "text": [
      "Epochs: 127 | Train Loss:  0.033             | Train F1:  0.987             | Val Loss:  0.579             | Val F1:  0.747\n",
      "Trigger times: 0\n"
     ]
    },
    {
     "name": "stderr",
     "output_type": "stream",
     "text": [
      "100%|██████████| 13/13 [00:01<00:00,  9.87it/s]\n",
      "100%|██████████| 6/6 [00:00<00:00, 15.82it/s]\n"
     ]
    },
    {
     "name": "stdout",
     "output_type": "stream",
     "text": [
      "Epochs: 128 | Train Loss:  0.032             | Train F1:  0.987             | Val Loss:  0.585             | Val F1:  0.724\n",
      "Trigger times: 1\n"
     ]
    },
    {
     "name": "stderr",
     "output_type": "stream",
     "text": [
      "100%|██████████| 13/13 [00:01<00:00,  9.83it/s]\n",
      "100%|██████████| 6/6 [00:00<00:00, 14.53it/s]\n"
     ]
    },
    {
     "name": "stdout",
     "output_type": "stream",
     "text": [
      "Epochs: 129 | Train Loss:  0.030             | Train F1:  0.986             | Val Loss:  0.591             | Val F1:  0.760\n",
      "Trigger times: 0\n"
     ]
    },
    {
     "name": "stderr",
     "output_type": "stream",
     "text": [
      "100%|██████████| 13/13 [00:01<00:00,  9.30it/s]\n",
      "100%|██████████| 6/6 [00:00<00:00, 14.94it/s]\n"
     ]
    },
    {
     "name": "stdout",
     "output_type": "stream",
     "text": [
      "Epochs: 130 | Train Loss:  0.031             | Train F1:  0.985             | Val Loss:  0.609             | Val F1:  0.730\n",
      "Trigger times: 1\n"
     ]
    },
    {
     "name": "stderr",
     "output_type": "stream",
     "text": [
      "100%|██████████| 13/13 [00:01<00:00,  9.75it/s]\n",
      "100%|██████████| 6/6 [00:00<00:00, 16.24it/s]\n"
     ]
    },
    {
     "name": "stdout",
     "output_type": "stream",
     "text": [
      "Epochs: 131 | Train Loss:  0.038             | Train F1:  0.977             | Val Loss:  0.560             | Val F1:  0.733\n",
      "Trigger times: 2\n"
     ]
    },
    {
     "name": "stderr",
     "output_type": "stream",
     "text": [
      "100%|██████████| 13/13 [00:01<00:00,  9.75it/s]\n",
      "100%|██████████| 6/6 [00:00<00:00, 14.57it/s]\n"
     ]
    },
    {
     "name": "stdout",
     "output_type": "stream",
     "text": [
      "Epochs: 132 | Train Loss:  0.039             | Train F1:  0.976             | Val Loss:  0.578             | Val F1:  0.727\n",
      "Trigger times: 3\n"
     ]
    },
    {
     "name": "stderr",
     "output_type": "stream",
     "text": [
      "100%|██████████| 13/13 [00:01<00:00,  9.87it/s]\n",
      "100%|██████████| 6/6 [00:00<00:00, 15.47it/s]\n"
     ]
    },
    {
     "name": "stdout",
     "output_type": "stream",
     "text": [
      "Epochs: 133 | Train Loss:  0.038             | Train F1:  0.973             | Val Loss:  0.602             | Val F1:  0.732\n",
      "Trigger times: 4\n"
     ]
    },
    {
     "name": "stderr",
     "output_type": "stream",
     "text": [
      "100%|██████████| 13/13 [00:01<00:00,  8.76it/s]\n",
      "100%|██████████| 6/6 [00:00<00:00, 14.46it/s]\n"
     ]
    },
    {
     "name": "stdout",
     "output_type": "stream",
     "text": [
      "Epochs: 134 | Train Loss:  0.034             | Train F1:  0.976             | Val Loss:  0.626             | Val F1:  0.723\n",
      "Trigger times: 5\n"
     ]
    },
    {
     "name": "stderr",
     "output_type": "stream",
     "text": [
      "100%|██████████| 13/13 [00:01<00:00,  9.31it/s]\n",
      "100%|██████████| 6/6 [00:00<00:00, 16.13it/s]\n"
     ]
    },
    {
     "name": "stdout",
     "output_type": "stream",
     "text": [
      "Epochs: 135 | Train Loss:  0.040             | Train F1:  0.962             | Val Loss:  0.560             | Val F1:  0.718\n",
      "Trigger times: 6\n"
     ]
    },
    {
     "name": "stderr",
     "output_type": "stream",
     "text": [
      "100%|██████████| 13/13 [00:01<00:00,  9.98it/s]\n",
      "100%|██████████| 6/6 [00:00<00:00, 13.41it/s]\n"
     ]
    },
    {
     "name": "stdout",
     "output_type": "stream",
     "text": [
      "Epochs: 136 | Train Loss:  0.037             | Train F1:  0.965             | Val Loss:  0.554             | Val F1:  0.740\n",
      "Trigger times: 7\n"
     ]
    },
    {
     "name": "stderr",
     "output_type": "stream",
     "text": [
      "100%|██████████| 13/13 [00:01<00:00,  9.48it/s]\n",
      "100%|██████████| 6/6 [00:00<00:00, 14.10it/s]\n"
     ]
    },
    {
     "name": "stdout",
     "output_type": "stream",
     "text": [
      "Epochs: 137 | Train Loss:  0.034             | Train F1:  0.979             | Val Loss:  0.573             | Val F1:  0.724\n",
      "Trigger times: 8\n"
     ]
    },
    {
     "name": "stderr",
     "output_type": "stream",
     "text": [
      "100%|██████████| 13/13 [00:01<00:00,  9.35it/s]\n",
      "100%|██████████| 6/6 [00:00<00:00, 15.39it/s]\n"
     ]
    },
    {
     "name": "stdout",
     "output_type": "stream",
     "text": [
      "Epochs: 138 | Train Loss:  0.029             | Train F1:  0.988             | Val Loss:  0.563             | Val F1:  0.720\n",
      "Trigger times: 9\n"
     ]
    },
    {
     "name": "stderr",
     "output_type": "stream",
     "text": [
      "100%|██████████| 13/13 [00:01<00:00,  9.91it/s]\n",
      "100%|██████████| 6/6 [00:00<00:00, 15.31it/s]\n"
     ]
    },
    {
     "name": "stdout",
     "output_type": "stream",
     "text": [
      "Epochs: 139 | Train Loss:  0.027             | Train F1:  0.989             | Val Loss:  0.609             | Val F1:  0.732\n",
      "Trigger times: 10\n"
     ]
    },
    {
     "name": "stderr",
     "output_type": "stream",
     "text": [
      "100%|██████████| 13/13 [00:01<00:00,  9.65it/s]\n",
      "100%|██████████| 6/6 [00:00<00:00, 17.15it/s]\n"
     ]
    },
    {
     "name": "stdout",
     "output_type": "stream",
     "text": [
      "Epochs: 140 | Train Loss:  0.024             | Train F1:  0.992             | Val Loss:  0.634             | Val F1:  0.728\n",
      "Trigger times: 11\n"
     ]
    },
    {
     "name": "stderr",
     "output_type": "stream",
     "text": [
      "100%|██████████| 13/13 [00:01<00:00,  9.74it/s]\n",
      "100%|██████████| 6/6 [00:00<00:00, 14.38it/s]\n"
     ]
    },
    {
     "name": "stdout",
     "output_type": "stream",
     "text": [
      "Epochs: 141 | Train Loss:  0.023             | Train F1:  0.992             | Val Loss:  0.669             | Val F1:  0.728\n",
      "Trigger times: 12\n"
     ]
    },
    {
     "name": "stderr",
     "output_type": "stream",
     "text": [
      "100%|██████████| 13/13 [00:01<00:00,  9.69it/s]\n",
      "100%|██████████| 6/6 [00:00<00:00, 13.69it/s]\n"
     ]
    },
    {
     "name": "stdout",
     "output_type": "stream",
     "text": [
      "Epochs: 142 | Train Loss:  0.021             | Train F1:  0.994             | Val Loss:  0.616             | Val F1:  0.739\n",
      "Trigger times: 13\n"
     ]
    },
    {
     "name": "stderr",
     "output_type": "stream",
     "text": [
      "100%|██████████| 13/13 [00:01<00:00,  9.38it/s]\n",
      "100%|██████████| 6/6 [00:00<00:00, 14.84it/s]\n"
     ]
    },
    {
     "name": "stdout",
     "output_type": "stream",
     "text": [
      "Epochs: 143 | Train Loss:  0.021             | Train F1:  0.995             | Val Loss:  0.656             | Val F1:  0.741\n",
      "Trigger times: 14\n"
     ]
    },
    {
     "name": "stderr",
     "output_type": "stream",
     "text": [
      "100%|██████████| 13/13 [00:01<00:00,  9.16it/s]\n",
      "100%|██████████| 6/6 [00:00<00:00, 14.67it/s]\n"
     ]
    },
    {
     "name": "stdout",
     "output_type": "stream",
     "text": [
      "Epochs: 144 | Train Loss:  0.019             | Train F1:  0.995             | Val Loss:  0.652             | Val F1:  0.735\n",
      "Trigger times: 15\n"
     ]
    },
    {
     "name": "stderr",
     "output_type": "stream",
     "text": [
      "100%|██████████| 13/13 [00:01<00:00,  9.35it/s]\n",
      "100%|██████████| 6/6 [00:00<00:00, 14.70it/s]\n"
     ]
    },
    {
     "name": "stdout",
     "output_type": "stream",
     "text": [
      "Epochs: 145 | Train Loss:  0.019             | Train F1:  0.995             | Val Loss:  0.661             | Val F1:  0.729\n",
      "Trigger times: 16\n"
     ]
    },
    {
     "name": "stderr",
     "output_type": "stream",
     "text": [
      "100%|██████████| 13/13 [00:01<00:00,  9.63it/s]\n",
      "100%|██████████| 6/6 [00:00<00:00, 14.95it/s]\n"
     ]
    },
    {
     "name": "stdout",
     "output_type": "stream",
     "text": [
      "Epochs: 146 | Train Loss:  0.018             | Train F1:  0.996             | Val Loss:  0.655             | Val F1:  0.732\n",
      "Trigger times: 17\n"
     ]
    },
    {
     "name": "stderr",
     "output_type": "stream",
     "text": [
      "100%|██████████| 13/13 [00:01<00:00,  8.78it/s]\n",
      "100%|██████████| 6/6 [00:00<00:00, 13.63it/s]\n"
     ]
    },
    {
     "name": "stdout",
     "output_type": "stream",
     "text": [
      "Epochs: 147 | Train Loss:  0.017             | Train F1:  0.996             | Val Loss:  0.665             | Val F1:  0.727\n",
      "Trigger times: 18\n"
     ]
    },
    {
     "name": "stderr",
     "output_type": "stream",
     "text": [
      "100%|██████████| 13/13 [00:01<00:00,  9.25it/s]\n",
      "100%|██████████| 6/6 [00:00<00:00, 15.16it/s]\n"
     ]
    },
    {
     "name": "stdout",
     "output_type": "stream",
     "text": [
      "Epochs: 148 | Train Loss:  0.017             | Train F1:  0.997             | Val Loss:  0.661             | Val F1:  0.732\n",
      "Trigger times: 19\n"
     ]
    },
    {
     "name": "stderr",
     "output_type": "stream",
     "text": [
      "100%|██████████| 13/13 [00:01<00:00,  9.67it/s]\n",
      "100%|██████████| 6/6 [00:00<00:00, 14.52it/s]\n"
     ]
    },
    {
     "name": "stdout",
     "output_type": "stream",
     "text": [
      "Epochs: 149 | Train Loss:  0.016             | Train F1:  0.997             | Val Loss:  0.669             | Val F1:  0.729\n",
      "Trigger times: 20\n"
     ]
    },
    {
     "name": "stderr",
     "output_type": "stream",
     "text": [
      "100%|██████████| 13/13 [00:01<00:00,  9.72it/s]\n",
      "100%|██████████| 6/6 [00:00<00:00, 13.71it/s]"
     ]
    },
    {
     "name": "stdout",
     "output_type": "stream",
     "text": [
      "Epochs: 150 | Train Loss:  0.015             | Train F1:  0.997             | Val Loss:  0.697             | Val F1:  0.737\n",
      "Trigger times: 21\n",
      "Early stopping!\n"
     ]
    },
    {
     "name": "stderr",
     "output_type": "stream",
     "text": [
      "\n"
     ]
    }
   ],
   "source": [
    "model, train_loss_list, train_precision_list, train_recall_list, \\\n",
    "    val_loss_list, val_precision_list, val_recall_list = train(model, class_weight)"
   ]
  },
  {
   "cell_type": "markdown",
   "id": "ready-stupid",
   "metadata": {},
   "source": [
    "## 視覺化訓練過程"
   ]
  },
  {
   "cell_type": "code",
   "execution_count": 41,
   "id": "cooperative-savings",
   "metadata": {},
   "outputs": [
    {
     "data": {
      "image/png": "[encoded data removed]",
      "text/plain": [
       "<Figure size 432x288 with 1 Axes>"
      ]
     },
     "metadata": {},
     "output_type": "display_data"
    }
   ],
   "source": [
    "# 視覺化 Precision 結果\n",
    "sns.set()\n",
    "plt.plot(range(1, len(train_precision_list)+1), train_precision_list, label=\"train_precision\")\n",
    "plt.plot(range(1, len(val_precision_list)+1), val_precision_list, label=\"val_precision\")\n",
    "plt.legend()\n",
    "plt.xlabel(\"Epochs\")\n",
    "plt.ylabel(\"Precision\")\n",
    "plt.show()"
   ]
  },
  {
   "cell_type": "code",
   "execution_count": 42,
   "id": "comparative-cable",
   "metadata": {},
   "outputs": [
    {
     "data": {
      "image/png": "[encoded data removed]",
      "text/plain": [
       "<Figure size 432x288 with 1 Axes>"
      ]
     },
     "metadata": {},
     "output_type": "display_data"
    }
   ],
   "source": [
    "# 視覺化 Recall 結果\n",
    "sns.set()\n",
    "plt.plot(range(1, len(train_recall_list)+1), train_recall_list, label=\"train_recall\")\n",
    "plt.plot(range(1, len(val_recall_list)+1), val_recall_list, label=\"val_recall\")\n",
    "plt.legend()\n",
    "plt.xlabel(\"Epochs\")\n",
    "plt.ylabel(\"Recall\")\n",
    "plt.show()"
   ]
  },
  {
   "cell_type": "code",
   "execution_count": 43,
   "id": "pursuant-restoration",
   "metadata": {},
   "outputs": [
    {
     "data": {
      "image/png": "[encoded data removed]",
      "text/plain": [
       "<Figure size 432x288 with 1 Axes>"
      ]
     },
     "metadata": {},
     "output_type": "display_data"
    }
   ],
   "source": [
    "# 視覺化 Loss 結果\n",
    "plt.plot(range(1, len(train_loss_list)+1), train_loss_list, label=\"train_loss\")\n",
    "plt.plot(range(1, len(val_loss_list)+1), val_loss_list, label=\"val_loss\")\n",
    "plt.legend()\n",
    "plt.xlabel(\"Epochs\")\n",
    "plt.ylabel(\"Loss\")\n",
    "plt.show()"
   ]
  },
  {
   "cell_type": "markdown",
   "id": "ambient-south",
   "metadata": {},
   "source": [
    "## 驗證模型"
   ]
  },
  {
   "cell_type": "code",
   "execution_count": 44,
   "id": "living-freight",
   "metadata": {},
   "outputs": [
    {
     "data": {
      "text/plain": [
       "<All keys matched successfully>"
      ]
     },
     "execution_count": 44,
     "metadata": {},
     "output_type": "execute_result"
    }
   ],
   "source": [
    "model = Classifier()\n",
    "model.load_state_dict(torch.load(config[\"model_path\"]))"
   ]
  },
  {
   "cell_type": "code",
   "execution_count": 45,
   "id": "aging-project",
   "metadata": {},
   "outputs": [],
   "source": [
    "def evaluate(model):\n",
    "    model.eval()\n",
    "\n",
    "    test_set = SDG_Dataset(val_df, val_embedding, label_list)\n",
    "\n",
    "    test_loader = DataLoader(test_set, batch_size=1, shuffle=False)\n",
    "\n",
    "    model = model.to(device)\n",
    "\n",
    "    accuracy_list = []\n",
    "    precision_list = []\n",
    "    recall_list = []\n",
    "    topk_recall_list = []\n",
    "    \n",
    "    y_pred_list = []\n",
    "    y_true_list = []\n",
    "    \n",
    "    with torch.no_grad():\n",
    "\n",
    "        for test_embeddings, test_labels in test_loader:\n",
    "            \n",
    "            test_embeddings = test_embeddings.to(device)\n",
    "            test_labels = test_labels.to(device)\n",
    "            \n",
    "            output = model(test_embeddings).cpu()\n",
    "\n",
    "            pred = (output > 0).cpu()\n",
    "            y_true = (test_labels > 0).cpu()\n",
    "            \n",
    "            # 計算評估指標\n",
    "            accuracy, precision, recall, topk_recall = score(y_true, pred, output, k=5)\n",
    "            print(f\"Accuracy: {accuracy}\")\n",
    "            print(f\"Precision: {precision}\")\n",
    "            print(f\"Recall: {recall}\")\n",
    "            print(f\"Top-5 Recall: {topk_recall}\")\n",
    "            accuracy_list.append(accuracy)\n",
    "            precision_list.append(precision)\n",
    "            recall_list.append(recall)\n",
    "            topk_recall_list.append(topk_recall)\n",
    "\n",
    "            # 印出猜測的結果對應\n",
    "            y_pred = list(label_list[pred[0]])\n",
    "            y_true = list(label_list[y_true[0]])\n",
    "            y_pred_list.append(y_pred)\n",
    "            y_true_list.append(y_true)\n",
    "            # if not MLB.classes_[y_true[0]].any():\n",
    "            print(f\"預測: {y_pred}\")\n",
    "            print(f\"正解: {y_true}\")\n",
    "            print(\"=\"*30)\n",
    "\n",
    "    accuracy_res = np.array(accuracy_list).mean()\n",
    "    precision_res = np.array(precision_list).mean()\n",
    "    recall_res = np.array(recall_list).mean()\n",
    "    topk_recall_res = np.array(topk_recall_list).mean()\n",
    "    \n",
    "    return accuracy_res, precision_res, recall_res, topk_recall_res, y_pred_list, y_true_list"
   ]
  },
  {
   "cell_type": "code",
   "execution_count": 46,
   "id": "associate-possession",
   "metadata": {},
   "outputs": [
    {
     "name": "stdout",
     "output_type": "stream",
     "text": [
      "Accuracy: 1.0\n",
      "Precision: 1.0\n",
      "Recall: 1.0\n",
      "Top-5 Recall: 1.0\n",
      "預測: []\n",
      "正解: []\n",
      "==============================\n",
      "Accuracy: 0.0\n",
      "Precision: 0.0\n",
      "Recall: 0.0\n",
      "Top-5 Recall: 0.0\n",
      "預測: []\n",
      "正解: ['SDG4']\n",
      "==============================\n",
      "Accuracy: 1.0\n",
      "Precision: 1.0\n",
      "Recall: 1.0\n",
      "Top-5 Recall: 1.0\n",
      "預測: ['SDG4']\n",
      "正解: ['SDG4']\n",
      "==============================\n",
      "Accuracy: 1.0\n",
      "Precision: 1.0\n",
      "Recall: 1.0\n",
      "Top-5 Recall: 1.0\n",
      "預測: []\n",
      "正解: []\n",
      "==============================\n",
      "Accuracy: 1.0\n",
      "Precision: 1.0\n",
      "Recall: 1.0\n",
      "Top-5 Recall: 1.0\n",
      "預測: ['SDG3']\n",
      "正解: ['SDG3']\n",
      "==============================\n",
      "Accuracy: 1.0\n",
      "Precision: 1.0\n",
      "Recall: 1.0\n",
      "Top-5 Recall: 1.0\n",
      "預測: ['SDG4', 'SDG8']\n",
      "正解: ['SDG4', 'SDG8']\n",
      "==============================\n",
      "Accuracy: 1.0\n",
      "Precision: 1.0\n",
      "Recall: 1.0\n",
      "Top-5 Recall: 1.0\n",
      "預測: ['SDG4']\n",
      "正解: ['SDG4']\n",
      "==============================\n",
      "Accuracy: 1.0\n",
      "Precision: 1.0\n",
      "Recall: 1.0\n",
      "Top-5 Recall: 1.0\n",
      "預測: ['SDG4']\n",
      "正解: ['SDG4']\n",
      "==============================\n",
      "Accuracy: 1.0\n",
      "Precision: 1.0\n",
      "Recall: 1.0\n",
      "Top-5 Recall: 1.0\n",
      "預測: []\n",
      "正解: []\n",
      "==============================\n",
      "Accuracy: 1.0\n",
      "Precision: 1.0\n",
      "Recall: 1.0\n",
      "Top-5 Recall: 1.0\n",
      "預測: []\n",
      "正解: []\n",
      "==============================\n",
      "Accuracy: 0.0\n",
      "Precision: 0.0\n",
      "Recall: 0.0\n",
      "Top-5 Recall: 0.0\n",
      "預測: []\n",
      "正解: ['SDG2']\n",
      "==============================\n",
      "Accuracy: 1.0\n",
      "Precision: 1.0\n",
      "Recall: 1.0\n",
      "Top-5 Recall: 1.0\n",
      "預測: ['SDG3']\n",
      "正解: ['SDG3']\n",
      "==============================\n",
      "Accuracy: 1.0\n",
      "Precision: 1.0\n",
      "Recall: 1.0\n",
      "Top-5 Recall: 1.0\n",
      "預測: []\n",
      "正解: []\n",
      "==============================\n",
      "Accuracy: 1.0\n",
      "Precision: 1.0\n",
      "Recall: 1.0\n",
      "Top-5 Recall: 1.0\n",
      "預測: ['SDG3', 'SDG4', 'SDG8']\n",
      "正解: ['SDG3', 'SDG4', 'SDG8']\n",
      "==============================\n",
      "Accuracy: 0.0\n",
      "Precision: 0.5\n",
      "Recall: 1.0\n",
      "Top-5 Recall: 1.0\n",
      "預測: ['SDG8', 'SDG16']\n",
      "正解: ['SDG16']\n",
      "==============================\n",
      "Accuracy: 0.0\n",
      "Precision: 0.5\n",
      "Recall: 1.0\n",
      "Top-5 Recall: 1.0\n",
      "預測: ['SDG4', 'SDG15']\n",
      "正解: ['SDG15']\n",
      "==============================\n",
      "Accuracy: 0.0\n",
      "Precision: 0.0\n",
      "Recall: 0.0\n",
      "Top-5 Recall: 0.0\n",
      "預測: []\n",
      "正解: ['SDG16']\n",
      "==============================\n",
      "Accuracy: 1.0\n",
      "Precision: 1.0\n",
      "Recall: 1.0\n",
      "Top-5 Recall: 1.0\n",
      "預測: []\n",
      "正解: []\n",
      "==============================\n",
      "Accuracy: 0.0\n",
      "Precision: 0.75\n",
      "Recall: 0.6000000238418579\n",
      "Top-5 Recall: 0.6000000238418579\n",
      "預測: ['SDG8', 'SDG11', 'SDG12', 'SDG17']\n",
      "正解: ['SDG8', 'SDG9', 'SDG10', 'SDG11', 'SDG12']\n",
      "==============================\n",
      "Accuracy: 1.0\n",
      "Precision: 1.0\n",
      "Recall: 1.0\n",
      "Top-5 Recall: 1.0\n",
      "預測: ['SDG3']\n",
      "正解: ['SDG3']\n",
      "==============================\n",
      "Accuracy: 0.0\n",
      "Precision: 0.0\n",
      "Recall: 0.0\n",
      "Top-5 Recall: 0.0\n",
      "預測: []\n",
      "正解: ['SDG4']\n",
      "==============================\n",
      "Accuracy: 1.0\n",
      "Precision: 1.0\n",
      "Recall: 1.0\n",
      "Top-5 Recall: 1.0\n",
      "預測: []\n",
      "正解: []\n",
      "==============================\n",
      "Accuracy: 1.0\n",
      "Precision: 1.0\n",
      "Recall: 1.0\n",
      "Top-5 Recall: 1.0\n",
      "預測: ['SDG3', 'SDG4', 'SDG8']\n",
      "正解: ['SDG3', 'SDG4', 'SDG8']\n",
      "==============================\n",
      "Accuracy: 1.0\n",
      "Precision: 1.0\n",
      "Recall: 1.0\n",
      "Top-5 Recall: 1.0\n",
      "預測: []\n",
      "正解: []\n",
      "==============================\n",
      "Accuracy: 1.0\n",
      "Precision: 1.0\n",
      "Recall: 1.0\n",
      "Top-5 Recall: 1.0\n",
      "預測: ['SDG3', 'SDG4', 'SDG8']\n",
      "正解: ['SDG3', 'SDG4', 'SDG8']\n",
      "==============================\n",
      "Accuracy: 0.0\n",
      "Precision: 0.0\n",
      "Recall: 0.0\n",
      "Top-5 Recall: 0.0\n",
      "預測: []\n",
      "正解: ['SDG9', 'SDG11', 'SDG13']\n",
      "==============================\n",
      "Accuracy: 1.0\n",
      "Precision: 1.0\n",
      "Recall: 1.0\n",
      "Top-5 Recall: 1.0\n",
      "預測: ['SDG3', 'SDG10']\n",
      "正解: ['SDG3', 'SDG10']\n",
      "==============================\n",
      "Accuracy: 1.0\n",
      "Precision: 1.0\n",
      "Recall: 1.0\n",
      "Top-5 Recall: 1.0\n",
      "預測: []\n",
      "正解: []\n",
      "==============================\n",
      "Accuracy: 1.0\n",
      "Precision: 1.0\n",
      "Recall: 1.0\n",
      "Top-5 Recall: 1.0\n",
      "預測: []\n",
      "正解: []\n",
      "==============================\n",
      "Accuracy: 0.0\n",
      "Precision: 0.6666666865348816\n",
      "Recall: 1.0\n",
      "Top-5 Recall: 1.0\n",
      "預測: ['SDG3', 'SDG11', 'SDG17']\n",
      "正解: ['SDG3', 'SDG17']\n",
      "==============================\n",
      "Accuracy: 1.0\n",
      "Precision: 1.0\n",
      "Recall: 1.0\n",
      "Top-5 Recall: 1.0\n",
      "預測: []\n",
      "正解: []\n",
      "==============================\n",
      "Accuracy: 1.0\n",
      "Precision: 1.0\n",
      "Recall: 1.0\n",
      "Top-5 Recall: 1.0\n",
      "預測: []\n",
      "正解: []\n",
      "==============================\n",
      "Accuracy: 0.0\n",
      "Precision: 0.5\n",
      "Recall: 0.6666666865348816\n",
      "Top-5 Recall: 0.6666666865348816\n",
      "預測: ['SDG4', 'SDG6', 'SDG12', 'SDG15']\n",
      "正解: ['SDG6', 'SDG11', 'SDG15']\n",
      "==============================\n",
      "Accuracy: 0.0\n",
      "Precision: 0.75\n",
      "Recall: 0.75\n",
      "Top-5 Recall: 0.75\n",
      "預測: ['SDG1', 'SDG10', 'SDG11', 'SDG17']\n",
      "正解: ['SDG1', 'SDG10', 'SDG16', 'SDG17']\n",
      "==============================\n",
      "Accuracy: 1.0\n",
      "Precision: 1.0\n",
      "Recall: 1.0\n",
      "Top-5 Recall: 1.0\n",
      "預測: []\n",
      "正解: []\n",
      "==============================\n",
      "Accuracy: 1.0\n",
      "Precision: 1.0\n",
      "Recall: 1.0\n",
      "Top-5 Recall: 1.0\n",
      "預測: []\n",
      "正解: []\n",
      "==============================\n",
      "Accuracy: 1.0\n",
      "Precision: 1.0\n",
      "Recall: 1.0\n",
      "Top-5 Recall: 1.0\n",
      "預測: []\n",
      "正解: []\n",
      "==============================\n",
      "Accuracy: 0.0\n",
      "Precision: 0.0\n",
      "Recall: 0.0\n",
      "Top-5 Recall: 0.0\n",
      "預測: []\n",
      "正解: ['SDG3']\n",
      "==============================\n",
      "Accuracy: 1.0\n",
      "Precision: 1.0\n",
      "Recall: 1.0\n",
      "Top-5 Recall: 1.0\n",
      "預測: []\n",
      "正解: []\n",
      "==============================\n",
      "Accuracy: 1.0\n",
      "Precision: 1.0\n",
      "Recall: 1.0\n",
      "Top-5 Recall: 1.0\n",
      "預測: []\n",
      "正解: []\n",
      "==============================\n",
      "Accuracy: 1.0\n",
      "Precision: 1.0\n",
      "Recall: 1.0\n",
      "Top-5 Recall: 1.0\n",
      "預測: []\n",
      "正解: []\n",
      "==============================\n",
      "Accuracy: 0.0\n",
      "Precision: 0.0\n",
      "Recall: 0.0\n",
      "Top-5 Recall: 0.0\n",
      "預測: []\n",
      "正解: ['SDG4']\n",
      "==============================\n",
      "Accuracy: 0.0\n",
      "Precision: 0.0\n",
      "Recall: 0.0\n",
      "Top-5 Recall: 0.0\n",
      "預測: []\n",
      "正解: ['SDG4', 'SDG5', 'SDG10']\n",
      "==============================\n",
      "Accuracy: 0.0\n",
      "Precision: 1.0\n",
      "Recall: 0.3333333432674408\n",
      "Top-5 Recall: 0.6666666865348816\n",
      "預測: ['SDG9']\n",
      "正解: ['SDG7', 'SDG8', 'SDG9']\n",
      "==============================\n",
      "Accuracy: 1.0\n",
      "Precision: 1.0\n",
      "Recall: 1.0\n",
      "Top-5 Recall: 1.0\n",
      "預測: []\n",
      "正解: []\n",
      "==============================\n",
      "Accuracy: 0.0\n",
      "Precision: 0.0\n",
      "Recall: 0.0\n",
      "Top-5 Recall: 0.0\n",
      "預測: []\n",
      "正解: ['SDG4']\n",
      "==============================\n",
      "Accuracy: 1.0\n",
      "Precision: 1.0\n",
      "Recall: 1.0\n",
      "Top-5 Recall: 1.0\n",
      "預測: []\n",
      "正解: []\n",
      "==============================\n",
      "Accuracy: 1.0\n",
      "Precision: 1.0\n",
      "Recall: 1.0\n",
      "Top-5 Recall: 1.0\n",
      "預測: []\n",
      "正解: []\n",
      "==============================\n",
      "Accuracy: 1.0\n",
      "Precision: 1.0\n",
      "Recall: 1.0\n",
      "Top-5 Recall: 1.0\n",
      "預測: []\n",
      "正解: []\n",
      "==============================\n",
      "Accuracy: 0.0\n",
      "Precision: 0.0\n",
      "Recall: 0.0\n",
      "Top-5 Recall: 0.0\n",
      "預測: []\n",
      "正解: ['SDG3']\n",
      "==============================\n",
      "Accuracy: 0.0\n",
      "Precision: 0.5\n",
      "Recall: 0.5\n",
      "Top-5 Recall: 0.5\n",
      "預測: ['SDG3', 'SDG4']\n",
      "正解: ['SDG4', 'SDG15']\n",
      "==============================\n",
      "Accuracy: 1.0\n",
      "Precision: 1.0\n",
      "Recall: 1.0\n",
      "Top-5 Recall: 1.0\n",
      "預測: ['SDG3', 'SDG4', 'SDG8']\n",
      "正解: ['SDG3', 'SDG4', 'SDG8']\n",
      "==============================\n",
      "Accuracy: 0.0\n",
      "Precision: 0.0\n",
      "Recall: 0.0\n",
      "Top-5 Recall: 0.0\n",
      "預測: []\n",
      "正解: ['SDG16']\n",
      "==============================\n",
      "Accuracy: 0.0\n",
      "Precision: 0.0\n",
      "Recall: 0.0\n",
      "Top-5 Recall: 0.0\n",
      "預測: []\n",
      "正解: ['SDG12']\n",
      "==============================\n",
      "Accuracy: 0.0\n",
      "Precision: 0.5\n",
      "Recall: 0.5\n",
      "Top-5 Recall: 1.0\n",
      "預測: ['SDG4', 'SDG15']\n",
      "正解: ['SDG8', 'SDG15']\n",
      "==============================\n",
      "Accuracy: 0.0\n",
      "Precision: 0.0\n",
      "Recall: 0.0\n",
      "Top-5 Recall: 0.0\n",
      "預測: ['SDG4']\n",
      "正解: []\n",
      "==============================\n",
      "Accuracy: 1.0\n",
      "Precision: 1.0\n",
      "Recall: 1.0\n",
      "Top-5 Recall: 1.0\n",
      "預測: ['SDG4']\n",
      "正解: ['SDG4']\n",
      "==============================\n",
      "Accuracy: 0.0\n",
      "Precision: 0.5\n",
      "Recall: 1.0\n",
      "Top-5 Recall: 1.0\n",
      "預測: ['SDG1', 'SDG8', 'SDG10', 'SDG16']\n",
      "正解: ['SDG1', 'SDG8']\n",
      "==============================\n",
      "Accuracy: 1.0\n",
      "Precision: 1.0\n",
      "Recall: 1.0\n",
      "Top-5 Recall: 1.0\n",
      "預測: []\n",
      "正解: []\n",
      "==============================\n",
      "Accuracy: 0.0\n",
      "Precision: 0.0\n",
      "Recall: 0.0\n",
      "Top-5 Recall: 0.0\n",
      "預測: []\n",
      "正解: ['SDG7']\n",
      "==============================\n",
      "Accuracy: 1.0\n",
      "Precision: 1.0\n",
      "Recall: 1.0\n",
      "Top-5 Recall: 1.0\n",
      "預測: ['SDG4', 'SDG8', 'SDG11', 'SDG12']\n",
      "正解: ['SDG4', 'SDG8', 'SDG11', 'SDG12']\n",
      "==============================\n",
      "Accuracy: 1.0\n",
      "Precision: 1.0\n",
      "Recall: 1.0\n",
      "Top-5 Recall: 1.0\n",
      "預測: []\n",
      "正解: []\n",
      "==============================\n",
      "Accuracy: 0.0\n",
      "Precision: 0.0\n",
      "Recall: 0.0\n",
      "Top-5 Recall: 0.0\n",
      "預測: []\n",
      "正解: ['SDG4']\n",
      "==============================\n",
      "Accuracy: 1.0\n",
      "Precision: 1.0\n",
      "Recall: 1.0\n",
      "Top-5 Recall: 1.0\n",
      "預測: ['SDG3', 'SDG4', 'SDG8']\n",
      "正解: ['SDG3', 'SDG4', 'SDG8']\n",
      "==============================\n",
      "Accuracy: 0.0\n",
      "Precision: 1.0\n",
      "Recall: 0.5\n",
      "Top-5 Recall: 1.0\n",
      "預測: ['SDG4']\n",
      "正解: ['SDG4', 'SDG8']\n",
      "==============================\n",
      "Accuracy: 0.0\n",
      "Precision: 0.3333333432674408\n",
      "Recall: 0.5\n",
      "Top-5 Recall: 0.5\n",
      "預測: ['SDG6', 'SDG11', 'SDG12']\n",
      "正解: ['SDG6', 'SDG15']\n",
      "==============================\n",
      "Accuracy: 0.0\n",
      "Precision: 0.0\n",
      "Recall: 0.0\n",
      "Top-5 Recall: 0.0\n",
      "預測: []\n",
      "正解: ['SDG1', 'SDG8', 'SDG16']\n",
      "==============================\n",
      "Accuracy: 1.0\n",
      "Precision: 1.0\n",
      "Recall: 1.0\n",
      "Top-5 Recall: 1.0\n",
      "預測: ['SDG3', 'SDG4', 'SDG8']\n",
      "正解: ['SDG3', 'SDG4', 'SDG8']\n",
      "==============================\n",
      "Accuracy: 0.0\n",
      "Precision: 0.6666666865348816\n",
      "Recall: 1.0\n",
      "Top-5 Recall: 1.0\n",
      "預測: ['SDG3', 'SDG11', 'SDG12']\n",
      "正解: ['SDG3', 'SDG11']\n",
      "==============================\n",
      "Accuracy: 1.0\n",
      "Precision: 1.0\n",
      "Recall: 1.0\n",
      "Top-5 Recall: 1.0\n",
      "預測: ['SDG3', 'SDG4', 'SDG8']\n",
      "正解: ['SDG3', 'SDG4', 'SDG8']\n",
      "==============================\n",
      "Accuracy: 0.0\n",
      "Precision: 0.2857142984867096\n",
      "Recall: 1.0\n",
      "Top-5 Recall: 0.5\n",
      "預測: ['SDG6', 'SDG7', 'SDG9', 'SDG11', 'SDG12', 'SDG13', 'SDG17']\n",
      "正解: ['SDG7', 'SDG12']\n",
      "==============================\n",
      "Accuracy: 1.0\n",
      "Precision: 1.0\n",
      "Recall: 1.0\n",
      "Top-5 Recall: 1.0\n",
      "預測: []\n",
      "正解: []\n",
      "==============================\n",
      "Accuracy: 1.0\n",
      "Precision: 1.0\n",
      "Recall: 1.0\n",
      "Top-5 Recall: 1.0\n",
      "預測: []\n",
      "正解: []\n",
      "==============================\n",
      "Accuracy: 1.0\n",
      "Precision: 1.0\n",
      "Recall: 1.0\n",
      "Top-5 Recall: 1.0\n",
      "預測: []\n",
      "正解: []\n",
      "==============================\n",
      "Accuracy: 0.0\n",
      "Precision: 0.0\n",
      "Recall: 0.0\n",
      "Top-5 Recall: 0.0\n",
      "預測: []\n",
      "正解: ['SDG15']\n",
      "==============================\n",
      "Accuracy: 0.0\n",
      "Precision: 0.0\n",
      "Recall: 0.0\n",
      "Top-5 Recall: 0.0\n",
      "預測: ['SDG3']\n",
      "正解: []\n",
      "==============================\n",
      "Accuracy: 0.0\n",
      "Precision: 0.0\n",
      "Recall: 0.0\n",
      "Top-5 Recall: 0.0\n",
      "預測: ['SDG9']\n",
      "正解: []\n",
      "==============================\n",
      "Accuracy: 0.0\n",
      "Precision: 0.0\n",
      "Recall: 0.0\n",
      "Top-5 Recall: 0.0\n",
      "預測: ['SDG11']\n",
      "正解: ['SDG4']\n",
      "==============================\n",
      "Accuracy: 1.0\n",
      "Precision: 1.0\n",
      "Recall: 1.0\n",
      "Top-5 Recall: 1.0\n",
      "預測: []\n",
      "正解: []\n",
      "==============================\n"
     ]
    },
    {
     "name": "stdout",
     "output_type": "stream",
     "text": [
      "Accuracy: 0.0\n",
      "Precision: 0.0\n",
      "Recall: 0.0\n",
      "Top-5 Recall: 0.0\n",
      "預測: []\n",
      "正解: ['SDG4', 'SDG8']\n",
      "==============================\n",
      "Accuracy: 0.0\n",
      "Precision: 0.3333333432674408\n",
      "Recall: 1.0\n",
      "Top-5 Recall: 1.0\n",
      "預測: ['SDG3', 'SDG4', 'SDG8']\n",
      "正解: ['SDG3']\n",
      "==============================\n",
      "Accuracy: 1.0\n",
      "Precision: 1.0\n",
      "Recall: 1.0\n",
      "Top-5 Recall: 1.0\n",
      "預測: ['SDG3', 'SDG4', 'SDG8']\n",
      "正解: ['SDG3', 'SDG4', 'SDG8']\n",
      "==============================\n",
      "Accuracy: 1.0\n",
      "Precision: 1.0\n",
      "Recall: 1.0\n",
      "Top-5 Recall: 1.0\n",
      "預測: ['SDG4', 'SDG8', 'SDG11', 'SDG12']\n",
      "正解: ['SDG4', 'SDG8', 'SDG11', 'SDG12']\n",
      "==============================\n",
      "Accuracy: 1.0\n",
      "Precision: 1.0\n",
      "Recall: 1.0\n",
      "Top-5 Recall: 1.0\n",
      "預測: []\n",
      "正解: []\n",
      "==============================\n",
      "Accuracy: 1.0\n",
      "Precision: 1.0\n",
      "Recall: 1.0\n",
      "Top-5 Recall: 1.0\n",
      "預測: []\n",
      "正解: []\n",
      "==============================\n",
      "Accuracy: 0.0\n",
      "Precision: 1.0\n",
      "Recall: 0.5\n",
      "Top-5 Recall: 1.0\n",
      "預測: ['SDG4']\n",
      "正解: ['SDG4', 'SDG8']\n",
      "==============================\n",
      "Accuracy: 1.0\n",
      "Precision: 1.0\n",
      "Recall: 1.0\n",
      "Top-5 Recall: 1.0\n",
      "預測: ['SDG3']\n",
      "正解: ['SDG3']\n",
      "==============================\n",
      "Accuracy: 1.0\n",
      "Precision: 1.0\n",
      "Recall: 1.0\n",
      "Top-5 Recall: 1.0\n",
      "預測: ['SDG4', 'SDG8']\n",
      "正解: ['SDG4', 'SDG8']\n",
      "==============================\n",
      "Accuracy: 0.0\n",
      "Precision: 0.0\n",
      "Recall: 0.0\n",
      "Top-5 Recall: 0.0\n",
      "預測: []\n",
      "正解: ['SDG4']\n",
      "==============================\n",
      "Accuracy: 1.0\n",
      "Precision: 1.0\n",
      "Recall: 1.0\n",
      "Top-5 Recall: 1.0\n",
      "預測: ['SDG3', 'SDG4', 'SDG8']\n",
      "正解: ['SDG3', 'SDG4', 'SDG8']\n",
      "==============================\n",
      "Accuracy: 1.0\n",
      "Precision: 1.0\n",
      "Recall: 1.0\n",
      "Top-5 Recall: 1.0\n",
      "預測: ['SDG4']\n",
      "正解: ['SDG4']\n",
      "==============================\n",
      "Accuracy: 1.0\n",
      "Precision: 1.0\n",
      "Recall: 1.0\n",
      "Top-5 Recall: 1.0\n",
      "預測: ['SDG4']\n",
      "正解: ['SDG4']\n",
      "==============================\n",
      "Accuracy: 1.0\n",
      "Precision: 1.0\n",
      "Recall: 1.0\n",
      "Top-5 Recall: 1.0\n",
      "預測: []\n",
      "正解: []\n",
      "==============================\n",
      "Accuracy: 0.0\n",
      "Precision: 0.0\n",
      "Recall: 0.0\n",
      "Top-5 Recall: 0.0\n",
      "預測: []\n",
      "正解: ['SDG16']\n",
      "==============================\n",
      "Accuracy: 0.0\n",
      "Precision: 0.5\n",
      "Recall: 0.5\n",
      "Top-5 Recall: 0.5\n",
      "預測: ['SDG4', 'SDG15']\n",
      "正解: ['SDG6', 'SDG15']\n",
      "==============================\n",
      "Accuracy: 0.0\n",
      "Precision: 0.0\n",
      "Recall: 0.0\n",
      "Top-5 Recall: 0.0\n",
      "預測: []\n",
      "正解: ['SDG4']\n",
      "==============================\n",
      "Accuracy: 1.0\n",
      "Precision: 1.0\n",
      "Recall: 1.0\n",
      "Top-5 Recall: 1.0\n",
      "預測: []\n",
      "正解: []\n",
      "==============================\n",
      "Accuracy: 0.0\n",
      "Precision: 0.75\n",
      "Recall: 1.0\n",
      "Top-5 Recall: 1.0\n",
      "預測: ['SDG9', 'SDG11', 'SDG12', 'SDG13']\n",
      "正解: ['SDG9', 'SDG11', 'SDG13']\n",
      "==============================\n",
      "Accuracy: 1.0\n",
      "Precision: 1.0\n",
      "Recall: 1.0\n",
      "Top-5 Recall: 1.0\n",
      "預測: []\n",
      "正解: []\n",
      "==============================\n",
      "Accuracy: 0.0\n",
      "Precision: 0.0\n",
      "Recall: 0.0\n",
      "Top-5 Recall: 0.0\n",
      "預測: ['SDG4']\n",
      "正解: ['SDG9']\n",
      "==============================\n",
      "Accuracy: 1.0\n",
      "Precision: 1.0\n",
      "Recall: 1.0\n",
      "Top-5 Recall: 1.0\n",
      "預測: []\n",
      "正解: []\n",
      "==============================\n",
      "Accuracy: 0.0\n",
      "Precision: 0.0\n",
      "Recall: 0.0\n",
      "Top-5 Recall: 0.0\n",
      "預測: []\n",
      "正解: ['SDG4']\n",
      "==============================\n",
      "Accuracy: 1.0\n",
      "Precision: 1.0\n",
      "Recall: 1.0\n",
      "Top-5 Recall: 1.0\n",
      "預測: []\n",
      "正解: []\n",
      "==============================\n",
      "Accuracy: 1.0\n",
      "Precision: 1.0\n",
      "Recall: 1.0\n",
      "Top-5 Recall: 1.0\n",
      "預測: ['SDG3']\n",
      "正解: ['SDG3']\n",
      "==============================\n",
      "Accuracy: 0.0\n",
      "Precision: 0.0\n",
      "Recall: 0.0\n",
      "Top-5 Recall: 1.0\n",
      "預測: ['SDG4']\n",
      "正解: ['SDG3']\n",
      "==============================\n",
      "Accuracy: 1.0\n",
      "Precision: 1.0\n",
      "Recall: 1.0\n",
      "Top-5 Recall: 1.0\n",
      "預測: []\n",
      "正解: []\n",
      "==============================\n",
      "Accuracy: 1.0\n",
      "Precision: 1.0\n",
      "Recall: 1.0\n",
      "Top-5 Recall: 1.0\n",
      "預測: []\n",
      "正解: []\n",
      "==============================\n",
      "Accuracy: 1.0\n",
      "Precision: 1.0\n",
      "Recall: 1.0\n",
      "Top-5 Recall: 1.0\n",
      "預測: []\n",
      "正解: []\n",
      "==============================\n",
      "Accuracy: 1.0\n",
      "Precision: 1.0\n",
      "Recall: 1.0\n",
      "Top-5 Recall: 1.0\n",
      "預測: ['SDG3', 'SDG4', 'SDG8']\n",
      "正解: ['SDG3', 'SDG4', 'SDG8']\n",
      "==============================\n",
      "Accuracy: 1.0\n",
      "Precision: 1.0\n",
      "Recall: 1.0\n",
      "Top-5 Recall: 0.8333333730697632\n",
      "預測: ['SDG2', 'SDG3', 'SDG4', 'SDG8', 'SDG12', 'SDG16']\n",
      "正解: ['SDG2', 'SDG3', 'SDG4', 'SDG8', 'SDG12', 'SDG16']\n",
      "==============================\n",
      "Accuracy: 0.0\n",
      "Precision: 0.0\n",
      "Recall: 0.0\n",
      "Top-5 Recall: 0.0\n",
      "預測: []\n",
      "正解: ['SDG3']\n",
      "==============================\n",
      "Accuracy: 1.0\n",
      "Precision: 1.0\n",
      "Recall: 1.0\n",
      "Top-5 Recall: 1.0\n",
      "預測: ['SDG3', 'SDG4', 'SDG8']\n",
      "正解: ['SDG3', 'SDG4', 'SDG8']\n",
      "==============================\n",
      "Accuracy: 0.0\n",
      "Precision: 1.0\n",
      "Recall: 0.25\n",
      "Top-5 Recall: 0.5\n",
      "預測: ['SDG17']\n",
      "正解: ['SDG1', 'SDG2', 'SDG3', 'SDG17']\n",
      "==============================\n",
      "Accuracy: 1.0\n",
      "Precision: 1.0\n",
      "Recall: 1.0\n",
      "Top-5 Recall: 1.0\n",
      "預測: []\n",
      "正解: []\n",
      "==============================\n",
      "Accuracy: 1.0\n",
      "Precision: 1.0\n",
      "Recall: 1.0\n",
      "Top-5 Recall: 1.0\n",
      "預測: []\n",
      "正解: []\n",
      "==============================\n",
      "Accuracy: 1.0\n",
      "Precision: 1.0\n",
      "Recall: 1.0\n",
      "Top-5 Recall: 1.0\n",
      "預測: []\n",
      "正解: []\n",
      "==============================\n",
      "Accuracy: 0.0\n",
      "Precision: 0.3333333432674408\n",
      "Recall: 0.5\n",
      "Top-5 Recall: 0.5\n",
      "預測: ['SDG2', 'SDG9', 'SDG17']\n",
      "正解: ['SDG4', 'SDG17']\n",
      "==============================\n",
      "Accuracy: 1.0\n",
      "Precision: 1.0\n",
      "Recall: 1.0\n",
      "Top-5 Recall: 1.0\n",
      "預測: []\n",
      "正解: []\n",
      "==============================\n",
      "Accuracy: 1.0\n",
      "Precision: 1.0\n",
      "Recall: 1.0\n",
      "Top-5 Recall: 1.0\n",
      "預測: []\n",
      "正解: []\n",
      "==============================\n",
      "Accuracy: 0.0\n",
      "Precision: 1.0\n",
      "Recall: 0.5\n",
      "Top-5 Recall: 0.75\n",
      "預測: ['SDG4', 'SDG8']\n",
      "正解: ['SDG2', 'SDG4', 'SDG8', 'SDG16']\n",
      "==============================\n",
      "Accuracy: 1.0\n",
      "Precision: 1.0\n",
      "Recall: 1.0\n",
      "Top-5 Recall: 1.0\n",
      "預測: ['SDG3', 'SDG4', 'SDG8']\n",
      "正解: ['SDG3', 'SDG4', 'SDG8']\n",
      "==============================\n",
      "Accuracy: 0.0\n",
      "Precision: 1.0\n",
      "Recall: 0.5\n",
      "Top-5 Recall: 1.0\n",
      "預測: ['SDG4']\n",
      "正解: ['SDG4', 'SDG8']\n",
      "==============================\n",
      "Accuracy: 1.0\n",
      "Precision: 1.0\n",
      "Recall: 1.0\n",
      "Top-5 Recall: 1.0\n",
      "預測: ['SDG2', 'SDG4', 'SDG15']\n",
      "正解: ['SDG2', 'SDG4', 'SDG15']\n",
      "==============================\n",
      "Accuracy: 1.0\n",
      "Precision: 1.0\n",
      "Recall: 1.0\n",
      "Top-5 Recall: 1.0\n",
      "預測: []\n",
      "正解: []\n",
      "==============================\n",
      "Accuracy: 0.0\n",
      "Precision: 0.3333333432674408\n",
      "Recall: 0.5\n",
      "Top-5 Recall: 1.0\n",
      "預測: ['SDG3', 'SDG4', 'SDG8']\n",
      "正解: ['SDG3', 'SDG10']\n",
      "==============================\n",
      "Accuracy: 1.0\n",
      "Precision: 1.0\n",
      "Recall: 1.0\n",
      "Top-5 Recall: 1.0\n",
      "預測: ['SDG4']\n",
      "正解: ['SDG4']\n",
      "==============================\n",
      "Accuracy: 1.0\n",
      "Precision: 1.0\n",
      "Recall: 1.0\n",
      "Top-5 Recall: 1.0\n",
      "預測: ['SDG3']\n",
      "正解: ['SDG3']\n",
      "==============================\n",
      "Accuracy: 0.0\n",
      "Precision: 0.6666666865348816\n",
      "Recall: 1.0\n",
      "Top-5 Recall: 1.0\n",
      "預測: ['SDG2', 'SDG4', 'SDG8']\n",
      "正解: ['SDG2', 'SDG8']\n",
      "==============================\n",
      "Accuracy: 1.0\n",
      "Precision: 1.0\n",
      "Recall: 1.0\n",
      "Top-5 Recall: 1.0\n",
      "預測: ['SDG3']\n",
      "正解: ['SDG3']\n",
      "==============================\n",
      "Accuracy: 1.0\n",
      "Precision: 1.0\n",
      "Recall: 1.0\n",
      "Top-5 Recall: 1.0\n",
      "預測: ['SDG3', 'SDG4', 'SDG8']\n",
      "正解: ['SDG3', 'SDG4', 'SDG8']\n",
      "==============================\n",
      "Accuracy: 1.0\n",
      "Precision: 1.0\n",
      "Recall: 1.0\n",
      "Top-5 Recall: 1.0\n",
      "預測: []\n",
      "正解: []\n",
      "==============================\n",
      "Accuracy: 0.0\n",
      "Precision: 1.0\n",
      "Recall: 0.5\n",
      "Top-5 Recall: 1.0\n",
      "預測: ['SDG3', 'SDG8']\n",
      "正解: ['SDG3', 'SDG4', 'SDG5', 'SDG8']\n",
      "==============================\n",
      "Accuracy: 1.0\n",
      "Precision: 1.0\n",
      "Recall: 1.0\n",
      "Top-5 Recall: 1.0\n",
      "預測: ['SDG3']\n",
      "正解: ['SDG3']\n",
      "==============================\n",
      "Accuracy: 1.0\n",
      "Precision: 1.0\n",
      "Recall: 1.0\n",
      "Top-5 Recall: 1.0\n",
      "預測: []\n",
      "正解: []\n",
      "==============================\n",
      "Accuracy: 1.0\n",
      "Precision: 1.0\n",
      "Recall: 1.0\n",
      "Top-5 Recall: 1.0\n",
      "預測: ['SDG3']\n",
      "正解: ['SDG3']\n",
      "==============================\n",
      "Accuracy: 1.0\n",
      "Precision: 1.0\n",
      "Recall: 1.0\n",
      "Top-5 Recall: 1.0\n",
      "預測: ['SDG3', 'SDG4', 'SDG8']\n",
      "正解: ['SDG3', 'SDG4', 'SDG8']\n",
      "==============================\n",
      "Accuracy: 0.0\n",
      "Precision: 0.3333333432674408\n",
      "Recall: 1.0\n",
      "Top-5 Recall: 1.0\n",
      "預測: ['SDG3', 'SDG4', 'SDG8']\n",
      "正解: ['SDG3']\n",
      "==============================\n",
      "Accuracy: 0.0\n",
      "Precision: 1.0\n",
      "Recall: 0.5\n",
      "Top-5 Recall: 1.0\n",
      "預測: ['SDG3']\n",
      "正解: ['SDG3', 'SDG4']\n",
      "==============================\n",
      "Accuracy: 1.0\n",
      "Precision: 1.0\n",
      "Recall: 1.0\n",
      "Top-5 Recall: 1.0\n",
      "預測: ['SDG3']\n",
      "正解: ['SDG3']\n",
      "==============================\n",
      "Accuracy: 1.0\n",
      "Precision: 1.0\n",
      "Recall: 1.0\n",
      "Top-5 Recall: 1.0\n",
      "預測: []\n",
      "正解: []\n",
      "==============================\n",
      "Accuracy: 0.0\n",
      "Precision: 0.0\n",
      "Recall: 0.0\n",
      "Top-5 Recall: 0.0\n",
      "預測: []\n",
      "正解: ['SDG2']\n",
      "==============================\n",
      "Accuracy: 1.0\n",
      "Precision: 1.0\n",
      "Recall: 1.0\n",
      "Top-5 Recall: 1.0\n",
      "預測: ['SDG4']\n",
      "正解: ['SDG4']\n",
      "==============================\n",
      "Accuracy: 1.0\n",
      "Precision: 1.0\n",
      "Recall: 1.0\n",
      "Top-5 Recall: 1.0\n",
      "預測: []\n",
      "正解: []\n",
      "==============================\n",
      "Accuracy: 0.0\n",
      "Precision: 0.0\n",
      "Recall: 0.0\n",
      "Top-5 Recall: 0.0\n",
      "預測: ['SDG4']\n",
      "正解: []\n",
      "==============================\n",
      "Accuracy: 1.0\n",
      "Precision: 1.0\n",
      "Recall: 1.0\n",
      "Top-5 Recall: 1.0\n",
      "預測: []\n",
      "正解: []\n",
      "==============================\n",
      "Accuracy: 1.0\n",
      "Precision: 1.0\n",
      "Recall: 1.0\n",
      "Top-5 Recall: 1.0\n",
      "預測: ['SDG3']\n",
      "正解: ['SDG3']\n",
      "==============================\n",
      "Accuracy: 1.0\n",
      "Precision: 1.0\n",
      "Recall: 1.0\n",
      "Top-5 Recall: 1.0\n",
      "預測: []\n",
      "正解: []\n",
      "==============================\n",
      "Accuracy: 1.0\n",
      "Precision: 1.0\n",
      "Recall: 1.0\n",
      "Top-5 Recall: 1.0\n",
      "預測: []\n",
      "正解: []\n",
      "==============================\n",
      "Accuracy: 0.0\n",
      "Precision: 0.0\n",
      "Recall: 0.0\n",
      "Top-5 Recall: 0.0\n",
      "預測: []\n",
      "正解: ['SDG4', 'SDG8', 'SDG12']\n",
      "==============================\n",
      "Accuracy: 1.0\n",
      "Precision: 1.0\n",
      "Recall: 1.0\n",
      "Top-5 Recall: 1.0\n",
      "預測: []\n",
      "正解: []\n",
      "==============================\n",
      "Accuracy: 1.0\n",
      "Precision: 1.0\n",
      "Recall: 1.0\n",
      "Top-5 Recall: 1.0\n",
      "預測: ['SDG3']\n",
      "正解: ['SDG3']\n",
      "==============================\n",
      "Accuracy: 1.0\n",
      "Precision: 1.0\n",
      "Recall: 1.0\n",
      "Top-5 Recall: 1.0\n",
      "預測: []\n",
      "正解: []\n",
      "==============================\n",
      "Accuracy: 1.0\n",
      "Precision: 1.0\n",
      "Recall: 1.0\n",
      "Top-5 Recall: 1.0\n",
      "預測: []\n",
      "正解: []\n",
      "==============================\n",
      "Accuracy: 1.0\n",
      "Precision: 1.0\n",
      "Recall: 1.0\n",
      "Top-5 Recall: 1.0\n",
      "預測: ['SDG3', 'SDG4', 'SDG8']\n",
      "正解: ['SDG3', 'SDG4', 'SDG8']\n",
      "==============================\n",
      "Accuracy: 0.0\n",
      "Precision: 0.5\n",
      "Recall: 1.0\n",
      "Top-5 Recall: 1.0\n",
      "預測: ['SDG3', 'SDG10']\n",
      "正解: ['SDG10']\n",
      "==============================\n",
      "Accuracy: 1.0\n",
      "Precision: 1.0\n",
      "Recall: 1.0\n",
      "Top-5 Recall: 1.0\n",
      "預測: ['SDG3', 'SDG4', 'SDG8']\n",
      "正解: ['SDG3', 'SDG4', 'SDG8']\n",
      "==============================\n",
      "Accuracy: 1.0\n",
      "Precision: 1.0\n",
      "Recall: 1.0\n",
      "Top-5 Recall: 1.0\n",
      "預測: ['SDG4']\n",
      "正解: ['SDG4']\n",
      "==============================\n",
      "Accuracy: 0.0\n",
      "Precision: 0.0\n",
      "Recall: 0.0\n",
      "Top-5 Recall: 0.0\n",
      "預測: []\n",
      "正解: ['SDG4']\n",
      "==============================\n",
      "Accuracy: 1.0\n",
      "Precision: 1.0\n",
      "Recall: 1.0\n",
      "Top-5 Recall: 1.0\n",
      "預測: ['SDG3', 'SDG4', 'SDG8']\n",
      "正解: ['SDG3', 'SDG4', 'SDG8']\n",
      "==============================\n"
     ]
    },
    {
     "name": "stdout",
     "output_type": "stream",
     "text": [
      "Accuracy: 1.0\n",
      "Precision: 1.0\n",
      "Recall: 1.0\n",
      "Top-5 Recall: 1.0\n",
      "預測: []\n",
      "正解: []\n",
      "==============================\n",
      "Accuracy: 0.0\n",
      "Precision: 0.0\n",
      "Recall: 0.0\n",
      "Top-5 Recall: 0.0\n",
      "預測: ['SDG4']\n",
      "正解: []\n",
      "==============================\n",
      "Accuracy: 1.0\n",
      "Precision: 1.0\n",
      "Recall: 1.0\n",
      "Top-5 Recall: 1.0\n",
      "預測: []\n",
      "正解: []\n",
      "==============================\n",
      "Accuracy: 1.0\n",
      "Precision: 1.0\n",
      "Recall: 1.0\n",
      "Top-5 Recall: 1.0\n",
      "預測: []\n",
      "正解: []\n",
      "==============================\n",
      "Accuracy: 0.0\n",
      "Precision: 0.0\n",
      "Recall: 0.0\n",
      "Top-5 Recall: 0.0\n",
      "預測: []\n",
      "正解: ['SDG16']\n",
      "==============================\n",
      "Accuracy: 0.0\n",
      "Precision: 0.5\n",
      "Recall: 0.5\n",
      "Top-5 Recall: 0.5\n",
      "預測: ['SDG9', 'SDG11', 'SDG12', 'SDG13']\n",
      "正解: ['SDG1', 'SDG10', 'SDG11', 'SDG12']\n",
      "==============================\n",
      "Accuracy: 0.0\n",
      "Precision: 1.0\n",
      "Recall: 0.5\n",
      "Top-5 Recall: 1.0\n",
      "預測: ['SDG14']\n",
      "正解: ['SDG4', 'SDG14']\n",
      "==============================\n",
      "Accuracy: 0.0\n",
      "Precision: 0.0\n",
      "Recall: 0.0\n",
      "Top-5 Recall: 0.0\n",
      "預測: ['SDG4']\n",
      "正解: []\n",
      "==============================\n",
      "Accuracy: 1.0\n",
      "Precision: 1.0\n",
      "Recall: 1.0\n",
      "Top-5 Recall: 1.0\n",
      "預測: []\n",
      "正解: []\n",
      "==============================\n",
      "Accuracy: 1.0\n",
      "Precision: 1.0\n",
      "Recall: 1.0\n",
      "Top-5 Recall: 1.0\n",
      "預測: []\n",
      "正解: []\n",
      "==============================\n",
      "Accuracy: 0.0\n",
      "Precision: 1.0\n",
      "Recall: 0.8333333730697632\n",
      "Top-5 Recall: 0.8333333730697632\n",
      "預測: ['SDG4', 'SDG6', 'SDG12', 'SDG13', 'SDG15']\n",
      "正解: ['SDG4', 'SDG6', 'SDG11', 'SDG12', 'SDG13', 'SDG15']\n",
      "==============================\n",
      "Accuracy: 1.0\n",
      "Precision: 1.0\n",
      "Recall: 1.0\n",
      "Top-5 Recall: 1.0\n",
      "預測: []\n",
      "正解: []\n",
      "==============================\n",
      "Accuracy: 0.0\n",
      "Precision: 0.6666666865348816\n",
      "Recall: 1.0\n",
      "Top-5 Recall: 1.0\n",
      "預測: ['SDG3', 'SDG5', 'SDG10']\n",
      "正解: ['SDG3', 'SDG5']\n",
      "==============================\n",
      "Accuracy: 1.0\n",
      "Precision: 1.0\n",
      "Recall: 1.0\n",
      "Top-5 Recall: 1.0\n",
      "預測: ['SDG3', 'SDG4', 'SDG8']\n",
      "正解: ['SDG3', 'SDG4', 'SDG8']\n",
      "==============================\n",
      "Accuracy: 1.0\n",
      "Precision: 1.0\n",
      "Recall: 1.0\n",
      "Top-5 Recall: 1.0\n",
      "預測: []\n",
      "正解: []\n",
      "==============================\n",
      "Accuracy: 0.0\n",
      "Precision: 0.6666666865348816\n",
      "Recall: 1.0\n",
      "Top-5 Recall: 1.0\n",
      "預測: ['SDG3', 'SDG4', 'SDG8']\n",
      "正解: ['SDG3', 'SDG8']\n",
      "==============================\n",
      "Accuracy: 1.0\n",
      "Precision: 1.0\n",
      "Recall: 1.0\n",
      "Top-5 Recall: 1.0\n",
      "預測: []\n",
      "正解: []\n",
      "==============================\n",
      "Accuracy: 0.0\n",
      "Precision: 0.0\n",
      "Recall: 0.0\n",
      "Top-5 Recall: 0.0\n",
      "預測: ['SDG4', 'SDG15']\n",
      "正解: []\n",
      "==============================\n",
      "Accuracy: 1.0\n",
      "Precision: 1.0\n",
      "Recall: 1.0\n",
      "Top-5 Recall: 1.0\n",
      "預測: ['SDG3']\n",
      "正解: ['SDG3']\n",
      "==============================\n",
      "Accuracy: 1.0\n",
      "Precision: 1.0\n",
      "Recall: 1.0\n",
      "Top-5 Recall: 1.0\n",
      "預測: []\n",
      "正解: []\n",
      "==============================\n",
      "Accuracy: 1.0\n",
      "Precision: 1.0\n",
      "Recall: 1.0\n",
      "Top-5 Recall: 1.0\n",
      "預測: []\n",
      "正解: []\n",
      "==============================\n",
      "Accuracy: 0.0\n",
      "Precision: 0.3333333432674408\n",
      "Recall: 1.0\n",
      "Top-5 Recall: 1.0\n",
      "預測: ['SDG4', 'SDG12', 'SDG13']\n",
      "正解: ['SDG13']\n",
      "==============================\n",
      "Accuracy: 1.0\n",
      "Precision: 1.0\n",
      "Recall: 1.0\n",
      "Top-5 Recall: 1.0\n",
      "預測: ['SDG3']\n",
      "正解: ['SDG3']\n",
      "==============================\n",
      "Accuracy: 1.0\n",
      "Precision: 1.0\n",
      "Recall: 1.0\n",
      "Top-5 Recall: 1.0\n",
      "預測: ['SDG4']\n",
      "正解: ['SDG4']\n",
      "==============================\n",
      "Accuracy: 1.0\n",
      "Precision: 1.0\n",
      "Recall: 1.0\n",
      "Top-5 Recall: 1.0\n",
      "預測: ['SDG3']\n",
      "正解: ['SDG3']\n",
      "==============================\n",
      "Accuracy: 1.0\n",
      "Precision: 1.0\n",
      "Recall: 1.0\n",
      "Top-5 Recall: 1.0\n",
      "預測: []\n",
      "正解: []\n",
      "==============================\n",
      "Accuracy: 1.0\n",
      "Precision: 1.0\n",
      "Recall: 1.0\n",
      "Top-5 Recall: 1.0\n",
      "預測: ['SDG3', 'SDG4', 'SDG8']\n",
      "正解: ['SDG3', 'SDG4', 'SDG8']\n",
      "==============================\n",
      "Accuracy: 0.0\n",
      "Precision: 0.75\n",
      "Recall: 1.0\n",
      "Top-5 Recall: 1.0\n",
      "預測: ['SDG1', 'SDG5', 'SDG10', 'SDG16']\n",
      "正解: ['SDG1', 'SDG10', 'SDG16']\n",
      "==============================\n",
      "Accuracy: 1.0\n",
      "Precision: 1.0\n",
      "Recall: 1.0\n",
      "Top-5 Recall: 1.0\n",
      "預測: ['SDG4']\n",
      "正解: ['SDG4']\n",
      "==============================\n",
      "Accuracy: 0.0\n",
      "Precision: 1.0\n",
      "Recall: 0.5\n",
      "Top-5 Recall: 1.0\n",
      "預測: ['SDG4']\n",
      "正解: ['SDG4', 'SDG8']\n",
      "==============================\n",
      "Accuracy: 1.0\n",
      "Precision: 1.0\n",
      "Recall: 1.0\n",
      "Top-5 Recall: 1.0\n",
      "預測: ['SDG4']\n",
      "正解: ['SDG4']\n",
      "==============================\n",
      "Accuracy: 1.0\n",
      "Precision: 1.0\n",
      "Recall: 1.0\n",
      "Top-5 Recall: 1.0\n",
      "預測: ['SDG3', 'SDG4', 'SDG8']\n",
      "正解: ['SDG3', 'SDG4', 'SDG8']\n",
      "==============================\n",
      "Accuracy: 0.0\n",
      "Precision: 0.0\n",
      "Recall: 0.0\n",
      "Top-5 Recall: 1.0\n",
      "預測: ['SDG4']\n",
      "正解: ['SDG14']\n",
      "==============================\n",
      "Accuracy: 1.0\n",
      "Precision: 1.0\n",
      "Recall: 1.0\n",
      "Top-5 Recall: 1.0\n",
      "預測: []\n",
      "正解: []\n",
      "==============================\n",
      "Accuracy: 1.0\n",
      "Precision: 1.0\n",
      "Recall: 1.0\n",
      "Top-5 Recall: 1.0\n",
      "預測: []\n",
      "正解: []\n",
      "==============================\n",
      "Accuracy: 1.0\n",
      "Precision: 1.0\n",
      "Recall: 1.0\n",
      "Top-5 Recall: 1.0\n",
      "預測: ['SDG14']\n",
      "正解: ['SDG14']\n",
      "==============================\n",
      "Accuracy: 1.0\n",
      "Precision: 1.0\n",
      "Recall: 1.0\n",
      "Top-5 Recall: 1.0\n",
      "預測: []\n",
      "正解: []\n",
      "==============================\n",
      "Accuracy: 1.0\n",
      "Precision: 1.0\n",
      "Recall: 1.0\n",
      "Top-5 Recall: 1.0\n",
      "預測: ['SDG4']\n",
      "正解: ['SDG4']\n",
      "==============================\n",
      "Accuracy: 1.0\n",
      "Precision: 1.0\n",
      "Recall: 1.0\n",
      "Top-5 Recall: 1.0\n",
      "預測: ['SDG3', 'SDG4', 'SDG8']\n",
      "正解: ['SDG3', 'SDG4', 'SDG8']\n",
      "==============================\n",
      "Accuracy: 1.0\n",
      "Precision: 1.0\n",
      "Recall: 1.0\n",
      "Top-5 Recall: 1.0\n",
      "預測: ['SDG3']\n",
      "正解: ['SDG3']\n",
      "==============================\n",
      "Accuracy: 1.0\n",
      "Precision: 1.0\n",
      "Recall: 1.0\n",
      "Top-5 Recall: 1.0\n",
      "預測: ['SDG3']\n",
      "正解: ['SDG3']\n",
      "==============================\n",
      "Accuracy: 1.0\n",
      "Precision: 1.0\n",
      "Recall: 1.0\n",
      "Top-5 Recall: 1.0\n",
      "預測: []\n",
      "正解: []\n",
      "==============================\n",
      "Accuracy: 1.0\n",
      "Precision: 1.0\n",
      "Recall: 1.0\n",
      "Top-5 Recall: 1.0\n",
      "預測: []\n",
      "正解: []\n",
      "==============================\n",
      "Accuracy: 0.0\n",
      "Precision: 0.3333333432674408\n",
      "Recall: 1.0\n",
      "Top-5 Recall: 1.0\n",
      "預測: ['SDG3', 'SDG4', 'SDG8']\n",
      "正解: ['SDG3']\n",
      "==============================\n",
      "Accuracy: 0.0\n",
      "Precision: 0.0\n",
      "Recall: 0.0\n",
      "Top-5 Recall: 1.0\n",
      "預測: ['SDG15']\n",
      "正解: ['SDG12']\n",
      "==============================\n",
      "Accuracy: 1.0\n",
      "Precision: 1.0\n",
      "Recall: 1.0\n",
      "Top-5 Recall: 1.0\n",
      "預測: ['SDG3']\n",
      "正解: ['SDG3']\n",
      "==============================\n",
      "Accuracy: 1.0\n",
      "Precision: 1.0\n",
      "Recall: 1.0\n",
      "Top-5 Recall: 1.0\n",
      "預測: []\n",
      "正解: []\n",
      "==============================\n",
      "Accuracy: 1.0\n",
      "Precision: 1.0\n",
      "Recall: 1.0\n",
      "Top-5 Recall: 1.0\n",
      "預測: []\n",
      "正解: []\n",
      "==============================\n",
      "Accuracy: 0.0\n",
      "Precision: 0.0\n",
      "Recall: 0.0\n",
      "Top-5 Recall: 0.0\n",
      "預測: []\n",
      "正解: ['SDG4']\n",
      "==============================\n",
      "Accuracy: 1.0\n",
      "Precision: 1.0\n",
      "Recall: 1.0\n",
      "Top-5 Recall: 1.0\n",
      "預測: ['SDG3', 'SDG4', 'SDG8']\n",
      "正解: ['SDG3', 'SDG4', 'SDG8']\n",
      "==============================\n",
      "Accuracy: 1.0\n",
      "Precision: 1.0\n",
      "Recall: 1.0\n",
      "Top-5 Recall: 1.0\n",
      "預測: ['SDG3']\n",
      "正解: ['SDG3']\n",
      "==============================\n",
      "Accuracy: 0.0\n",
      "Precision: 0.0\n",
      "Recall: 0.0\n",
      "Top-5 Recall: 1.0\n",
      "預測: ['SDG15']\n",
      "正解: ['SDG12']\n",
      "==============================\n",
      "Accuracy: 0.0\n",
      "Precision: 0.0\n",
      "Recall: 0.0\n",
      "Top-5 Recall: 0.0\n",
      "預測: []\n",
      "正解: ['SDG4']\n",
      "==============================\n",
      "Accuracy: 1.0\n",
      "Precision: 1.0\n",
      "Recall: 1.0\n",
      "Top-5 Recall: 1.0\n",
      "預測: ['SDG3']\n",
      "正解: ['SDG3']\n",
      "==============================\n",
      "Accuracy: 0.0\n",
      "Precision: 1.0\n",
      "Recall: 0.3333333432674408\n",
      "Top-5 Recall: 1.0\n",
      "預測: ['SDG4']\n",
      "正解: ['SDG3', 'SDG4', 'SDG8']\n",
      "==============================\n",
      "Accuracy: 1.0\n",
      "Precision: 1.0\n",
      "Recall: 1.0\n",
      "Top-5 Recall: 1.0\n",
      "預測: []\n",
      "正解: []\n",
      "==============================\n",
      "Accuracy: 0.0\n",
      "Precision: 1.0\n",
      "Recall: 0.3333333432674408\n",
      "Top-5 Recall: 0.6666666865348816\n",
      "預測: ['SDG3']\n",
      "正解: ['SDG1', 'SDG3', 'SDG10']\n",
      "==============================\n",
      "Accuracy: 1.0\n",
      "Precision: 1.0\n",
      "Recall: 1.0\n",
      "Top-5 Recall: 1.0\n",
      "預測: ['SDG14']\n",
      "正解: ['SDG14']\n",
      "==============================\n",
      "Accuracy: 1.0\n",
      "Precision: 1.0\n",
      "Recall: 1.0\n",
      "Top-5 Recall: 1.0\n",
      "預測: []\n",
      "正解: []\n",
      "==============================\n",
      "Accuracy: 0.0\n",
      "Precision: 0.0\n",
      "Recall: 0.0\n",
      "Top-5 Recall: 0.0\n",
      "預測: ['SDG11']\n",
      "正解: []\n",
      "==============================\n",
      "Accuracy: 0.0\n",
      "Precision: 1.0\n",
      "Recall: 0.3333333432674408\n",
      "Top-5 Recall: 1.0\n",
      "預測: ['SDG3']\n",
      "正解: ['SDG3', 'SDG4', 'SDG8']\n",
      "==============================\n",
      "Accuracy: 1.0\n",
      "Precision: 1.0\n",
      "Recall: 1.0\n",
      "Top-5 Recall: 1.0\n",
      "預測: ['SDG3']\n",
      "正解: ['SDG3']\n",
      "==============================\n",
      "Accuracy: 1.0\n",
      "Precision: 1.0\n",
      "Recall: 1.0\n",
      "Top-5 Recall: 1.0\n",
      "預測: []\n",
      "正解: []\n",
      "==============================\n",
      "Accuracy: 1.0\n",
      "Precision: 1.0\n",
      "Recall: 1.0\n",
      "Top-5 Recall: 1.0\n",
      "預測: ['SDG3']\n",
      "正解: ['SDG3']\n",
      "==============================\n",
      "Accuracy: 0.0\n",
      "Precision: 0.0\n",
      "Recall: 0.0\n",
      "Top-5 Recall: 0.0\n",
      "預測: ['SDG4']\n",
      "正解: []\n",
      "==============================\n",
      "Accuracy: 1.0\n",
      "Precision: 1.0\n",
      "Recall: 1.0\n",
      "Top-5 Recall: 1.0\n",
      "預測: []\n",
      "正解: []\n",
      "==============================\n",
      "Accuracy: 0.0\n",
      "Precision: 0.0\n",
      "Recall: 0.0\n",
      "Top-5 Recall: 0.0\n",
      "預測: []\n",
      "正解: ['SDG4']\n",
      "==============================\n",
      "Accuracy: 1.0\n",
      "Precision: 1.0\n",
      "Recall: 1.0\n",
      "Top-5 Recall: 1.0\n",
      "預測: ['SDG3']\n",
      "正解: ['SDG3']\n",
      "==============================\n",
      "Accuracy: 1.0\n",
      "Precision: 1.0\n",
      "Recall: 1.0\n",
      "Top-5 Recall: 1.0\n",
      "預測: []\n",
      "正解: []\n",
      "==============================\n",
      "Accuracy: 0.0\n",
      "Precision: 1.0\n",
      "Recall: 0.25\n",
      "Top-5 Recall: 0.5\n",
      "預測: ['SDG4']\n",
      "正解: ['SDG2', 'SDG4', 'SDG11', 'SDG15']\n",
      "==============================\n",
      "Accuracy: 1.0\n",
      "Precision: 1.0\n",
      "Recall: 1.0\n",
      "Top-5 Recall: 1.0\n",
      "預測: []\n",
      "正解: []\n",
      "==============================\n",
      "Accuracy: 1.0\n",
      "Precision: 1.0\n",
      "Recall: 1.0\n",
      "Top-5 Recall: 1.0\n",
      "預測: ['SDG4']\n",
      "正解: ['SDG4']\n",
      "==============================\n",
      "Accuracy: 0.0\n",
      "Precision: 0.6666666865348816\n",
      "Recall: 0.6666666865348816\n",
      "Top-5 Recall: 0.6666666865348816\n",
      "預測: ['SDG9', 'SDG11', 'SDG12']\n",
      "正解: ['SDG7', 'SDG9', 'SDG11']\n",
      "==============================\n",
      "Accuracy: 1.0\n",
      "Precision: 1.0\n",
      "Recall: 1.0\n",
      "Top-5 Recall: 1.0\n",
      "預測: []\n",
      "正解: []\n",
      "==============================\n",
      "Accuracy: 0.0\n",
      "Precision: 0.0\n",
      "Recall: 0.0\n",
      "Top-5 Recall: 0.0\n",
      "預測: []\n",
      "正解: ['SDG3']\n",
      "==============================\n",
      "Accuracy: 0.0\n",
      "Precision: 0.25\n",
      "Recall: 1.0\n",
      "Top-5 Recall: 1.0\n",
      "預測: ['SDG1', 'SDG3', 'SDG5', 'SDG10']\n",
      "正解: ['SDG3']\n",
      "==============================\n",
      "Accuracy: 1.0\n",
      "Precision: 1.0\n",
      "Recall: 1.0\n",
      "Top-5 Recall: 1.0\n",
      "預測: ['SDG4', 'SDG8']\n",
      "正解: ['SDG4', 'SDG8']\n",
      "==============================\n",
      "Accuracy: 1.0\n",
      "Precision: 1.0\n",
      "Recall: 1.0\n",
      "Top-5 Recall: 1.0\n",
      "預測: []\n",
      "正解: []\n",
      "==============================\n",
      "Accuracy: 1.0\n",
      "Precision: 1.0\n",
      "Recall: 1.0\n",
      "Top-5 Recall: 1.0\n",
      "預測: []\n",
      "正解: []\n",
      "==============================\n",
      "Accuracy: 1.0\n",
      "Precision: 1.0\n",
      "Recall: 1.0\n",
      "Top-5 Recall: 1.0\n",
      "預測: ['SDG4']\n",
      "正解: ['SDG4']\n",
      "==============================\n",
      "Accuracy: 1.0\n",
      "Precision: 1.0\n",
      "Recall: 1.0\n",
      "Top-5 Recall: 1.0\n",
      "預測: []\n",
      "正解: []\n",
      "==============================\n",
      "Accuracy: 1.0\n",
      "Precision: 1.0\n",
      "Recall: 1.0\n",
      "Top-5 Recall: 1.0\n",
      "預測: ['SDG4', 'SDG8']\n",
      "正解: ['SDG4', 'SDG8']\n",
      "==============================\n",
      "Accuracy: 1.0\n",
      "Precision: 1.0\n",
      "Recall: 1.0\n",
      "Top-5 Recall: 1.0\n",
      "預測: []\n",
      "正解: []\n",
      "==============================\n"
     ]
    },
    {
     "name": "stdout",
     "output_type": "stream",
     "text": [
      "Accuracy: 1.0\n",
      "Precision: 1.0\n",
      "Recall: 1.0\n",
      "Top-5 Recall: 1.0\n",
      "預測: ['SDG4']\n",
      "正解: ['SDG4']\n",
      "==============================\n",
      "Accuracy: 1.0\n",
      "Precision: 1.0\n",
      "Recall: 1.0\n",
      "Top-5 Recall: 1.0\n",
      "預測: []\n",
      "正解: []\n",
      "==============================\n",
      "Accuracy: 0.0\n",
      "Precision: 0.0\n",
      "Recall: 0.0\n",
      "Top-5 Recall: 0.5\n",
      "預測: ['SDG4']\n",
      "正解: ['SDG11', 'SDG12']\n",
      "==============================\n",
      "Accuracy: 1.0\n",
      "Precision: 1.0\n",
      "Recall: 1.0\n",
      "Top-5 Recall: 1.0\n",
      "預測: ['SDG3']\n",
      "正解: ['SDG3']\n",
      "==============================\n",
      "Accuracy: 0.0\n",
      "Precision: 0.0\n",
      "Recall: 0.0\n",
      "Top-5 Recall: 0.0\n",
      "預測: []\n",
      "正解: ['SDG3']\n",
      "==============================\n",
      "Accuracy: 1.0\n",
      "Precision: 1.0\n",
      "Recall: 1.0\n",
      "Top-5 Recall: 1.0\n",
      "預測: []\n",
      "正解: []\n",
      "==============================\n",
      "Accuracy: 1.0\n",
      "Precision: 1.0\n",
      "Recall: 1.0\n",
      "Top-5 Recall: 1.0\n",
      "預測: []\n",
      "正解: []\n",
      "==============================\n",
      "Accuracy: 1.0\n",
      "Precision: 1.0\n",
      "Recall: 1.0\n",
      "Top-5 Recall: 1.0\n",
      "預測: []\n",
      "正解: []\n",
      "==============================\n",
      "Accuracy: 0.0\n",
      "Precision: 0.0\n",
      "Recall: 0.0\n",
      "Top-5 Recall: 0.0\n",
      "預測: ['SDG4']\n",
      "正解: []\n",
      "==============================\n",
      "Accuracy: 0.0\n",
      "Precision: 1.0\n",
      "Recall: 0.5\n",
      "Top-5 Recall: 1.0\n",
      "預測: ['SDG4']\n",
      "正解: ['SDG4', 'SDG8']\n",
      "==============================\n",
      "Accuracy: 0.0\n",
      "Precision: 0.5\n",
      "Recall: 0.25\n",
      "Top-5 Recall: 0.5\n",
      "預測: ['SDG8', 'SDG16']\n",
      "正解: ['SDG8', 'SDG9', 'SDG10', 'SDG12']\n",
      "==============================\n",
      "Accuracy: 0.0\n",
      "Precision: 1.0\n",
      "Recall: 0.5\n",
      "Top-5 Recall: 0.8333333730697632\n",
      "預測: ['SDG4', 'SDG12', 'SDG15']\n",
      "正解: ['SDG4', 'SDG6', 'SDG11', 'SDG12', 'SDG13', 'SDG15']\n",
      "==============================\n",
      "Accuracy: 1.0\n",
      "Precision: 1.0\n",
      "Recall: 1.0\n",
      "Top-5 Recall: 1.0\n",
      "預測: []\n",
      "正解: []\n",
      "==============================\n",
      "Accuracy: 1.0\n",
      "Precision: 1.0\n",
      "Recall: 1.0\n",
      "Top-5 Recall: 1.0\n",
      "預測: []\n",
      "正解: []\n",
      "==============================\n",
      "Accuracy: 1.0\n",
      "Precision: 1.0\n",
      "Recall: 1.0\n",
      "Top-5 Recall: 1.0\n",
      "預測: ['SDG3', 'SDG4', 'SDG8']\n",
      "正解: ['SDG3', 'SDG4', 'SDG8']\n",
      "==============================\n",
      "Accuracy: 0.0\n",
      "Precision: 1.0\n",
      "Recall: 0.5\n",
      "Top-5 Recall: 1.0\n",
      "預測: ['SDG3']\n",
      "正解: ['SDG3', 'SDG5']\n",
      "==============================\n",
      "Accuracy: 1.0\n",
      "Precision: 1.0\n",
      "Recall: 1.0\n",
      "Top-5 Recall: 1.0\n",
      "預測: []\n",
      "正解: []\n",
      "==============================\n",
      "Accuracy: 1.0\n",
      "Precision: 1.0\n",
      "Recall: 1.0\n",
      "Top-5 Recall: 1.0\n",
      "預測: ['SDG4']\n",
      "正解: ['SDG4']\n",
      "==============================\n",
      "Accuracy: 1.0\n",
      "Precision: 1.0\n",
      "Recall: 1.0\n",
      "Top-5 Recall: 1.0\n",
      "預測: ['SDG3', 'SDG4', 'SDG8']\n",
      "正解: ['SDG3', 'SDG4', 'SDG8']\n",
      "==============================\n",
      "Accuracy: 1.0\n",
      "Precision: 1.0\n",
      "Recall: 1.0\n",
      "Top-5 Recall: 1.0\n",
      "預測: []\n",
      "正解: []\n",
      "==============================\n",
      "Accuracy: 0.0\n",
      "Precision: 0.75\n",
      "Recall: 1.0\n",
      "Top-5 Recall: 1.0\n",
      "預測: ['SDG1', 'SDG5', 'SDG10', 'SDG16']\n",
      "正解: ['SDG1', 'SDG10', 'SDG16']\n",
      "==============================\n",
      "Accuracy: 1.0\n",
      "Precision: 1.0\n",
      "Recall: 1.0\n",
      "Top-5 Recall: 1.0\n",
      "預測: []\n",
      "正解: []\n",
      "==============================\n",
      "Accuracy: 1.0\n",
      "Precision: 1.0\n",
      "Recall: 1.0\n",
      "Top-5 Recall: 1.0\n",
      "預測: ['SDG4']\n",
      "正解: ['SDG4']\n",
      "==============================\n",
      "Accuracy: 1.0\n",
      "Precision: 1.0\n",
      "Recall: 1.0\n",
      "Top-5 Recall: 1.0\n",
      "預測: []\n",
      "正解: []\n",
      "==============================\n",
      "Accuracy: 1.0\n",
      "Precision: 1.0\n",
      "Recall: 1.0\n",
      "Top-5 Recall: 1.0\n",
      "預測: []\n",
      "正解: []\n",
      "==============================\n",
      "Accuracy: 0.0\n",
      "Precision: 0.0\n",
      "Recall: 0.0\n",
      "Top-5 Recall: 0.0\n",
      "預測: ['SDG4', 'SDG12']\n",
      "正解: []\n",
      "==============================\n",
      "Accuracy: 1.0\n",
      "Precision: 1.0\n",
      "Recall: 1.0\n",
      "Top-5 Recall: 1.0\n",
      "預測: []\n",
      "正解: []\n",
      "==============================\n",
      "Accuracy: 0.0\n",
      "Precision: 0.5\n",
      "Recall: 0.25\n",
      "Top-5 Recall: 0.5\n",
      "預測: ['SDG6', 'SDG15']\n",
      "正解: ['SDG4', 'SDG6', 'SDG11', 'SDG12']\n",
      "==============================\n",
      "Accuracy: 0.0\n",
      "Precision: 0.0\n",
      "Recall: 0.0\n",
      "Top-5 Recall: 0.0\n",
      "預測: []\n",
      "正解: ['SDG4']\n",
      "==============================\n",
      "Accuracy: 0.0\n",
      "Precision: 0.6666666865348816\n",
      "Recall: 0.5\n",
      "Top-5 Recall: 0.75\n",
      "預測: ['SDG3', 'SDG8', 'SDG10']\n",
      "正解: ['SDG1', 'SDG3', 'SDG4', 'SDG10']\n",
      "==============================\n",
      "Accuracy: 0.0\n",
      "Precision: 0.75\n",
      "Recall: 1.0\n",
      "Top-5 Recall: 1.0\n",
      "預測: ['SDG4', 'SDG8', 'SDG11', 'SDG12']\n",
      "正解: ['SDG4', 'SDG11', 'SDG12']\n",
      "==============================\n",
      "Accuracy: 0.0\n",
      "Precision: 1.0\n",
      "Recall: 0.5\n",
      "Top-5 Recall: 1.0\n",
      "預測: ['SDG4']\n",
      "正解: ['SDG3', 'SDG4']\n",
      "==============================\n",
      "Accuracy: 1.0\n",
      "Precision: 1.0\n",
      "Recall: 1.0\n",
      "Top-5 Recall: 1.0\n",
      "預測: ['SDG3', 'SDG4', 'SDG8']\n",
      "正解: ['SDG3', 'SDG4', 'SDG8']\n",
      "==============================\n",
      "Accuracy: 0.0\n",
      "Precision: 0.0\n",
      "Recall: 0.0\n",
      "Top-5 Recall: 0.0\n",
      "預測: ['SDG4']\n",
      "正解: []\n",
      "==============================\n",
      "Accuracy: 0.0\n",
      "Precision: 0.5\n",
      "Recall: 1.0\n",
      "Top-5 Recall: 1.0\n",
      "預測: ['SDG4', 'SDG14']\n",
      "正解: ['SDG14']\n",
      "==============================\n",
      "Accuracy: 1.0\n",
      "Precision: 1.0\n",
      "Recall: 1.0\n",
      "Top-5 Recall: 1.0\n",
      "預測: []\n",
      "正解: []\n",
      "==============================\n",
      "Accuracy: 1.0\n",
      "Precision: 1.0\n",
      "Recall: 1.0\n",
      "Top-5 Recall: 1.0\n",
      "預測: ['SDG3']\n",
      "正解: ['SDG3']\n",
      "==============================\n",
      "Accuracy: 0.0\n",
      "Precision: 0.3333333432674408\n",
      "Recall: 0.3333333432674408\n",
      "Top-5 Recall: 0.6666666865348816\n",
      "預測: ['SDG3', 'SDG5', 'SDG10']\n",
      "正解: ['SDG1', 'SDG10', 'SDG17']\n",
      "==============================\n",
      "Accuracy: 1.0\n",
      "Precision: 1.0\n",
      "Recall: 1.0\n",
      "Top-5 Recall: 1.0\n",
      "預測: []\n",
      "正解: []\n",
      "==============================\n",
      "Accuracy: 0.0\n",
      "Precision: 0.6666666865348816\n",
      "Recall: 1.0\n",
      "Top-5 Recall: 1.0\n",
      "預測: ['SDG3', 'SDG4', 'SDG8']\n",
      "正解: ['SDG4', 'SDG8']\n",
      "==============================\n",
      "Accuracy: 0.0\n",
      "Precision: 1.0\n",
      "Recall: 0.625\n",
      "Top-5 Recall: 0.625\n",
      "預測: ['SDG7', 'SDG9', 'SDG11', 'SDG12', 'SDG17']\n",
      "正解: ['SDG2', 'SDG6', 'SDG7', 'SDG8', 'SDG9', 'SDG11', 'SDG12', 'SDG17']\n",
      "==============================\n",
      "Accuracy: 1.0\n",
      "Precision: 1.0\n",
      "Recall: 1.0\n",
      "Top-5 Recall: 1.0\n",
      "預測: ['SDG4']\n",
      "正解: ['SDG4']\n",
      "==============================\n",
      "Accuracy: 1.0\n",
      "Precision: 1.0\n",
      "Recall: 1.0\n",
      "Top-5 Recall: 1.0\n",
      "預測: []\n",
      "正解: []\n",
      "==============================\n",
      "Accuracy: 1.0\n",
      "Precision: 1.0\n",
      "Recall: 1.0\n",
      "Top-5 Recall: 1.0\n",
      "預測: []\n",
      "正解: []\n",
      "==============================\n",
      "Accuracy: 1.0\n",
      "Precision: 1.0\n",
      "Recall: 1.0\n",
      "Top-5 Recall: 1.0\n",
      "預測: ['SDG14']\n",
      "正解: ['SDG14']\n",
      "==============================\n",
      "Accuracy: 1.0\n",
      "Precision: 1.0\n",
      "Recall: 1.0\n",
      "Top-5 Recall: 1.0\n",
      "預測: ['SDG3', 'SDG4', 'SDG8']\n",
      "正解: ['SDG3', 'SDG4', 'SDG8']\n",
      "==============================\n",
      "Accuracy: 1.0\n",
      "Precision: 1.0\n",
      "Recall: 1.0\n",
      "Top-5 Recall: 1.0\n",
      "預測: []\n",
      "正解: []\n",
      "==============================\n",
      "Accuracy: 0.0\n",
      "Precision: 1.0\n",
      "Recall: 0.5\n",
      "Top-5 Recall: 0.5\n",
      "預測: ['SDG4']\n",
      "正解: ['SDG4', 'SDG13']\n",
      "==============================\n",
      "Accuracy: 1.0\n",
      "Precision: 1.0\n",
      "Recall: 1.0\n",
      "Top-5 Recall: 1.0\n",
      "預測: []\n",
      "正解: []\n",
      "==============================\n",
      "Accuracy: 0.0\n",
      "Precision: 0.0\n",
      "Recall: 0.0\n",
      "Top-5 Recall: 0.0\n",
      "預測: []\n",
      "正解: ['SDG2']\n",
      "==============================\n",
      "Accuracy: 0.0\n",
      "Precision: 0.0\n",
      "Recall: 0.0\n",
      "Top-5 Recall: 0.0\n",
      "預測: []\n",
      "正解: ['SDG4']\n",
      "==============================\n",
      "Accuracy: 1.0\n",
      "Precision: 1.0\n",
      "Recall: 1.0\n",
      "Top-5 Recall: 1.0\n",
      "預測: []\n",
      "正解: []\n",
      "==============================\n",
      "Accuracy: 1.0\n",
      "Precision: 1.0\n",
      "Recall: 1.0\n",
      "Top-5 Recall: 1.0\n",
      "預測: []\n",
      "正解: []\n",
      "==============================\n",
      "Accuracy: 0.0\n",
      "Precision: 0.5\n",
      "Recall: 1.0\n",
      "Top-5 Recall: 1.0\n",
      "預測: ['SDG3', 'SDG4']\n",
      "正解: ['SDG3']\n",
      "==============================\n",
      "Accuracy: 0.0\n",
      "Precision: 0.0\n",
      "Recall: 0.0\n",
      "Top-5 Recall: 0.0\n",
      "預測: ['SDG4']\n",
      "正解: []\n",
      "==============================\n",
      "Accuracy: 1.0\n",
      "Precision: 1.0\n",
      "Recall: 1.0\n",
      "Top-5 Recall: 1.0\n",
      "預測: []\n",
      "正解: []\n",
      "==============================\n",
      "Accuracy: 1.0\n",
      "Precision: 1.0\n",
      "Recall: 1.0\n",
      "Top-5 Recall: 1.0\n",
      "預測: []\n",
      "正解: []\n",
      "==============================\n",
      "Accuracy: 0.0\n",
      "Precision: 0.5\n",
      "Recall: 0.25\n",
      "Top-5 Recall: 1.0\n",
      "預測: ['SDG3', 'SDG12']\n",
      "正解: ['SDG3', 'SDG4', 'SDG8', 'SDG11']\n",
      "==============================\n",
      "Accuracy: 1.0\n",
      "Precision: 1.0\n",
      "Recall: 1.0\n",
      "Top-5 Recall: 1.0\n",
      "預測: []\n",
      "正解: []\n",
      "==============================\n",
      "Accuracy: 0.0\n",
      "Precision: 0.0\n",
      "Recall: 0.0\n",
      "Top-5 Recall: 0.0\n",
      "預測: []\n",
      "正解: ['SDG7']\n",
      "==============================\n",
      "Accuracy: 1.0\n",
      "Precision: 1.0\n",
      "Recall: 1.0\n",
      "Top-5 Recall: 1.0\n",
      "預測: ['SDG3', 'SDG4', 'SDG8']\n",
      "正解: ['SDG3', 'SDG4', 'SDG8']\n",
      "==============================\n",
      "Accuracy: 0.0\n",
      "Precision: 1.0\n",
      "Recall: 0.5\n",
      "Top-5 Recall: 0.5\n",
      "預測: ['SDG16']\n",
      "正解: ['SDG16', 'SDG17']\n",
      "==============================\n",
      "Accuracy: 1.0\n",
      "Precision: 1.0\n",
      "Recall: 1.0\n",
      "Top-5 Recall: 1.0\n",
      "預測: ['SDG4']\n",
      "正解: ['SDG4']\n",
      "==============================\n",
      "Accuracy: 0.0\n",
      "Precision: 0.6666666865348816\n",
      "Recall: 0.5\n",
      "Top-5 Recall: 1.0\n",
      "預測: ['SDG3', 'SDG5', 'SDG10']\n",
      "正解: ['SDG3', 'SDG4', 'SDG5', 'SDG8']\n",
      "==============================\n",
      "Accuracy: 0.0\n",
      "Precision: 1.0\n",
      "Recall: 0.5\n",
      "Top-5 Recall: 1.0\n",
      "預測: ['SDG11']\n",
      "正解: ['SDG1', 'SDG11']\n",
      "==============================\n",
      "Accuracy: 0.0\n",
      "Precision: 1.0\n",
      "Recall: 0.5\n",
      "Top-5 Recall: 0.5\n",
      "預測: ['SDG6']\n",
      "正解: ['SDG6', 'SDG9']\n",
      "==============================\n",
      "Accuracy: 1.0\n",
      "Precision: 1.0\n",
      "Recall: 1.0\n",
      "Top-5 Recall: 1.0\n",
      "預測: ['SDG4']\n",
      "正解: ['SDG4']\n",
      "==============================\n",
      "Accuracy: 1.0\n",
      "Precision: 1.0\n",
      "Recall: 1.0\n",
      "Top-5 Recall: 1.0\n",
      "預測: []\n",
      "正解: []\n",
      "==============================\n",
      "Accuracy: 1.0\n",
      "Precision: 1.0\n",
      "Recall: 1.0\n",
      "Top-5 Recall: 1.0\n",
      "預測: []\n",
      "正解: []\n",
      "==============================\n",
      "Accuracy: 1.0\n",
      "Precision: 1.0\n",
      "Recall: 1.0\n",
      "Top-5 Recall: 1.0\n",
      "預測: ['SDG3', 'SDG4', 'SDG8']\n",
      "正解: ['SDG3', 'SDG4', 'SDG8']\n",
      "==============================\n",
      "Accuracy: 1.0\n",
      "Precision: 1.0\n",
      "Recall: 1.0\n",
      "Top-5 Recall: 1.0\n",
      "預測: ['SDG3']\n",
      "正解: ['SDG3']\n",
      "==============================\n",
      "Accuracy: 1.0\n",
      "Precision: 1.0\n",
      "Recall: 1.0\n",
      "Top-5 Recall: 1.0\n",
      "預測: ['SDG14']\n",
      "正解: ['SDG14']\n",
      "==============================\n",
      "Accuracy: 1.0\n",
      "Precision: 1.0\n",
      "Recall: 1.0\n",
      "Top-5 Recall: 1.0\n",
      "預測: []\n",
      "正解: []\n",
      "==============================\n",
      "Accuracy: 1.0\n",
      "Precision: 1.0\n",
      "Recall: 1.0\n",
      "Top-5 Recall: 1.0\n",
      "預測: ['SDG3', 'SDG4', 'SDG8']\n",
      "正解: ['SDG3', 'SDG4', 'SDG8']\n",
      "==============================\n",
      "Accuracy: 0.0\n",
      "Precision: 0.0\n",
      "Recall: 0.0\n",
      "Top-5 Recall: 0.0\n",
      "預測: ['SDG4']\n",
      "正解: ['SDG16']\n",
      "==============================\n",
      "Accuracy: 1.0\n",
      "Precision: 1.0\n",
      "Recall: 1.0\n",
      "Top-5 Recall: 1.0\n",
      "預測: ['SDG3']\n",
      "正解: ['SDG3']\n",
      "==============================\n",
      "Accuracy: 1.0\n",
      "Precision: 1.0\n",
      "Recall: 1.0\n",
      "Top-5 Recall: 1.0\n",
      "預測: []\n",
      "正解: []\n",
      "==============================\n",
      "Accuracy: 1.0\n",
      "Precision: 1.0\n",
      "Recall: 1.0\n",
      "Top-5 Recall: 1.0\n",
      "預測: ['SDG4']\n",
      "正解: ['SDG4']\n",
      "==============================\n",
      "Accuracy: 0.0\n",
      "Precision: 0.5\n",
      "Recall: 0.5\n",
      "Top-5 Recall: 1.0\n",
      "預測: ['SDG3', 'SDG4']\n",
      "正解: ['SDG3', 'SDG10']\n",
      "==============================\n",
      "Accuracy: 0.0\n",
      "Precision: 0.0\n",
      "Recall: 0.0\n",
      "Top-5 Recall: 1.0\n",
      "預測: ['SDG4']\n",
      "正解: ['SDG3']\n",
      "==============================\n",
      "Accuracy: 1.0\n",
      "Precision: 1.0\n",
      "Recall: 1.0\n",
      "Top-5 Recall: 1.0\n",
      "預測: []\n",
      "正解: []\n",
      "==============================\n",
      "Accuracy: 1.0\n",
      "Precision: 1.0\n",
      "Recall: 1.0\n",
      "Top-5 Recall: 1.0\n",
      "預測: ['SDG4']\n",
      "正解: ['SDG4']\n",
      "==============================\n",
      "Accuracy: 1.0\n",
      "Precision: 1.0\n",
      "Recall: 1.0\n",
      "Top-5 Recall: 1.0\n",
      "預測: []\n",
      "正解: []\n",
      "==============================\n"
     ]
    },
    {
     "name": "stdout",
     "output_type": "stream",
     "text": [
      "Accuracy: 0.0\n",
      "Precision: 1.0\n",
      "Recall: 0.6666666865348816\n",
      "Top-5 Recall: 1.0\n",
      "預測: ['SDG4', 'SDG11']\n",
      "正解: ['SDG4', 'SDG11', 'SDG12']\n",
      "==============================\n",
      "Accuracy: 1.0\n",
      "Precision: 1.0\n",
      "Recall: 1.0\n",
      "Top-5 Recall: 1.0\n",
      "預測: ['SDG4']\n",
      "正解: ['SDG4']\n",
      "==============================\n",
      "Accuracy: 1.0\n",
      "Precision: 1.0\n",
      "Recall: 1.0\n",
      "Top-5 Recall: 1.0\n",
      "預測: []\n",
      "正解: []\n",
      "==============================\n",
      "Accuracy: 0.0\n",
      "Precision: 1.0\n",
      "Recall: 0.3333333432674408\n",
      "Top-5 Recall: 1.0\n",
      "預測: ['SDG3']\n",
      "正解: ['SDG3', 'SDG4', 'SDG8']\n",
      "==============================\n",
      "Accuracy: 0.0\n",
      "Precision: 0.5\n",
      "Recall: 0.6666666865348816\n",
      "Top-5 Recall: 0.6666666865348816\n",
      "預測: ['SDG3', 'SDG4', 'SDG6', 'SDG12']\n",
      "正解: ['SDG6', 'SDG12', 'SDG15']\n",
      "==============================\n",
      "Accuracy: 1.0\n",
      "Precision: 1.0\n",
      "Recall: 1.0\n",
      "Top-5 Recall: 1.0\n",
      "預測: ['SDG3', 'SDG4', 'SDG8']\n",
      "正解: ['SDG3', 'SDG4', 'SDG8']\n",
      "==============================\n",
      "Accuracy: 0.0\n",
      "Precision: 0.0\n",
      "Recall: 0.0\n",
      "Top-5 Recall: 1.0\n",
      "預測: ['SDG11']\n",
      "正解: ['SDG4']\n",
      "==============================\n",
      "Accuracy: 1.0\n",
      "Precision: 1.0\n",
      "Recall: 1.0\n",
      "Top-5 Recall: 1.0\n",
      "預測: ['SDG4']\n",
      "正解: ['SDG4']\n",
      "==============================\n",
      "Accuracy: 0.0\n",
      "Precision: 0.5714285969734192\n",
      "Recall: 1.0\n",
      "Top-5 Recall: 1.0\n",
      "預測: ['SDG3', 'SDG4', 'SDG6', 'SDG7', 'SDG12', 'SDG13', 'SDG17']\n",
      "正解: ['SDG4', 'SDG7', 'SDG12', 'SDG13']\n",
      "==============================\n",
      "Accuracy: 1.0\n",
      "Precision: 1.0\n",
      "Recall: 1.0\n",
      "Top-5 Recall: 1.0\n",
      "預測: []\n",
      "正解: []\n",
      "==============================\n",
      "Accuracy: 1.0\n",
      "Precision: 1.0\n",
      "Recall: 1.0\n",
      "Top-5 Recall: 1.0\n",
      "預測: ['SDG3', 'SDG4', 'SDG8']\n",
      "正解: ['SDG3', 'SDG4', 'SDG8']\n",
      "==============================\n",
      "Accuracy: 1.0\n",
      "Precision: 1.0\n",
      "Recall: 1.0\n",
      "Top-5 Recall: 1.0\n",
      "預測: ['SDG3', 'SDG4', 'SDG8']\n",
      "正解: ['SDG3', 'SDG4', 'SDG8']\n",
      "==============================\n",
      "Accuracy: 1.0\n",
      "Precision: 1.0\n",
      "Recall: 1.0\n",
      "Top-5 Recall: 1.0\n",
      "預測: ['SDG4', 'SDG8']\n",
      "正解: ['SDG4', 'SDG8']\n",
      "==============================\n",
      "Accuracy: 1.0\n",
      "Precision: 1.0\n",
      "Recall: 1.0\n",
      "Top-5 Recall: 1.0\n",
      "預測: []\n",
      "正解: []\n",
      "==============================\n",
      "Accuracy: 0.0\n",
      "Precision: 0.0\n",
      "Recall: 0.0\n",
      "Top-5 Recall: 0.0\n",
      "預測: []\n",
      "正解: ['SDG1', 'SDG8', 'SDG10', 'SDG16']\n",
      "==============================\n",
      "Accuracy: 1.0\n",
      "Precision: 1.0\n",
      "Recall: 1.0\n",
      "Top-5 Recall: 1.0\n",
      "預測: ['SDG4']\n",
      "正解: ['SDG4']\n",
      "==============================\n",
      "Accuracy: 0.0\n",
      "Precision: 0.25\n",
      "Recall: 0.3333333432674408\n",
      "Top-5 Recall: 0.3333333432674408\n",
      "預測: ['SDG1', 'SDG3', 'SDG11', 'SDG17']\n",
      "正解: ['SDG4', 'SDG12', 'SDG17']\n",
      "==============================\n",
      "Accuracy: 1.0\n",
      "Precision: 1.0\n",
      "Recall: 1.0\n",
      "Top-5 Recall: 1.0\n",
      "預測: []\n",
      "正解: []\n",
      "==============================\n",
      "Accuracy: 1.0\n",
      "Precision: 1.0\n",
      "Recall: 1.0\n",
      "Top-5 Recall: 1.0\n",
      "預測: ['SDG3']\n",
      "正解: ['SDG3']\n",
      "==============================\n",
      "Accuracy: 1.0\n",
      "Precision: 1.0\n",
      "Recall: 1.0\n",
      "Top-5 Recall: 1.0\n",
      "預測: []\n",
      "正解: []\n",
      "==============================\n",
      "Accuracy: 0.0\n",
      "Precision: 0.5\n",
      "Recall: 0.5\n",
      "Top-5 Recall: 0.5\n",
      "預測: ['SDG3', 'SDG10']\n",
      "正解: ['SDG3', 'SDG16']\n",
      "==============================\n",
      "Accuracy: 0.0\n",
      "Precision: 0.0\n",
      "Recall: 0.0\n",
      "Top-5 Recall: 0.0\n",
      "預測: []\n",
      "正解: ['SDG4', 'SDG8']\n",
      "==============================\n",
      "Accuracy: 1.0\n",
      "Precision: 1.0\n",
      "Recall: 1.0\n",
      "Top-5 Recall: 1.0\n",
      "預測: []\n",
      "正解: []\n",
      "==============================\n",
      "Accuracy: 1.0\n",
      "Precision: 1.0\n",
      "Recall: 1.0\n",
      "Top-5 Recall: 1.0\n",
      "預測: ['SDG3']\n",
      "正解: ['SDG3']\n",
      "==============================\n",
      "Accuracy: 1.0\n",
      "Precision: 1.0\n",
      "Recall: 1.0\n",
      "Top-5 Recall: 1.0\n",
      "預測: []\n",
      "正解: []\n",
      "==============================\n",
      "Accuracy: 1.0\n",
      "Precision: 1.0\n",
      "Recall: 1.0\n",
      "Top-5 Recall: 1.0\n",
      "預測: []\n",
      "正解: []\n",
      "==============================\n",
      "Accuracy: 1.0\n",
      "Precision: 1.0\n",
      "Recall: 1.0\n",
      "Top-5 Recall: 1.0\n",
      "預測: []\n",
      "正解: []\n",
      "==============================\n",
      "Accuracy: 0.0\n",
      "Precision: 0.0\n",
      "Recall: 0.0\n",
      "Top-5 Recall: 0.0\n",
      "預測: ['SDG4']\n",
      "正解: []\n",
      "==============================\n",
      "Accuracy: 0.0\n",
      "Precision: 0.0\n",
      "Recall: 0.0\n",
      "Top-5 Recall: 0.0\n",
      "預測: []\n",
      "正解: ['SDG11']\n",
      "==============================\n",
      "Accuracy: 1.0\n",
      "Precision: 1.0\n",
      "Recall: 1.0\n",
      "Top-5 Recall: 1.0\n",
      "預測: []\n",
      "正解: []\n",
      "==============================\n"
     ]
    }
   ],
   "source": [
    "accuracy_res, precision_res, recall_res, topk_recall_res, y_pred_list, y_true_list = evaluate(model)"
   ]
  },
  {
   "cell_type": "code",
   "execution_count": 47,
   "id": "olive-peace",
   "metadata": {},
   "outputs": [],
   "source": [
    "f1_res = f1(precision_res, recall_res)"
   ]
  },
  {
   "cell_type": "code",
   "execution_count": 48,
   "id": "vulnerable-danger",
   "metadata": {},
   "outputs": [
    {
     "name": "stdout",
     "output_type": "stream",
     "text": [
      "Validation Data 結果:\n",
      "Accuracy:  0.628\n",
      "Precision:  0.766\n",
      "Recall:  0.757\n",
      "Top-5 Recall:  0.811\n",
      "F1-score:  0.761\n"
     ]
    }
   ],
   "source": [
    "# 最終結果\n",
    "print(\"Validation Data 結果:\")\n",
    "print(f\"Accuracy: {accuracy_res: .3f}\")\n",
    "print(f\"Precision: {precision_res: .3f}\")\n",
    "print(f\"Recall: {recall_res: .3f}\")\n",
    "print(f\"Top-5 Recall: {topk_recall_res: .3f}\")\n",
    "print(f\"F1-score: {f1_res: .3f}\")"
   ]
  },
  {
   "cell_type": "code",
   "execution_count": 49,
   "id": "absolute-novelty",
   "metadata": {},
   "outputs": [],
   "source": [
    "# 目前最佳結果\n",
    "# Accuracy:  0.628\n",
    "# Precision:  0.766\n",
    "# Recall:  0.757\n",
    "# Top-5 Recall:  0.811\n",
    "# F1-score:  0.761"
   ]
  }
 ],
 "metadata": {
  "kernelspec": {
   "display_name": "kuokuo_env",
   "language": "python",
   "name": "kuokuo_env"
  },
  "language_info": {
   "codemirror_mode": {
    "name": "ipython",
    "version": 3
   },
   "file_extension": ".py",
   "mimetype": "text/x-python",
   "name": "python",
   "nbconvert_exporter": "python",
   "pygments_lexer": "ipython3",
   "version": "3.6.9"
  },
  "toc": {
   "base_numbering": 1,
   "nav_menu": {},
   "number_sections": true,
   "sideBar": true,
   "skip_h1_title": false,
   "title_cell": "Table of Contents",
   "title_sidebar": "Contents",
   "toc_cell": false,
   "toc_position": {},
   "toc_section_display": true,
   "toc_window_display": true
  }
 },
 "nbformat": 4,
 "nbformat_minor": 5
}
